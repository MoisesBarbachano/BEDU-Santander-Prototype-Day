{
 "metadata": {
  "language_info": {
   "codemirror_mode": {
    "name": "ipython",
    "version": 3
   },
   "file_extension": ".py",
   "mimetype": "text/x-python",
   "name": "python",
   "nbconvert_exporter": "python",
   "pygments_lexer": "ipython3",
   "version": "3.9.5"
  },
  "orig_nbformat": 2,
  "kernelspec": {
   "name": "python395jvsc74a57bd02097b8de0cf559b99a541878d948e75eb032eda4087ac9e140bfcd448ac40ac5",
   "display_name": "Python 3.9.5 64-bit (windows store)"
  },
  "metadata": {
   "interpreter": {
    "hash": "2097b8de0cf559b99a541878d948e75eb032eda4087ac9e140bfcd448ac40ac5"
   }
  }
 },
 "nbformat": 4,
 "nbformat_minor": 2,
 "cells": [
  {
   "source": [
    "Este notebook utiliza los archivos de la carpeta \"dataset\" y un archivo de la carpeta \"translation\" el cual fue generado previamente utilizando el servicio de \"Translation\" de Google Cloud Platform."
   ],
   "cell_type": "markdown",
   "metadata": {}
  },
  {
   "cell_type": "code",
   "execution_count": 1,
   "metadata": {},
   "outputs": [],
   "source": [
    "import pandas as pd\n",
    "import numpy as np\n",
    "from math import sin, cos, sqrt, atan2, radians"
   ]
  },
  {
   "cell_type": "code",
   "execution_count": 2,
   "metadata": {},
   "outputs": [],
   "source": [
    "df_customers = pd.read_csv(\"dataset/olist_customers_dataset.csv\")\n",
    "df_geolocation = pd.read_csv(\"dataset/olist_geolocation_dataset.csv\")\n",
    "df_order_items = pd.read_csv(\"dataset/olist_order_items_dataset.csv\")\n",
    "df_order_payments = pd.read_csv(\"dataset/olist_order_payments_dataset.csv\")\n",
    "df_order_reviews_with_traduction = pd.read_csv(\"translation/olist_order_reviews_with_translation_dataset.csv\")\n",
    "df_orders = pd.read_csv(\"dataset/olist_orders_dataset.csv\")\n",
    "df_products = pd.read_csv(\"dataset/olist_products_dataset.csv\")\n",
    "df_sellers = pd.read_csv(\"dataset/olist_sellers_dataset.csv\")\n",
    "df_category_name_translation = pd.read_csv(\"dataset/product_category_name_translation.csv\")"
   ]
  },
  {
   "source": [
    "# Preprocesamiento"
   ],
   "cell_type": "markdown",
   "metadata": {}
  },
  {
   "cell_type": "code",
   "execution_count": 3,
   "metadata": {},
   "outputs": [
    {
     "output_type": "stream",
     "name": "stdout",
     "text": [
      "(112650, 7)\n"
     ]
    },
    {
     "output_type": "execute_result",
     "data": {
      "text/plain": [
       "                           order_id  order_item_id  \\\n",
       "0  00010242fe8c5a6d1ba2dd792cb16214              1   \n",
       "1  00018f77f2f0320c557190d7a144bdd3              1   \n",
       "2  000229ec398224ef6ca0657da4fc703e              1   \n",
       "3  00024acbcdf0a6daa1e931b038114c75              1   \n",
       "4  00042b26cf59d7ce69dfabb4e55b4fd9              1   \n",
       "\n",
       "                         product_id                         seller_id  \\\n",
       "0  4244733e06e7ecb4970a6e2683c13e61  48436dade18ac8b2bce089ec2a041202   \n",
       "1  e5f2d52b802189ee658865ca93d83a8f  dd7ddc04e1b6c2c614352b383efe2d36   \n",
       "2  c777355d18b72b67abbeef9df44fd0fd  5b51032eddd242adc84c38acab88f23d   \n",
       "3  7634da152a4610f1595efa32f14722fc  9d7a1d34a5052409006425275ba1c2b4   \n",
       "4  ac6c3623068f30de03045865e4e10089  df560393f3a51e74553ab94004ba5c87   \n",
       "\n",
       "   shipping_limit_date   price  freight_value  \n",
       "0  2017-09-19 09:45:35   58.90          13.29  \n",
       "1  2017-05-03 11:05:13  239.90          19.93  \n",
       "2  2018-01-18 14:48:30  199.00          17.87  \n",
       "3  2018-08-15 10:10:18   12.99          12.79  \n",
       "4  2017-02-13 13:57:51  199.90          18.14  "
      ],
      "text/html": "<div>\n<style scoped>\n    .dataframe tbody tr th:only-of-type {\n        vertical-align: middle;\n    }\n\n    .dataframe tbody tr th {\n        vertical-align: top;\n    }\n\n    .dataframe thead th {\n        text-align: right;\n    }\n</style>\n<table border=\"1\" class=\"dataframe\">\n  <thead>\n    <tr style=\"text-align: right;\">\n      <th></th>\n      <th>order_id</th>\n      <th>order_item_id</th>\n      <th>product_id</th>\n      <th>seller_id</th>\n      <th>shipping_limit_date</th>\n      <th>price</th>\n      <th>freight_value</th>\n    </tr>\n  </thead>\n  <tbody>\n    <tr>\n      <th>0</th>\n      <td>00010242fe8c5a6d1ba2dd792cb16214</td>\n      <td>1</td>\n      <td>4244733e06e7ecb4970a6e2683c13e61</td>\n      <td>48436dade18ac8b2bce089ec2a041202</td>\n      <td>2017-09-19 09:45:35</td>\n      <td>58.90</td>\n      <td>13.29</td>\n    </tr>\n    <tr>\n      <th>1</th>\n      <td>00018f77f2f0320c557190d7a144bdd3</td>\n      <td>1</td>\n      <td>e5f2d52b802189ee658865ca93d83a8f</td>\n      <td>dd7ddc04e1b6c2c614352b383efe2d36</td>\n      <td>2017-05-03 11:05:13</td>\n      <td>239.90</td>\n      <td>19.93</td>\n    </tr>\n    <tr>\n      <th>2</th>\n      <td>000229ec398224ef6ca0657da4fc703e</td>\n      <td>1</td>\n      <td>c777355d18b72b67abbeef9df44fd0fd</td>\n      <td>5b51032eddd242adc84c38acab88f23d</td>\n      <td>2018-01-18 14:48:30</td>\n      <td>199.00</td>\n      <td>17.87</td>\n    </tr>\n    <tr>\n      <th>3</th>\n      <td>00024acbcdf0a6daa1e931b038114c75</td>\n      <td>1</td>\n      <td>7634da152a4610f1595efa32f14722fc</td>\n      <td>9d7a1d34a5052409006425275ba1c2b4</td>\n      <td>2018-08-15 10:10:18</td>\n      <td>12.99</td>\n      <td>12.79</td>\n    </tr>\n    <tr>\n      <th>4</th>\n      <td>00042b26cf59d7ce69dfabb4e55b4fd9</td>\n      <td>1</td>\n      <td>ac6c3623068f30de03045865e4e10089</td>\n      <td>df560393f3a51e74553ab94004ba5c87</td>\n      <td>2017-02-13 13:57:51</td>\n      <td>199.90</td>\n      <td>18.14</td>\n    </tr>\n  </tbody>\n</table>\n</div>"
     },
     "metadata": {},
     "execution_count": 3
    }
   ],
   "source": [
    "print(df_order_items.shape)\n",
    "df_order_items.head()"
   ]
  },
  {
   "cell_type": "code",
   "execution_count": 4,
   "metadata": {},
   "outputs": [
    {
     "output_type": "stream",
     "name": "stdout",
     "text": [
      "(99441, 5)\n"
     ]
    },
    {
     "output_type": "execute_result",
     "data": {
      "text/plain": [
       "                        customer_id                customer_unique_id  \\\n",
       "0  06b8999e2fba1a1fbc88172c00ba8bc7  861eff4711a542e4b93843c6dd7febb0   \n",
       "1  18955e83d337fd6b2def6b18a428ac77  290c77bc529b7ac935b93aa66c333dc3   \n",
       "2  4e7b3e00288586ebd08712fdd0374a03  060e732b5b29e8181a18229c7b0b2b5e   \n",
       "3  b2b6027bc5c5109e529d4dc6358b12c3  259dac757896d24d7702b9acbbff3f3c   \n",
       "4  4f2d8ab171c80ec8364f7c12e35b23ad  345ecd01c38d18a9036ed96c73b8d066   \n",
       "\n",
       "   customer_zip_code_prefix          customer_city customer_state  \n",
       "0                     14409                 franca             SP  \n",
       "1                      9790  sao bernardo do campo             SP  \n",
       "2                      1151              sao paulo             SP  \n",
       "3                      8775        mogi das cruzes             SP  \n",
       "4                     13056               campinas             SP  "
      ],
      "text/html": "<div>\n<style scoped>\n    .dataframe tbody tr th:only-of-type {\n        vertical-align: middle;\n    }\n\n    .dataframe tbody tr th {\n        vertical-align: top;\n    }\n\n    .dataframe thead th {\n        text-align: right;\n    }\n</style>\n<table border=\"1\" class=\"dataframe\">\n  <thead>\n    <tr style=\"text-align: right;\">\n      <th></th>\n      <th>customer_id</th>\n      <th>customer_unique_id</th>\n      <th>customer_zip_code_prefix</th>\n      <th>customer_city</th>\n      <th>customer_state</th>\n    </tr>\n  </thead>\n  <tbody>\n    <tr>\n      <th>0</th>\n      <td>06b8999e2fba1a1fbc88172c00ba8bc7</td>\n      <td>861eff4711a542e4b93843c6dd7febb0</td>\n      <td>14409</td>\n      <td>franca</td>\n      <td>SP</td>\n    </tr>\n    <tr>\n      <th>1</th>\n      <td>18955e83d337fd6b2def6b18a428ac77</td>\n      <td>290c77bc529b7ac935b93aa66c333dc3</td>\n      <td>9790</td>\n      <td>sao bernardo do campo</td>\n      <td>SP</td>\n    </tr>\n    <tr>\n      <th>2</th>\n      <td>4e7b3e00288586ebd08712fdd0374a03</td>\n      <td>060e732b5b29e8181a18229c7b0b2b5e</td>\n      <td>1151</td>\n      <td>sao paulo</td>\n      <td>SP</td>\n    </tr>\n    <tr>\n      <th>3</th>\n      <td>b2b6027bc5c5109e529d4dc6358b12c3</td>\n      <td>259dac757896d24d7702b9acbbff3f3c</td>\n      <td>8775</td>\n      <td>mogi das cruzes</td>\n      <td>SP</td>\n    </tr>\n    <tr>\n      <th>4</th>\n      <td>4f2d8ab171c80ec8364f7c12e35b23ad</td>\n      <td>345ecd01c38d18a9036ed96c73b8d066</td>\n      <td>13056</td>\n      <td>campinas</td>\n      <td>SP</td>\n    </tr>\n  </tbody>\n</table>\n</div>"
     },
     "metadata": {},
     "execution_count": 4
    }
   ],
   "source": [
    "print(df_customers.shape)\n",
    "df_customers.head()"
   ]
  },
  {
   "cell_type": "code",
   "execution_count": 5,
   "metadata": {},
   "outputs": [
    {
     "output_type": "stream",
     "name": "stdout",
     "text": [
      "(1000163, 5)\n"
     ]
    },
    {
     "output_type": "execute_result",
     "data": {
      "text/plain": [
       "   geolocation_zip_code_prefix  geolocation_lat  geolocation_lng  \\\n",
       "0                         1037       -23.545621       -46.639292   \n",
       "1                         1046       -23.546081       -46.644820   \n",
       "2                         1046       -23.546129       -46.642951   \n",
       "3                         1041       -23.544392       -46.639499   \n",
       "4                         1035       -23.541578       -46.641607   \n",
       "\n",
       "  geolocation_city geolocation_state  \n",
       "0        sao paulo                SP  \n",
       "1        sao paulo                SP  \n",
       "2        sao paulo                SP  \n",
       "3        sao paulo                SP  \n",
       "4        sao paulo                SP  "
      ],
      "text/html": "<div>\n<style scoped>\n    .dataframe tbody tr th:only-of-type {\n        vertical-align: middle;\n    }\n\n    .dataframe tbody tr th {\n        vertical-align: top;\n    }\n\n    .dataframe thead th {\n        text-align: right;\n    }\n</style>\n<table border=\"1\" class=\"dataframe\">\n  <thead>\n    <tr style=\"text-align: right;\">\n      <th></th>\n      <th>geolocation_zip_code_prefix</th>\n      <th>geolocation_lat</th>\n      <th>geolocation_lng</th>\n      <th>geolocation_city</th>\n      <th>geolocation_state</th>\n    </tr>\n  </thead>\n  <tbody>\n    <tr>\n      <th>0</th>\n      <td>1037</td>\n      <td>-23.545621</td>\n      <td>-46.639292</td>\n      <td>sao paulo</td>\n      <td>SP</td>\n    </tr>\n    <tr>\n      <th>1</th>\n      <td>1046</td>\n      <td>-23.546081</td>\n      <td>-46.644820</td>\n      <td>sao paulo</td>\n      <td>SP</td>\n    </tr>\n    <tr>\n      <th>2</th>\n      <td>1046</td>\n      <td>-23.546129</td>\n      <td>-46.642951</td>\n      <td>sao paulo</td>\n      <td>SP</td>\n    </tr>\n    <tr>\n      <th>3</th>\n      <td>1041</td>\n      <td>-23.544392</td>\n      <td>-46.639499</td>\n      <td>sao paulo</td>\n      <td>SP</td>\n    </tr>\n    <tr>\n      <th>4</th>\n      <td>1035</td>\n      <td>-23.541578</td>\n      <td>-46.641607</td>\n      <td>sao paulo</td>\n      <td>SP</td>\n    </tr>\n  </tbody>\n</table>\n</div>"
     },
     "metadata": {},
     "execution_count": 5
    }
   ],
   "source": [
    "print(df_geolocation.shape)\n",
    "df_geolocation.head()"
   ]
  },
  {
   "cell_type": "code",
   "execution_count": 6,
   "metadata": {},
   "outputs": [
    {
     "output_type": "stream",
     "name": "stdout",
     "text": [
      "(103886, 5)\n"
     ]
    },
    {
     "output_type": "execute_result",
     "data": {
      "text/plain": [
       "                           order_id  payment_sequential payment_type  \\\n",
       "0  b81ef226f3fe1789b1e8b2acac839d17                   1  credit_card   \n",
       "1  a9810da82917af2d9aefd1278f1dcfa0                   1  credit_card   \n",
       "2  25e8ea4e93396b6fa0d3dd708e76c1bd                   1  credit_card   \n",
       "3  ba78997921bbcdc1373bb41e913ab953                   1  credit_card   \n",
       "4  42fdf880ba16b47b59251dd489d4441a                   1  credit_card   \n",
       "\n",
       "   payment_installments  payment_value  \n",
       "0                     8          99.33  \n",
       "1                     1          24.39  \n",
       "2                     1          65.71  \n",
       "3                     8         107.78  \n",
       "4                     2         128.45  "
      ],
      "text/html": "<div>\n<style scoped>\n    .dataframe tbody tr th:only-of-type {\n        vertical-align: middle;\n    }\n\n    .dataframe tbody tr th {\n        vertical-align: top;\n    }\n\n    .dataframe thead th {\n        text-align: right;\n    }\n</style>\n<table border=\"1\" class=\"dataframe\">\n  <thead>\n    <tr style=\"text-align: right;\">\n      <th></th>\n      <th>order_id</th>\n      <th>payment_sequential</th>\n      <th>payment_type</th>\n      <th>payment_installments</th>\n      <th>payment_value</th>\n    </tr>\n  </thead>\n  <tbody>\n    <tr>\n      <th>0</th>\n      <td>b81ef226f3fe1789b1e8b2acac839d17</td>\n      <td>1</td>\n      <td>credit_card</td>\n      <td>8</td>\n      <td>99.33</td>\n    </tr>\n    <tr>\n      <th>1</th>\n      <td>a9810da82917af2d9aefd1278f1dcfa0</td>\n      <td>1</td>\n      <td>credit_card</td>\n      <td>1</td>\n      <td>24.39</td>\n    </tr>\n    <tr>\n      <th>2</th>\n      <td>25e8ea4e93396b6fa0d3dd708e76c1bd</td>\n      <td>1</td>\n      <td>credit_card</td>\n      <td>1</td>\n      <td>65.71</td>\n    </tr>\n    <tr>\n      <th>3</th>\n      <td>ba78997921bbcdc1373bb41e913ab953</td>\n      <td>1</td>\n      <td>credit_card</td>\n      <td>8</td>\n      <td>107.78</td>\n    </tr>\n    <tr>\n      <th>4</th>\n      <td>42fdf880ba16b47b59251dd489d4441a</td>\n      <td>1</td>\n      <td>credit_card</td>\n      <td>2</td>\n      <td>128.45</td>\n    </tr>\n  </tbody>\n</table>\n</div>"
     },
     "metadata": {},
     "execution_count": 6
    }
   ],
   "source": [
    "print(df_order_payments.shape)\n",
    "df_order_payments.head()"
   ]
  },
  {
   "cell_type": "code",
   "execution_count": 7,
   "metadata": {},
   "outputs": [
    {
     "output_type": "execute_result",
     "data": {
      "text/plain": [
       "                              review_id                          order_id  \\\n",
       "0      7bc2406110b926393aa56f80a40eba40  73fc7af87114b39712e6da79b0a377eb   \n",
       "1      80e641a11e56f04c1ad469d5645fdfde  a548910a1c6147796b98fdf73dbeba33   \n",
       "2      228ce5500dc1d8e020d8d1322874b6f0  f9e4b658b201a9f2ecdecbb34bed034b   \n",
       "3      e64fb393e7b32834bb789ff8bb30750e  658677c97b385a9be170737859d3511b   \n",
       "4      f7c4243c7fe1938f181bec41a392bdeb  8e6bfb81e283fa7e4f11123a3fb894f1   \n",
       "...                                 ...                               ...   \n",
       "99995  f3897127253a9592a73be9bdfdf4ed7a  22ec9f0669f784db00fa86d035cf8602   \n",
       "99996  b3de70c89b1510c4cd3d0649fd302472  55d4004744368f5571d1f590031933e4   \n",
       "99997  1adeb9d84d72fe4e337617733eb85149  7725825d039fc1f0ceb7635e3f7d9206   \n",
       "99998  be360f18f5df1e0541061c87021e6d93  f8bd3f2000c28c5342fedeb5e50f2e75   \n",
       "99999  efe49f1d6f951dd88b51e6ccd4cc548f  90531360ecb1eec2a1fbb265a0db0508   \n",
       "\n",
       "       review_score review_comment_title  \\\n",
       "0                 4                  NaN   \n",
       "1                 5                  NaN   \n",
       "2                 5                  NaN   \n",
       "3                 5                  NaN   \n",
       "4                 5                  NaN   \n",
       "...             ...                  ...   \n",
       "99995             5                  NaN   \n",
       "99996             5                  NaN   \n",
       "99997             4                  NaN   \n",
       "99998             1                  NaN   \n",
       "99999             1                  NaN   \n",
       "\n",
       "                                  review_comment_message review_creation_date  \\\n",
       "0                                                    NaN  2018-01-18 00:00:00   \n",
       "1                                                    NaN  2018-03-10 00:00:00   \n",
       "2                                                    NaN  2018-02-17 00:00:00   \n",
       "3                  Recebi bem antes do prazo estipulado.  2017-04-21 00:00:00   \n",
       "4      Parabéns lojas lannister adorei comprar pela I...  2018-03-01 00:00:00   \n",
       "...                                                  ...                  ...   \n",
       "99995                                                NaN  2017-12-09 00:00:00   \n",
       "99996  Excelente mochila, entrega super rápida. Super...  2018-03-22 00:00:00   \n",
       "99997                                                NaN  2018-07-01 00:00:00   \n",
       "99998  Solicitei a compra de uma capa de retrovisor c...  2017-12-15 00:00:00   \n",
       "99999  meu produto chegou e ja tenho que devolver, po...  2017-07-03 00:00:00   \n",
       "\n",
       "      review_answer_timestamp review_comment_title_translated  \\\n",
       "0         2018-01-18 21:46:59                             NaN   \n",
       "1         2018-03-11 03:05:13                             NaN   \n",
       "2         2018-02-18 14:36:24                             NaN   \n",
       "3         2017-04-21 22:02:06                             NaN   \n",
       "4         2018-03-02 10:26:53                             NaN   \n",
       "...                       ...                             ...   \n",
       "99995     2017-12-11 20:06:42                             NaN   \n",
       "99996     2018-03-23 09:10:43                             NaN   \n",
       "99997     2018-07-02 12:59:13                             NaN   \n",
       "99998     2017-12-16 01:29:43                             NaN   \n",
       "99999     2017-07-03 21:01:49                             NaN   \n",
       "\n",
       "                       review_comment_message_translated  \n",
       "0                                                    NaN  \n",
       "1                                                    NaN  \n",
       "2                                                    NaN  \n",
       "3      Lo recibí mucho antes de la fecha límite estip...  \n",
       "4      Felicitaciones tiendas lannister Me encantó co...  \n",
       "...                                                  ...  \n",
       "99995                                                NaN  \n",
       "99996  Excelente mochila, entrega súper rápida. ¡Reco...  \n",
       "99997                                                NaN  \n",
       "99998  Solicité la compra de una cubierta de espejo c...  \n",
       "99999  Llegó mi producto y tengo que devolverlo, porq...  \n",
       "\n",
       "[100000 rows x 9 columns]"
      ],
      "text/html": "<div>\n<style scoped>\n    .dataframe tbody tr th:only-of-type {\n        vertical-align: middle;\n    }\n\n    .dataframe tbody tr th {\n        vertical-align: top;\n    }\n\n    .dataframe thead th {\n        text-align: right;\n    }\n</style>\n<table border=\"1\" class=\"dataframe\">\n  <thead>\n    <tr style=\"text-align: right;\">\n      <th></th>\n      <th>review_id</th>\n      <th>order_id</th>\n      <th>review_score</th>\n      <th>review_comment_title</th>\n      <th>review_comment_message</th>\n      <th>review_creation_date</th>\n      <th>review_answer_timestamp</th>\n      <th>review_comment_title_translated</th>\n      <th>review_comment_message_translated</th>\n    </tr>\n  </thead>\n  <tbody>\n    <tr>\n      <th>0</th>\n      <td>7bc2406110b926393aa56f80a40eba40</td>\n      <td>73fc7af87114b39712e6da79b0a377eb</td>\n      <td>4</td>\n      <td>NaN</td>\n      <td>NaN</td>\n      <td>2018-01-18 00:00:00</td>\n      <td>2018-01-18 21:46:59</td>\n      <td>NaN</td>\n      <td>NaN</td>\n    </tr>\n    <tr>\n      <th>1</th>\n      <td>80e641a11e56f04c1ad469d5645fdfde</td>\n      <td>a548910a1c6147796b98fdf73dbeba33</td>\n      <td>5</td>\n      <td>NaN</td>\n      <td>NaN</td>\n      <td>2018-03-10 00:00:00</td>\n      <td>2018-03-11 03:05:13</td>\n      <td>NaN</td>\n      <td>NaN</td>\n    </tr>\n    <tr>\n      <th>2</th>\n      <td>228ce5500dc1d8e020d8d1322874b6f0</td>\n      <td>f9e4b658b201a9f2ecdecbb34bed034b</td>\n      <td>5</td>\n      <td>NaN</td>\n      <td>NaN</td>\n      <td>2018-02-17 00:00:00</td>\n      <td>2018-02-18 14:36:24</td>\n      <td>NaN</td>\n      <td>NaN</td>\n    </tr>\n    <tr>\n      <th>3</th>\n      <td>e64fb393e7b32834bb789ff8bb30750e</td>\n      <td>658677c97b385a9be170737859d3511b</td>\n      <td>5</td>\n      <td>NaN</td>\n      <td>Recebi bem antes do prazo estipulado.</td>\n      <td>2017-04-21 00:00:00</td>\n      <td>2017-04-21 22:02:06</td>\n      <td>NaN</td>\n      <td>Lo recibí mucho antes de la fecha límite estip...</td>\n    </tr>\n    <tr>\n      <th>4</th>\n      <td>f7c4243c7fe1938f181bec41a392bdeb</td>\n      <td>8e6bfb81e283fa7e4f11123a3fb894f1</td>\n      <td>5</td>\n      <td>NaN</td>\n      <td>Parabéns lojas lannister adorei comprar pela I...</td>\n      <td>2018-03-01 00:00:00</td>\n      <td>2018-03-02 10:26:53</td>\n      <td>NaN</td>\n      <td>Felicitaciones tiendas lannister Me encantó co...</td>\n    </tr>\n    <tr>\n      <th>...</th>\n      <td>...</td>\n      <td>...</td>\n      <td>...</td>\n      <td>...</td>\n      <td>...</td>\n      <td>...</td>\n      <td>...</td>\n      <td>...</td>\n      <td>...</td>\n    </tr>\n    <tr>\n      <th>99995</th>\n      <td>f3897127253a9592a73be9bdfdf4ed7a</td>\n      <td>22ec9f0669f784db00fa86d035cf8602</td>\n      <td>5</td>\n      <td>NaN</td>\n      <td>NaN</td>\n      <td>2017-12-09 00:00:00</td>\n      <td>2017-12-11 20:06:42</td>\n      <td>NaN</td>\n      <td>NaN</td>\n    </tr>\n    <tr>\n      <th>99996</th>\n      <td>b3de70c89b1510c4cd3d0649fd302472</td>\n      <td>55d4004744368f5571d1f590031933e4</td>\n      <td>5</td>\n      <td>NaN</td>\n      <td>Excelente mochila, entrega super rápida. Super...</td>\n      <td>2018-03-22 00:00:00</td>\n      <td>2018-03-23 09:10:43</td>\n      <td>NaN</td>\n      <td>Excelente mochila, entrega súper rápida. ¡Reco...</td>\n    </tr>\n    <tr>\n      <th>99997</th>\n      <td>1adeb9d84d72fe4e337617733eb85149</td>\n      <td>7725825d039fc1f0ceb7635e3f7d9206</td>\n      <td>4</td>\n      <td>NaN</td>\n      <td>NaN</td>\n      <td>2018-07-01 00:00:00</td>\n      <td>2018-07-02 12:59:13</td>\n      <td>NaN</td>\n      <td>NaN</td>\n    </tr>\n    <tr>\n      <th>99998</th>\n      <td>be360f18f5df1e0541061c87021e6d93</td>\n      <td>f8bd3f2000c28c5342fedeb5e50f2e75</td>\n      <td>1</td>\n      <td>NaN</td>\n      <td>Solicitei a compra de uma capa de retrovisor c...</td>\n      <td>2017-12-15 00:00:00</td>\n      <td>2017-12-16 01:29:43</td>\n      <td>NaN</td>\n      <td>Solicité la compra de una cubierta de espejo c...</td>\n    </tr>\n    <tr>\n      <th>99999</th>\n      <td>efe49f1d6f951dd88b51e6ccd4cc548f</td>\n      <td>90531360ecb1eec2a1fbb265a0db0508</td>\n      <td>1</td>\n      <td>NaN</td>\n      <td>meu produto chegou e ja tenho que devolver, po...</td>\n      <td>2017-07-03 00:00:00</td>\n      <td>2017-07-03 21:01:49</td>\n      <td>NaN</td>\n      <td>Llegó mi producto y tengo que devolverlo, porq...</td>\n    </tr>\n  </tbody>\n</table>\n<p>100000 rows × 9 columns</p>\n</div>"
     },
     "metadata": {},
     "execution_count": 7
    }
   ],
   "source": [
    "df_order_reviews_with_traduction"
   ]
  },
  {
   "cell_type": "code",
   "execution_count": 8,
   "metadata": {},
   "outputs": [
    {
     "output_type": "stream",
     "name": "stdout",
     "text": [
      "(100000, 9)\n"
     ]
    },
    {
     "output_type": "execute_result",
     "data": {
      "text/plain": [
       "                          review_id                          order_id  \\\n",
       "0  7bc2406110b926393aa56f80a40eba40  73fc7af87114b39712e6da79b0a377eb   \n",
       "1  80e641a11e56f04c1ad469d5645fdfde  a548910a1c6147796b98fdf73dbeba33   \n",
       "2  228ce5500dc1d8e020d8d1322874b6f0  f9e4b658b201a9f2ecdecbb34bed034b   \n",
       "3  e64fb393e7b32834bb789ff8bb30750e  658677c97b385a9be170737859d3511b   \n",
       "4  f7c4243c7fe1938f181bec41a392bdeb  8e6bfb81e283fa7e4f11123a3fb894f1   \n",
       "\n",
       "   review_score review_comment_title  \\\n",
       "0             4                  NaN   \n",
       "1             5                  NaN   \n",
       "2             5                  NaN   \n",
       "3             5                  NaN   \n",
       "4             5                  NaN   \n",
       "\n",
       "                              review_comment_message review_creation_date  \\\n",
       "0                                                NaN  2018-01-18 00:00:00   \n",
       "1                                                NaN  2018-03-10 00:00:00   \n",
       "2                                                NaN  2018-02-17 00:00:00   \n",
       "3              Recebi bem antes do prazo estipulado.  2017-04-21 00:00:00   \n",
       "4  Parabéns lojas lannister adorei comprar pela I...  2018-03-01 00:00:00   \n",
       "\n",
       "  review_answer_timestamp review_comment_title_translated  \\\n",
       "0     2018-01-18 21:46:59                             NaN   \n",
       "1     2018-03-11 03:05:13                             NaN   \n",
       "2     2018-02-18 14:36:24                             NaN   \n",
       "3     2017-04-21 22:02:06                             NaN   \n",
       "4     2018-03-02 10:26:53                             NaN   \n",
       "\n",
       "                   review_comment_message_translated  \n",
       "0                                                NaN  \n",
       "1                                                NaN  \n",
       "2                                                NaN  \n",
       "3  Lo recibí mucho antes de la fecha límite estip...  \n",
       "4  Felicitaciones tiendas lannister Me encantó co...  "
      ],
      "text/html": "<div>\n<style scoped>\n    .dataframe tbody tr th:only-of-type {\n        vertical-align: middle;\n    }\n\n    .dataframe tbody tr th {\n        vertical-align: top;\n    }\n\n    .dataframe thead th {\n        text-align: right;\n    }\n</style>\n<table border=\"1\" class=\"dataframe\">\n  <thead>\n    <tr style=\"text-align: right;\">\n      <th></th>\n      <th>review_id</th>\n      <th>order_id</th>\n      <th>review_score</th>\n      <th>review_comment_title</th>\n      <th>review_comment_message</th>\n      <th>review_creation_date</th>\n      <th>review_answer_timestamp</th>\n      <th>review_comment_title_translated</th>\n      <th>review_comment_message_translated</th>\n    </tr>\n  </thead>\n  <tbody>\n    <tr>\n      <th>0</th>\n      <td>7bc2406110b926393aa56f80a40eba40</td>\n      <td>73fc7af87114b39712e6da79b0a377eb</td>\n      <td>4</td>\n      <td>NaN</td>\n      <td>NaN</td>\n      <td>2018-01-18 00:00:00</td>\n      <td>2018-01-18 21:46:59</td>\n      <td>NaN</td>\n      <td>NaN</td>\n    </tr>\n    <tr>\n      <th>1</th>\n      <td>80e641a11e56f04c1ad469d5645fdfde</td>\n      <td>a548910a1c6147796b98fdf73dbeba33</td>\n      <td>5</td>\n      <td>NaN</td>\n      <td>NaN</td>\n      <td>2018-03-10 00:00:00</td>\n      <td>2018-03-11 03:05:13</td>\n      <td>NaN</td>\n      <td>NaN</td>\n    </tr>\n    <tr>\n      <th>2</th>\n      <td>228ce5500dc1d8e020d8d1322874b6f0</td>\n      <td>f9e4b658b201a9f2ecdecbb34bed034b</td>\n      <td>5</td>\n      <td>NaN</td>\n      <td>NaN</td>\n      <td>2018-02-17 00:00:00</td>\n      <td>2018-02-18 14:36:24</td>\n      <td>NaN</td>\n      <td>NaN</td>\n    </tr>\n    <tr>\n      <th>3</th>\n      <td>e64fb393e7b32834bb789ff8bb30750e</td>\n      <td>658677c97b385a9be170737859d3511b</td>\n      <td>5</td>\n      <td>NaN</td>\n      <td>Recebi bem antes do prazo estipulado.</td>\n      <td>2017-04-21 00:00:00</td>\n      <td>2017-04-21 22:02:06</td>\n      <td>NaN</td>\n      <td>Lo recibí mucho antes de la fecha límite estip...</td>\n    </tr>\n    <tr>\n      <th>4</th>\n      <td>f7c4243c7fe1938f181bec41a392bdeb</td>\n      <td>8e6bfb81e283fa7e4f11123a3fb894f1</td>\n      <td>5</td>\n      <td>NaN</td>\n      <td>Parabéns lojas lannister adorei comprar pela I...</td>\n      <td>2018-03-01 00:00:00</td>\n      <td>2018-03-02 10:26:53</td>\n      <td>NaN</td>\n      <td>Felicitaciones tiendas lannister Me encantó co...</td>\n    </tr>\n  </tbody>\n</table>\n</div>"
     },
     "metadata": {},
     "execution_count": 8
    }
   ],
   "source": [
    "print(df_order_reviews_with_traduction.shape)\n",
    "df_order_reviews_with_traduction.head()"
   ]
  },
  {
   "cell_type": "code",
   "execution_count": 9,
   "metadata": {},
   "outputs": [
    {
     "output_type": "stream",
     "name": "stdout",
     "text": [
      "(99441, 8)\n"
     ]
    },
    {
     "output_type": "execute_result",
     "data": {
      "text/plain": [
       "                           order_id                       customer_id  \\\n",
       "0  e481f51cbdc54678b7cc49136f2d6af7  9ef432eb6251297304e76186b10a928d   \n",
       "1  53cdb2fc8bc7dce0b6741e2150273451  b0830fb4747a6c6d20dea0b8c802d7ef   \n",
       "2  47770eb9100c2d0c44946d9cf07ec65d  41ce2a54c0b03bf3443c3d931a367089   \n",
       "3  949d5b44dbf5de918fe9c16f97b45f8a  f88197465ea7920adcdbec7375364d82   \n",
       "4  ad21c59c0840e6cb83a9ceb5573f8159  8ab97904e6daea8866dbdbc4fb7aad2c   \n",
       "\n",
       "  order_status order_purchase_timestamp    order_approved_at  \\\n",
       "0    delivered      2017-10-02 10:56:33  2017-10-02 11:07:15   \n",
       "1    delivered      2018-07-24 20:41:37  2018-07-26 03:24:27   \n",
       "2    delivered      2018-08-08 08:38:49  2018-08-08 08:55:23   \n",
       "3    delivered      2017-11-18 19:28:06  2017-11-18 19:45:59   \n",
       "4    delivered      2018-02-13 21:18:39  2018-02-13 22:20:29   \n",
       "\n",
       "  order_delivered_carrier_date order_delivered_customer_date  \\\n",
       "0          2017-10-04 19:55:00           2017-10-10 21:25:13   \n",
       "1          2018-07-26 14:31:00           2018-08-07 15:27:45   \n",
       "2          2018-08-08 13:50:00           2018-08-17 18:06:29   \n",
       "3          2017-11-22 13:39:59           2017-12-02 00:28:42   \n",
       "4          2018-02-14 19:46:34           2018-02-16 18:17:02   \n",
       "\n",
       "  order_estimated_delivery_date  \n",
       "0           2017-10-18 00:00:00  \n",
       "1           2018-08-13 00:00:00  \n",
       "2           2018-09-04 00:00:00  \n",
       "3           2017-12-15 00:00:00  \n",
       "4           2018-02-26 00:00:00  "
      ],
      "text/html": "<div>\n<style scoped>\n    .dataframe tbody tr th:only-of-type {\n        vertical-align: middle;\n    }\n\n    .dataframe tbody tr th {\n        vertical-align: top;\n    }\n\n    .dataframe thead th {\n        text-align: right;\n    }\n</style>\n<table border=\"1\" class=\"dataframe\">\n  <thead>\n    <tr style=\"text-align: right;\">\n      <th></th>\n      <th>order_id</th>\n      <th>customer_id</th>\n      <th>order_status</th>\n      <th>order_purchase_timestamp</th>\n      <th>order_approved_at</th>\n      <th>order_delivered_carrier_date</th>\n      <th>order_delivered_customer_date</th>\n      <th>order_estimated_delivery_date</th>\n    </tr>\n  </thead>\n  <tbody>\n    <tr>\n      <th>0</th>\n      <td>e481f51cbdc54678b7cc49136f2d6af7</td>\n      <td>9ef432eb6251297304e76186b10a928d</td>\n      <td>delivered</td>\n      <td>2017-10-02 10:56:33</td>\n      <td>2017-10-02 11:07:15</td>\n      <td>2017-10-04 19:55:00</td>\n      <td>2017-10-10 21:25:13</td>\n      <td>2017-10-18 00:00:00</td>\n    </tr>\n    <tr>\n      <th>1</th>\n      <td>53cdb2fc8bc7dce0b6741e2150273451</td>\n      <td>b0830fb4747a6c6d20dea0b8c802d7ef</td>\n      <td>delivered</td>\n      <td>2018-07-24 20:41:37</td>\n      <td>2018-07-26 03:24:27</td>\n      <td>2018-07-26 14:31:00</td>\n      <td>2018-08-07 15:27:45</td>\n      <td>2018-08-13 00:00:00</td>\n    </tr>\n    <tr>\n      <th>2</th>\n      <td>47770eb9100c2d0c44946d9cf07ec65d</td>\n      <td>41ce2a54c0b03bf3443c3d931a367089</td>\n      <td>delivered</td>\n      <td>2018-08-08 08:38:49</td>\n      <td>2018-08-08 08:55:23</td>\n      <td>2018-08-08 13:50:00</td>\n      <td>2018-08-17 18:06:29</td>\n      <td>2018-09-04 00:00:00</td>\n    </tr>\n    <tr>\n      <th>3</th>\n      <td>949d5b44dbf5de918fe9c16f97b45f8a</td>\n      <td>f88197465ea7920adcdbec7375364d82</td>\n      <td>delivered</td>\n      <td>2017-11-18 19:28:06</td>\n      <td>2017-11-18 19:45:59</td>\n      <td>2017-11-22 13:39:59</td>\n      <td>2017-12-02 00:28:42</td>\n      <td>2017-12-15 00:00:00</td>\n    </tr>\n    <tr>\n      <th>4</th>\n      <td>ad21c59c0840e6cb83a9ceb5573f8159</td>\n      <td>8ab97904e6daea8866dbdbc4fb7aad2c</td>\n      <td>delivered</td>\n      <td>2018-02-13 21:18:39</td>\n      <td>2018-02-13 22:20:29</td>\n      <td>2018-02-14 19:46:34</td>\n      <td>2018-02-16 18:17:02</td>\n      <td>2018-02-26 00:00:00</td>\n    </tr>\n  </tbody>\n</table>\n</div>"
     },
     "metadata": {},
     "execution_count": 9
    }
   ],
   "source": [
    "print(df_orders.shape)\n",
    "df_orders.head()"
   ]
  },
  {
   "cell_type": "code",
   "execution_count": 10,
   "metadata": {},
   "outputs": [
    {
     "output_type": "stream",
     "name": "stdout",
     "text": [
      "(32951, 9)\n"
     ]
    },
    {
     "output_type": "execute_result",
     "data": {
      "text/plain": [
       "                         product_id  product_category_name  \\\n",
       "0  1e9e8ef04dbcff4541ed26657ea517e5             perfumaria   \n",
       "1  3aa071139cb16b67ca9e5dea641aaa2f                  artes   \n",
       "2  96bd76ec8810374ed1b65e291975717f          esporte_lazer   \n",
       "3  cef67bcfe19066a932b7673e239eb23d                  bebes   \n",
       "4  9dc1a7de274444849c219cff195d0b71  utilidades_domesticas   \n",
       "\n",
       "   product_name_lenght  product_description_lenght  product_photos_qty  \\\n",
       "0                 40.0                       287.0                 1.0   \n",
       "1                 44.0                       276.0                 1.0   \n",
       "2                 46.0                       250.0                 1.0   \n",
       "3                 27.0                       261.0                 1.0   \n",
       "4                 37.0                       402.0                 4.0   \n",
       "\n",
       "   product_weight_g  product_length_cm  product_height_cm  product_width_cm  \n",
       "0             225.0               16.0               10.0              14.0  \n",
       "1            1000.0               30.0               18.0              20.0  \n",
       "2             154.0               18.0                9.0              15.0  \n",
       "3             371.0               26.0                4.0              26.0  \n",
       "4             625.0               20.0               17.0              13.0  "
      ],
      "text/html": "<div>\n<style scoped>\n    .dataframe tbody tr th:only-of-type {\n        vertical-align: middle;\n    }\n\n    .dataframe tbody tr th {\n        vertical-align: top;\n    }\n\n    .dataframe thead th {\n        text-align: right;\n    }\n</style>\n<table border=\"1\" class=\"dataframe\">\n  <thead>\n    <tr style=\"text-align: right;\">\n      <th></th>\n      <th>product_id</th>\n      <th>product_category_name</th>\n      <th>product_name_lenght</th>\n      <th>product_description_lenght</th>\n      <th>product_photos_qty</th>\n      <th>product_weight_g</th>\n      <th>product_length_cm</th>\n      <th>product_height_cm</th>\n      <th>product_width_cm</th>\n    </tr>\n  </thead>\n  <tbody>\n    <tr>\n      <th>0</th>\n      <td>1e9e8ef04dbcff4541ed26657ea517e5</td>\n      <td>perfumaria</td>\n      <td>40.0</td>\n      <td>287.0</td>\n      <td>1.0</td>\n      <td>225.0</td>\n      <td>16.0</td>\n      <td>10.0</td>\n      <td>14.0</td>\n    </tr>\n    <tr>\n      <th>1</th>\n      <td>3aa071139cb16b67ca9e5dea641aaa2f</td>\n      <td>artes</td>\n      <td>44.0</td>\n      <td>276.0</td>\n      <td>1.0</td>\n      <td>1000.0</td>\n      <td>30.0</td>\n      <td>18.0</td>\n      <td>20.0</td>\n    </tr>\n    <tr>\n      <th>2</th>\n      <td>96bd76ec8810374ed1b65e291975717f</td>\n      <td>esporte_lazer</td>\n      <td>46.0</td>\n      <td>250.0</td>\n      <td>1.0</td>\n      <td>154.0</td>\n      <td>18.0</td>\n      <td>9.0</td>\n      <td>15.0</td>\n    </tr>\n    <tr>\n      <th>3</th>\n      <td>cef67bcfe19066a932b7673e239eb23d</td>\n      <td>bebes</td>\n      <td>27.0</td>\n      <td>261.0</td>\n      <td>1.0</td>\n      <td>371.0</td>\n      <td>26.0</td>\n      <td>4.0</td>\n      <td>26.0</td>\n    </tr>\n    <tr>\n      <th>4</th>\n      <td>9dc1a7de274444849c219cff195d0b71</td>\n      <td>utilidades_domesticas</td>\n      <td>37.0</td>\n      <td>402.0</td>\n      <td>4.0</td>\n      <td>625.0</td>\n      <td>20.0</td>\n      <td>17.0</td>\n      <td>13.0</td>\n    </tr>\n  </tbody>\n</table>\n</div>"
     },
     "metadata": {},
     "execution_count": 10
    }
   ],
   "source": [
    "print(df_products.shape)\n",
    "df_products.head()"
   ]
  },
  {
   "cell_type": "code",
   "execution_count": 11,
   "metadata": {},
   "outputs": [
    {
     "output_type": "stream",
     "name": "stdout",
     "text": [
      "(3095, 4)\n"
     ]
    },
    {
     "output_type": "execute_result",
     "data": {
      "text/plain": [
       "                          seller_id  seller_zip_code_prefix  \\\n",
       "0  3442f8959a84dea7ee197c632cb2df15                   13023   \n",
       "1  d1b65fc7debc3361ea86b5f14c68d2e2                   13844   \n",
       "2  ce3ad9de960102d0677a81f5d0bb7b2d                   20031   \n",
       "3  c0f3eea2e14555b6faeea3dd58c1b1c3                    4195   \n",
       "4  51a04a8a6bdcb23deccc82b0b80742cf                   12914   \n",
       "\n",
       "         seller_city seller_state  \n",
       "0           campinas           SP  \n",
       "1         mogi guacu           SP  \n",
       "2     rio de janeiro           RJ  \n",
       "3          sao paulo           SP  \n",
       "4  braganca paulista           SP  "
      ],
      "text/html": "<div>\n<style scoped>\n    .dataframe tbody tr th:only-of-type {\n        vertical-align: middle;\n    }\n\n    .dataframe tbody tr th {\n        vertical-align: top;\n    }\n\n    .dataframe thead th {\n        text-align: right;\n    }\n</style>\n<table border=\"1\" class=\"dataframe\">\n  <thead>\n    <tr style=\"text-align: right;\">\n      <th></th>\n      <th>seller_id</th>\n      <th>seller_zip_code_prefix</th>\n      <th>seller_city</th>\n      <th>seller_state</th>\n    </tr>\n  </thead>\n  <tbody>\n    <tr>\n      <th>0</th>\n      <td>3442f8959a84dea7ee197c632cb2df15</td>\n      <td>13023</td>\n      <td>campinas</td>\n      <td>SP</td>\n    </tr>\n    <tr>\n      <th>1</th>\n      <td>d1b65fc7debc3361ea86b5f14c68d2e2</td>\n      <td>13844</td>\n      <td>mogi guacu</td>\n      <td>SP</td>\n    </tr>\n    <tr>\n      <th>2</th>\n      <td>ce3ad9de960102d0677a81f5d0bb7b2d</td>\n      <td>20031</td>\n      <td>rio de janeiro</td>\n      <td>RJ</td>\n    </tr>\n    <tr>\n      <th>3</th>\n      <td>c0f3eea2e14555b6faeea3dd58c1b1c3</td>\n      <td>4195</td>\n      <td>sao paulo</td>\n      <td>SP</td>\n    </tr>\n    <tr>\n      <th>4</th>\n      <td>51a04a8a6bdcb23deccc82b0b80742cf</td>\n      <td>12914</td>\n      <td>braganca paulista</td>\n      <td>SP</td>\n    </tr>\n  </tbody>\n</table>\n</div>"
     },
     "metadata": {},
     "execution_count": 11
    }
   ],
   "source": [
    "print(df_sellers.shape)\n",
    "df_sellers.head()"
   ]
  },
  {
   "cell_type": "code",
   "execution_count": 12,
   "metadata": {},
   "outputs": [
    {
     "output_type": "stream",
     "name": "stdout",
     "text": [
      "(112650, 15)\n"
     ]
    },
    {
     "output_type": "execute_result",
     "data": {
      "text/plain": [
       "                           order_id  order_item_id  \\\n",
       "0  00010242fe8c5a6d1ba2dd792cb16214              1   \n",
       "1  130898c0987d1801452a8ed92a670612              1   \n",
       "2  532ed5e14e24ae1f0d735b91524b98b9              1   \n",
       "3  6f8c31653edb8c83e1a739408b5ff750              1   \n",
       "4  7d19f4ef4d04461989632411b7e588b9              1   \n",
       "\n",
       "                         product_id                         seller_id  \\\n",
       "0  4244733e06e7ecb4970a6e2683c13e61  48436dade18ac8b2bce089ec2a041202   \n",
       "1  4244733e06e7ecb4970a6e2683c13e61  48436dade18ac8b2bce089ec2a041202   \n",
       "2  4244733e06e7ecb4970a6e2683c13e61  48436dade18ac8b2bce089ec2a041202   \n",
       "3  4244733e06e7ecb4970a6e2683c13e61  48436dade18ac8b2bce089ec2a041202   \n",
       "4  4244733e06e7ecb4970a6e2683c13e61  48436dade18ac8b2bce089ec2a041202   \n",
       "\n",
       "   shipping_limit_date  price  freight_value product_category_name  \\\n",
       "0  2017-09-19 09:45:35   58.9          13.29            cool_stuff   \n",
       "1  2017-07-05 02:44:11   55.9          17.96            cool_stuff   \n",
       "2  2018-05-23 10:56:25   64.9          18.33            cool_stuff   \n",
       "3  2017-08-07 18:55:08   58.9          16.17            cool_stuff   \n",
       "4  2017-08-16 22:05:11   58.9          13.29            cool_stuff   \n",
       "\n",
       "   product_name_lenght  product_description_lenght  product_photos_qty  \\\n",
       "0                 58.0                       598.0                 4.0   \n",
       "1                 58.0                       598.0                 4.0   \n",
       "2                 58.0                       598.0                 4.0   \n",
       "3                 58.0                       598.0                 4.0   \n",
       "4                 58.0                       598.0                 4.0   \n",
       "\n",
       "   product_weight_g  product_length_cm  product_height_cm  product_width_cm  \n",
       "0             650.0               28.0                9.0              14.0  \n",
       "1             650.0               28.0                9.0              14.0  \n",
       "2             650.0               28.0                9.0              14.0  \n",
       "3             650.0               28.0                9.0              14.0  \n",
       "4             650.0               28.0                9.0              14.0  "
      ],
      "text/html": "<div>\n<style scoped>\n    .dataframe tbody tr th:only-of-type {\n        vertical-align: middle;\n    }\n\n    .dataframe tbody tr th {\n        vertical-align: top;\n    }\n\n    .dataframe thead th {\n        text-align: right;\n    }\n</style>\n<table border=\"1\" class=\"dataframe\">\n  <thead>\n    <tr style=\"text-align: right;\">\n      <th></th>\n      <th>order_id</th>\n      <th>order_item_id</th>\n      <th>product_id</th>\n      <th>seller_id</th>\n      <th>shipping_limit_date</th>\n      <th>price</th>\n      <th>freight_value</th>\n      <th>product_category_name</th>\n      <th>product_name_lenght</th>\n      <th>product_description_lenght</th>\n      <th>product_photos_qty</th>\n      <th>product_weight_g</th>\n      <th>product_length_cm</th>\n      <th>product_height_cm</th>\n      <th>product_width_cm</th>\n    </tr>\n  </thead>\n  <tbody>\n    <tr>\n      <th>0</th>\n      <td>00010242fe8c5a6d1ba2dd792cb16214</td>\n      <td>1</td>\n      <td>4244733e06e7ecb4970a6e2683c13e61</td>\n      <td>48436dade18ac8b2bce089ec2a041202</td>\n      <td>2017-09-19 09:45:35</td>\n      <td>58.9</td>\n      <td>13.29</td>\n      <td>cool_stuff</td>\n      <td>58.0</td>\n      <td>598.0</td>\n      <td>4.0</td>\n      <td>650.0</td>\n      <td>28.0</td>\n      <td>9.0</td>\n      <td>14.0</td>\n    </tr>\n    <tr>\n      <th>1</th>\n      <td>130898c0987d1801452a8ed92a670612</td>\n      <td>1</td>\n      <td>4244733e06e7ecb4970a6e2683c13e61</td>\n      <td>48436dade18ac8b2bce089ec2a041202</td>\n      <td>2017-07-05 02:44:11</td>\n      <td>55.9</td>\n      <td>17.96</td>\n      <td>cool_stuff</td>\n      <td>58.0</td>\n      <td>598.0</td>\n      <td>4.0</td>\n      <td>650.0</td>\n      <td>28.0</td>\n      <td>9.0</td>\n      <td>14.0</td>\n    </tr>\n    <tr>\n      <th>2</th>\n      <td>532ed5e14e24ae1f0d735b91524b98b9</td>\n      <td>1</td>\n      <td>4244733e06e7ecb4970a6e2683c13e61</td>\n      <td>48436dade18ac8b2bce089ec2a041202</td>\n      <td>2018-05-23 10:56:25</td>\n      <td>64.9</td>\n      <td>18.33</td>\n      <td>cool_stuff</td>\n      <td>58.0</td>\n      <td>598.0</td>\n      <td>4.0</td>\n      <td>650.0</td>\n      <td>28.0</td>\n      <td>9.0</td>\n      <td>14.0</td>\n    </tr>\n    <tr>\n      <th>3</th>\n      <td>6f8c31653edb8c83e1a739408b5ff750</td>\n      <td>1</td>\n      <td>4244733e06e7ecb4970a6e2683c13e61</td>\n      <td>48436dade18ac8b2bce089ec2a041202</td>\n      <td>2017-08-07 18:55:08</td>\n      <td>58.9</td>\n      <td>16.17</td>\n      <td>cool_stuff</td>\n      <td>58.0</td>\n      <td>598.0</td>\n      <td>4.0</td>\n      <td>650.0</td>\n      <td>28.0</td>\n      <td>9.0</td>\n      <td>14.0</td>\n    </tr>\n    <tr>\n      <th>4</th>\n      <td>7d19f4ef4d04461989632411b7e588b9</td>\n      <td>1</td>\n      <td>4244733e06e7ecb4970a6e2683c13e61</td>\n      <td>48436dade18ac8b2bce089ec2a041202</td>\n      <td>2017-08-16 22:05:11</td>\n      <td>58.9</td>\n      <td>13.29</td>\n      <td>cool_stuff</td>\n      <td>58.0</td>\n      <td>598.0</td>\n      <td>4.0</td>\n      <td>650.0</td>\n      <td>28.0</td>\n      <td>9.0</td>\n      <td>14.0</td>\n    </tr>\n  </tbody>\n</table>\n</div>"
     },
     "metadata": {},
     "execution_count": 12
    }
   ],
   "source": [
    "df_complete = pd.merge(df_order_items, df_products, on=\"product_id\")\n",
    "print(df_complete.shape)\n",
    "df_complete.head()"
   ]
  },
  {
   "cell_type": "code",
   "execution_count": 13,
   "metadata": {},
   "outputs": [
    {
     "output_type": "stream",
     "name": "stdout",
     "text": [
      "(111023, 16)\n"
     ]
    },
    {
     "output_type": "execute_result",
     "data": {
      "text/plain": [
       "                           order_id  order_item_id  \\\n",
       "0  00010242fe8c5a6d1ba2dd792cb16214              1   \n",
       "1  130898c0987d1801452a8ed92a670612              1   \n",
       "2  532ed5e14e24ae1f0d735b91524b98b9              1   \n",
       "3  6f8c31653edb8c83e1a739408b5ff750              1   \n",
       "4  7d19f4ef4d04461989632411b7e588b9              1   \n",
       "\n",
       "                         product_id                         seller_id  \\\n",
       "0  4244733e06e7ecb4970a6e2683c13e61  48436dade18ac8b2bce089ec2a041202   \n",
       "1  4244733e06e7ecb4970a6e2683c13e61  48436dade18ac8b2bce089ec2a041202   \n",
       "2  4244733e06e7ecb4970a6e2683c13e61  48436dade18ac8b2bce089ec2a041202   \n",
       "3  4244733e06e7ecb4970a6e2683c13e61  48436dade18ac8b2bce089ec2a041202   \n",
       "4  4244733e06e7ecb4970a6e2683c13e61  48436dade18ac8b2bce089ec2a041202   \n",
       "\n",
       "   shipping_limit_date  price  freight_value product_category_name  \\\n",
       "0  2017-09-19 09:45:35   58.9          13.29            cool_stuff   \n",
       "1  2017-07-05 02:44:11   55.9          17.96            cool_stuff   \n",
       "2  2018-05-23 10:56:25   64.9          18.33            cool_stuff   \n",
       "3  2017-08-07 18:55:08   58.9          16.17            cool_stuff   \n",
       "4  2017-08-16 22:05:11   58.9          13.29            cool_stuff   \n",
       "\n",
       "   product_name_lenght  product_description_lenght  product_photos_qty  \\\n",
       "0                 58.0                       598.0                 4.0   \n",
       "1                 58.0                       598.0                 4.0   \n",
       "2                 58.0                       598.0                 4.0   \n",
       "3                 58.0                       598.0                 4.0   \n",
       "4                 58.0                       598.0                 4.0   \n",
       "\n",
       "   product_weight_g  product_length_cm  product_height_cm  product_width_cm  \\\n",
       "0             650.0               28.0                9.0              14.0   \n",
       "1             650.0               28.0                9.0              14.0   \n",
       "2             650.0               28.0                9.0              14.0   \n",
       "3             650.0               28.0                9.0              14.0   \n",
       "4             650.0               28.0                9.0              14.0   \n",
       "\n",
       "  product_category_name_english  \n",
       "0                    cool_stuff  \n",
       "1                    cool_stuff  \n",
       "2                    cool_stuff  \n",
       "3                    cool_stuff  \n",
       "4                    cool_stuff  "
      ],
      "text/html": "<div>\n<style scoped>\n    .dataframe tbody tr th:only-of-type {\n        vertical-align: middle;\n    }\n\n    .dataframe tbody tr th {\n        vertical-align: top;\n    }\n\n    .dataframe thead th {\n        text-align: right;\n    }\n</style>\n<table border=\"1\" class=\"dataframe\">\n  <thead>\n    <tr style=\"text-align: right;\">\n      <th></th>\n      <th>order_id</th>\n      <th>order_item_id</th>\n      <th>product_id</th>\n      <th>seller_id</th>\n      <th>shipping_limit_date</th>\n      <th>price</th>\n      <th>freight_value</th>\n      <th>product_category_name</th>\n      <th>product_name_lenght</th>\n      <th>product_description_lenght</th>\n      <th>product_photos_qty</th>\n      <th>product_weight_g</th>\n      <th>product_length_cm</th>\n      <th>product_height_cm</th>\n      <th>product_width_cm</th>\n      <th>product_category_name_english</th>\n    </tr>\n  </thead>\n  <tbody>\n    <tr>\n      <th>0</th>\n      <td>00010242fe8c5a6d1ba2dd792cb16214</td>\n      <td>1</td>\n      <td>4244733e06e7ecb4970a6e2683c13e61</td>\n      <td>48436dade18ac8b2bce089ec2a041202</td>\n      <td>2017-09-19 09:45:35</td>\n      <td>58.9</td>\n      <td>13.29</td>\n      <td>cool_stuff</td>\n      <td>58.0</td>\n      <td>598.0</td>\n      <td>4.0</td>\n      <td>650.0</td>\n      <td>28.0</td>\n      <td>9.0</td>\n      <td>14.0</td>\n      <td>cool_stuff</td>\n    </tr>\n    <tr>\n      <th>1</th>\n      <td>130898c0987d1801452a8ed92a670612</td>\n      <td>1</td>\n      <td>4244733e06e7ecb4970a6e2683c13e61</td>\n      <td>48436dade18ac8b2bce089ec2a041202</td>\n      <td>2017-07-05 02:44:11</td>\n      <td>55.9</td>\n      <td>17.96</td>\n      <td>cool_stuff</td>\n      <td>58.0</td>\n      <td>598.0</td>\n      <td>4.0</td>\n      <td>650.0</td>\n      <td>28.0</td>\n      <td>9.0</td>\n      <td>14.0</td>\n      <td>cool_stuff</td>\n    </tr>\n    <tr>\n      <th>2</th>\n      <td>532ed5e14e24ae1f0d735b91524b98b9</td>\n      <td>1</td>\n      <td>4244733e06e7ecb4970a6e2683c13e61</td>\n      <td>48436dade18ac8b2bce089ec2a041202</td>\n      <td>2018-05-23 10:56:25</td>\n      <td>64.9</td>\n      <td>18.33</td>\n      <td>cool_stuff</td>\n      <td>58.0</td>\n      <td>598.0</td>\n      <td>4.0</td>\n      <td>650.0</td>\n      <td>28.0</td>\n      <td>9.0</td>\n      <td>14.0</td>\n      <td>cool_stuff</td>\n    </tr>\n    <tr>\n      <th>3</th>\n      <td>6f8c31653edb8c83e1a739408b5ff750</td>\n      <td>1</td>\n      <td>4244733e06e7ecb4970a6e2683c13e61</td>\n      <td>48436dade18ac8b2bce089ec2a041202</td>\n      <td>2017-08-07 18:55:08</td>\n      <td>58.9</td>\n      <td>16.17</td>\n      <td>cool_stuff</td>\n      <td>58.0</td>\n      <td>598.0</td>\n      <td>4.0</td>\n      <td>650.0</td>\n      <td>28.0</td>\n      <td>9.0</td>\n      <td>14.0</td>\n      <td>cool_stuff</td>\n    </tr>\n    <tr>\n      <th>4</th>\n      <td>7d19f4ef4d04461989632411b7e588b9</td>\n      <td>1</td>\n      <td>4244733e06e7ecb4970a6e2683c13e61</td>\n      <td>48436dade18ac8b2bce089ec2a041202</td>\n      <td>2017-08-16 22:05:11</td>\n      <td>58.9</td>\n      <td>13.29</td>\n      <td>cool_stuff</td>\n      <td>58.0</td>\n      <td>598.0</td>\n      <td>4.0</td>\n      <td>650.0</td>\n      <td>28.0</td>\n      <td>9.0</td>\n      <td>14.0</td>\n      <td>cool_stuff</td>\n    </tr>\n  </tbody>\n</table>\n</div>"
     },
     "metadata": {},
     "execution_count": 13
    }
   ],
   "source": [
    "df_complete = pd.merge(df_complete, df_category_name_translation, on=\"product_category_name\")\n",
    "print(df_complete.shape)\n",
    "df_complete.head()"
   ]
  },
  {
   "cell_type": "code",
   "execution_count": 14,
   "metadata": {},
   "outputs": [
    {
     "output_type": "stream",
     "name": "stdout",
     "text": [
      "(111023, 19)\n"
     ]
    },
    {
     "output_type": "execute_result",
     "data": {
      "text/plain": [
       "                           order_id  order_item_id  \\\n",
       "0  00010242fe8c5a6d1ba2dd792cb16214              1   \n",
       "1  130898c0987d1801452a8ed92a670612              1   \n",
       "2  532ed5e14e24ae1f0d735b91524b98b9              1   \n",
       "3  6f8c31653edb8c83e1a739408b5ff750              1   \n",
       "4  7d19f4ef4d04461989632411b7e588b9              1   \n",
       "\n",
       "                         product_id                         seller_id  \\\n",
       "0  4244733e06e7ecb4970a6e2683c13e61  48436dade18ac8b2bce089ec2a041202   \n",
       "1  4244733e06e7ecb4970a6e2683c13e61  48436dade18ac8b2bce089ec2a041202   \n",
       "2  4244733e06e7ecb4970a6e2683c13e61  48436dade18ac8b2bce089ec2a041202   \n",
       "3  4244733e06e7ecb4970a6e2683c13e61  48436dade18ac8b2bce089ec2a041202   \n",
       "4  4244733e06e7ecb4970a6e2683c13e61  48436dade18ac8b2bce089ec2a041202   \n",
       "\n",
       "   shipping_limit_date  price  freight_value product_category_name  \\\n",
       "0  2017-09-19 09:45:35   58.9          13.29            cool_stuff   \n",
       "1  2017-07-05 02:44:11   55.9          17.96            cool_stuff   \n",
       "2  2018-05-23 10:56:25   64.9          18.33            cool_stuff   \n",
       "3  2017-08-07 18:55:08   58.9          16.17            cool_stuff   \n",
       "4  2017-08-16 22:05:11   58.9          13.29            cool_stuff   \n",
       "\n",
       "   product_name_lenght  product_description_lenght  product_photos_qty  \\\n",
       "0                 58.0                       598.0                 4.0   \n",
       "1                 58.0                       598.0                 4.0   \n",
       "2                 58.0                       598.0                 4.0   \n",
       "3                 58.0                       598.0                 4.0   \n",
       "4                 58.0                       598.0                 4.0   \n",
       "\n",
       "   product_weight_g  product_length_cm  product_height_cm  product_width_cm  \\\n",
       "0             650.0               28.0                9.0              14.0   \n",
       "1             650.0               28.0                9.0              14.0   \n",
       "2             650.0               28.0                9.0              14.0   \n",
       "3             650.0               28.0                9.0              14.0   \n",
       "4             650.0               28.0                9.0              14.0   \n",
       "\n",
       "  product_category_name_english  seller_zip_code_prefix    seller_city  \\\n",
       "0                    cool_stuff                   27277  volta redonda   \n",
       "1                    cool_stuff                   27277  volta redonda   \n",
       "2                    cool_stuff                   27277  volta redonda   \n",
       "3                    cool_stuff                   27277  volta redonda   \n",
       "4                    cool_stuff                   27277  volta redonda   \n",
       "\n",
       "  seller_state  \n",
       "0           SP  \n",
       "1           SP  \n",
       "2           SP  \n",
       "3           SP  \n",
       "4           SP  "
      ],
      "text/html": "<div>\n<style scoped>\n    .dataframe tbody tr th:only-of-type {\n        vertical-align: middle;\n    }\n\n    .dataframe tbody tr th {\n        vertical-align: top;\n    }\n\n    .dataframe thead th {\n        text-align: right;\n    }\n</style>\n<table border=\"1\" class=\"dataframe\">\n  <thead>\n    <tr style=\"text-align: right;\">\n      <th></th>\n      <th>order_id</th>\n      <th>order_item_id</th>\n      <th>product_id</th>\n      <th>seller_id</th>\n      <th>shipping_limit_date</th>\n      <th>price</th>\n      <th>freight_value</th>\n      <th>product_category_name</th>\n      <th>product_name_lenght</th>\n      <th>product_description_lenght</th>\n      <th>product_photos_qty</th>\n      <th>product_weight_g</th>\n      <th>product_length_cm</th>\n      <th>product_height_cm</th>\n      <th>product_width_cm</th>\n      <th>product_category_name_english</th>\n      <th>seller_zip_code_prefix</th>\n      <th>seller_city</th>\n      <th>seller_state</th>\n    </tr>\n  </thead>\n  <tbody>\n    <tr>\n      <th>0</th>\n      <td>00010242fe8c5a6d1ba2dd792cb16214</td>\n      <td>1</td>\n      <td>4244733e06e7ecb4970a6e2683c13e61</td>\n      <td>48436dade18ac8b2bce089ec2a041202</td>\n      <td>2017-09-19 09:45:35</td>\n      <td>58.9</td>\n      <td>13.29</td>\n      <td>cool_stuff</td>\n      <td>58.0</td>\n      <td>598.0</td>\n      <td>4.0</td>\n      <td>650.0</td>\n      <td>28.0</td>\n      <td>9.0</td>\n      <td>14.0</td>\n      <td>cool_stuff</td>\n      <td>27277</td>\n      <td>volta redonda</td>\n      <td>SP</td>\n    </tr>\n    <tr>\n      <th>1</th>\n      <td>130898c0987d1801452a8ed92a670612</td>\n      <td>1</td>\n      <td>4244733e06e7ecb4970a6e2683c13e61</td>\n      <td>48436dade18ac8b2bce089ec2a041202</td>\n      <td>2017-07-05 02:44:11</td>\n      <td>55.9</td>\n      <td>17.96</td>\n      <td>cool_stuff</td>\n      <td>58.0</td>\n      <td>598.0</td>\n      <td>4.0</td>\n      <td>650.0</td>\n      <td>28.0</td>\n      <td>9.0</td>\n      <td>14.0</td>\n      <td>cool_stuff</td>\n      <td>27277</td>\n      <td>volta redonda</td>\n      <td>SP</td>\n    </tr>\n    <tr>\n      <th>2</th>\n      <td>532ed5e14e24ae1f0d735b91524b98b9</td>\n      <td>1</td>\n      <td>4244733e06e7ecb4970a6e2683c13e61</td>\n      <td>48436dade18ac8b2bce089ec2a041202</td>\n      <td>2018-05-23 10:56:25</td>\n      <td>64.9</td>\n      <td>18.33</td>\n      <td>cool_stuff</td>\n      <td>58.0</td>\n      <td>598.0</td>\n      <td>4.0</td>\n      <td>650.0</td>\n      <td>28.0</td>\n      <td>9.0</td>\n      <td>14.0</td>\n      <td>cool_stuff</td>\n      <td>27277</td>\n      <td>volta redonda</td>\n      <td>SP</td>\n    </tr>\n    <tr>\n      <th>3</th>\n      <td>6f8c31653edb8c83e1a739408b5ff750</td>\n      <td>1</td>\n      <td>4244733e06e7ecb4970a6e2683c13e61</td>\n      <td>48436dade18ac8b2bce089ec2a041202</td>\n      <td>2017-08-07 18:55:08</td>\n      <td>58.9</td>\n      <td>16.17</td>\n      <td>cool_stuff</td>\n      <td>58.0</td>\n      <td>598.0</td>\n      <td>4.0</td>\n      <td>650.0</td>\n      <td>28.0</td>\n      <td>9.0</td>\n      <td>14.0</td>\n      <td>cool_stuff</td>\n      <td>27277</td>\n      <td>volta redonda</td>\n      <td>SP</td>\n    </tr>\n    <tr>\n      <th>4</th>\n      <td>7d19f4ef4d04461989632411b7e588b9</td>\n      <td>1</td>\n      <td>4244733e06e7ecb4970a6e2683c13e61</td>\n      <td>48436dade18ac8b2bce089ec2a041202</td>\n      <td>2017-08-16 22:05:11</td>\n      <td>58.9</td>\n      <td>13.29</td>\n      <td>cool_stuff</td>\n      <td>58.0</td>\n      <td>598.0</td>\n      <td>4.0</td>\n      <td>650.0</td>\n      <td>28.0</td>\n      <td>9.0</td>\n      <td>14.0</td>\n      <td>cool_stuff</td>\n      <td>27277</td>\n      <td>volta redonda</td>\n      <td>SP</td>\n    </tr>\n  </tbody>\n</table>\n</div>"
     },
     "metadata": {},
     "execution_count": 14
    }
   ],
   "source": [
    "df_complete = pd.merge(df_complete, df_sellers, on=\"seller_id\")\n",
    "print(df_complete.shape)\n",
    "df_complete.head()"
   ]
  },
  {
   "cell_type": "code",
   "execution_count": 15,
   "metadata": {},
   "outputs": [
    {
     "output_type": "execute_result",
     "data": {
      "text/plain": [
       "   geolocation_zip_code_prefix  geolocation_lat  geolocation_lng\n",
       "0                         1001       -23.549292       -46.633559\n",
       "1                         1002       -23.544641       -46.633180\n",
       "2                         1003       -23.548901       -46.634862\n",
       "3                         1004       -23.549181       -46.634057\n",
       "4                         1005       -23.548758       -46.634768"
      ],
      "text/html": "<div>\n<style scoped>\n    .dataframe tbody tr th:only-of-type {\n        vertical-align: middle;\n    }\n\n    .dataframe tbody tr th {\n        vertical-align: top;\n    }\n\n    .dataframe thead th {\n        text-align: right;\n    }\n</style>\n<table border=\"1\" class=\"dataframe\">\n  <thead>\n    <tr style=\"text-align: right;\">\n      <th></th>\n      <th>geolocation_zip_code_prefix</th>\n      <th>geolocation_lat</th>\n      <th>geolocation_lng</th>\n    </tr>\n  </thead>\n  <tbody>\n    <tr>\n      <th>0</th>\n      <td>1001</td>\n      <td>-23.549292</td>\n      <td>-46.633559</td>\n    </tr>\n    <tr>\n      <th>1</th>\n      <td>1002</td>\n      <td>-23.544641</td>\n      <td>-46.633180</td>\n    </tr>\n    <tr>\n      <th>2</th>\n      <td>1003</td>\n      <td>-23.548901</td>\n      <td>-46.634862</td>\n    </tr>\n    <tr>\n      <th>3</th>\n      <td>1004</td>\n      <td>-23.549181</td>\n      <td>-46.634057</td>\n    </tr>\n    <tr>\n      <th>4</th>\n      <td>1005</td>\n      <td>-23.548758</td>\n      <td>-46.634768</td>\n    </tr>\n  </tbody>\n</table>\n</div>"
     },
     "metadata": {},
     "execution_count": 15
    }
   ],
   "source": [
    "df_geolocation_clean = df_geolocation.groupby(\"geolocation_zip_code_prefix\")[[\"geolocation_lat\", \"geolocation_lng\"]].max().reset_index()\n",
    "df_geolocation_clean.head()"
   ]
  },
  {
   "cell_type": "code",
   "execution_count": 16,
   "metadata": {},
   "outputs": [
    {
     "output_type": "stream",
     "name": "stdout",
     "text": [
      "(110771, 22)\n"
     ]
    },
    {
     "output_type": "execute_result",
     "data": {
      "text/plain": [
       "                           order_id  order_item_id  \\\n",
       "0  00010242fe8c5a6d1ba2dd792cb16214              1   \n",
       "1  130898c0987d1801452a8ed92a670612              1   \n",
       "2  532ed5e14e24ae1f0d735b91524b98b9              1   \n",
       "3  6f8c31653edb8c83e1a739408b5ff750              1   \n",
       "4  7d19f4ef4d04461989632411b7e588b9              1   \n",
       "\n",
       "                         product_id                         seller_id  \\\n",
       "0  4244733e06e7ecb4970a6e2683c13e61  48436dade18ac8b2bce089ec2a041202   \n",
       "1  4244733e06e7ecb4970a6e2683c13e61  48436dade18ac8b2bce089ec2a041202   \n",
       "2  4244733e06e7ecb4970a6e2683c13e61  48436dade18ac8b2bce089ec2a041202   \n",
       "3  4244733e06e7ecb4970a6e2683c13e61  48436dade18ac8b2bce089ec2a041202   \n",
       "4  4244733e06e7ecb4970a6e2683c13e61  48436dade18ac8b2bce089ec2a041202   \n",
       "\n",
       "   shipping_limit_date  price  freight_value product_category_name  \\\n",
       "0  2017-09-19 09:45:35   58.9          13.29            cool_stuff   \n",
       "1  2017-07-05 02:44:11   55.9          17.96            cool_stuff   \n",
       "2  2018-05-23 10:56:25   64.9          18.33            cool_stuff   \n",
       "3  2017-08-07 18:55:08   58.9          16.17            cool_stuff   \n",
       "4  2017-08-16 22:05:11   58.9          13.29            cool_stuff   \n",
       "\n",
       "   product_name_lenght  product_description_lenght  ...  product_length_cm  \\\n",
       "0                 58.0                       598.0  ...               28.0   \n",
       "1                 58.0                       598.0  ...               28.0   \n",
       "2                 58.0                       598.0  ...               28.0   \n",
       "3                 58.0                       598.0  ...               28.0   \n",
       "4                 58.0                       598.0  ...               28.0   \n",
       "\n",
       "   product_height_cm  product_width_cm  product_category_name_english  \\\n",
       "0                9.0              14.0                     cool_stuff   \n",
       "1                9.0              14.0                     cool_stuff   \n",
       "2                9.0              14.0                     cool_stuff   \n",
       "3                9.0              14.0                     cool_stuff   \n",
       "4                9.0              14.0                     cool_stuff   \n",
       "\n",
       "   seller_zip_code_prefix    seller_city  seller_state  \\\n",
       "0                   27277  volta redonda            SP   \n",
       "1                   27277  volta redonda            SP   \n",
       "2                   27277  volta redonda            SP   \n",
       "3                   27277  volta redonda            SP   \n",
       "4                   27277  volta redonda            SP   \n",
       "\n",
       "  geolocation_zip_code_prefix geolocation_lat  geolocation_lng  \n",
       "0                       27277      -22.485553        -44.11752  \n",
       "1                       27277      -22.485553        -44.11752  \n",
       "2                       27277      -22.485553        -44.11752  \n",
       "3                       27277      -22.485553        -44.11752  \n",
       "4                       27277      -22.485553        -44.11752  \n",
       "\n",
       "[5 rows x 22 columns]"
      ],
      "text/html": "<div>\n<style scoped>\n    .dataframe tbody tr th:only-of-type {\n        vertical-align: middle;\n    }\n\n    .dataframe tbody tr th {\n        vertical-align: top;\n    }\n\n    .dataframe thead th {\n        text-align: right;\n    }\n</style>\n<table border=\"1\" class=\"dataframe\">\n  <thead>\n    <tr style=\"text-align: right;\">\n      <th></th>\n      <th>order_id</th>\n      <th>order_item_id</th>\n      <th>product_id</th>\n      <th>seller_id</th>\n      <th>shipping_limit_date</th>\n      <th>price</th>\n      <th>freight_value</th>\n      <th>product_category_name</th>\n      <th>product_name_lenght</th>\n      <th>product_description_lenght</th>\n      <th>...</th>\n      <th>product_length_cm</th>\n      <th>product_height_cm</th>\n      <th>product_width_cm</th>\n      <th>product_category_name_english</th>\n      <th>seller_zip_code_prefix</th>\n      <th>seller_city</th>\n      <th>seller_state</th>\n      <th>geolocation_zip_code_prefix</th>\n      <th>geolocation_lat</th>\n      <th>geolocation_lng</th>\n    </tr>\n  </thead>\n  <tbody>\n    <tr>\n      <th>0</th>\n      <td>00010242fe8c5a6d1ba2dd792cb16214</td>\n      <td>1</td>\n      <td>4244733e06e7ecb4970a6e2683c13e61</td>\n      <td>48436dade18ac8b2bce089ec2a041202</td>\n      <td>2017-09-19 09:45:35</td>\n      <td>58.9</td>\n      <td>13.29</td>\n      <td>cool_stuff</td>\n      <td>58.0</td>\n      <td>598.0</td>\n      <td>...</td>\n      <td>28.0</td>\n      <td>9.0</td>\n      <td>14.0</td>\n      <td>cool_stuff</td>\n      <td>27277</td>\n      <td>volta redonda</td>\n      <td>SP</td>\n      <td>27277</td>\n      <td>-22.485553</td>\n      <td>-44.11752</td>\n    </tr>\n    <tr>\n      <th>1</th>\n      <td>130898c0987d1801452a8ed92a670612</td>\n      <td>1</td>\n      <td>4244733e06e7ecb4970a6e2683c13e61</td>\n      <td>48436dade18ac8b2bce089ec2a041202</td>\n      <td>2017-07-05 02:44:11</td>\n      <td>55.9</td>\n      <td>17.96</td>\n      <td>cool_stuff</td>\n      <td>58.0</td>\n      <td>598.0</td>\n      <td>...</td>\n      <td>28.0</td>\n      <td>9.0</td>\n      <td>14.0</td>\n      <td>cool_stuff</td>\n      <td>27277</td>\n      <td>volta redonda</td>\n      <td>SP</td>\n      <td>27277</td>\n      <td>-22.485553</td>\n      <td>-44.11752</td>\n    </tr>\n    <tr>\n      <th>2</th>\n      <td>532ed5e14e24ae1f0d735b91524b98b9</td>\n      <td>1</td>\n      <td>4244733e06e7ecb4970a6e2683c13e61</td>\n      <td>48436dade18ac8b2bce089ec2a041202</td>\n      <td>2018-05-23 10:56:25</td>\n      <td>64.9</td>\n      <td>18.33</td>\n      <td>cool_stuff</td>\n      <td>58.0</td>\n      <td>598.0</td>\n      <td>...</td>\n      <td>28.0</td>\n      <td>9.0</td>\n      <td>14.0</td>\n      <td>cool_stuff</td>\n      <td>27277</td>\n      <td>volta redonda</td>\n      <td>SP</td>\n      <td>27277</td>\n      <td>-22.485553</td>\n      <td>-44.11752</td>\n    </tr>\n    <tr>\n      <th>3</th>\n      <td>6f8c31653edb8c83e1a739408b5ff750</td>\n      <td>1</td>\n      <td>4244733e06e7ecb4970a6e2683c13e61</td>\n      <td>48436dade18ac8b2bce089ec2a041202</td>\n      <td>2017-08-07 18:55:08</td>\n      <td>58.9</td>\n      <td>16.17</td>\n      <td>cool_stuff</td>\n      <td>58.0</td>\n      <td>598.0</td>\n      <td>...</td>\n      <td>28.0</td>\n      <td>9.0</td>\n      <td>14.0</td>\n      <td>cool_stuff</td>\n      <td>27277</td>\n      <td>volta redonda</td>\n      <td>SP</td>\n      <td>27277</td>\n      <td>-22.485553</td>\n      <td>-44.11752</td>\n    </tr>\n    <tr>\n      <th>4</th>\n      <td>7d19f4ef4d04461989632411b7e588b9</td>\n      <td>1</td>\n      <td>4244733e06e7ecb4970a6e2683c13e61</td>\n      <td>48436dade18ac8b2bce089ec2a041202</td>\n      <td>2017-08-16 22:05:11</td>\n      <td>58.9</td>\n      <td>13.29</td>\n      <td>cool_stuff</td>\n      <td>58.0</td>\n      <td>598.0</td>\n      <td>...</td>\n      <td>28.0</td>\n      <td>9.0</td>\n      <td>14.0</td>\n      <td>cool_stuff</td>\n      <td>27277</td>\n      <td>volta redonda</td>\n      <td>SP</td>\n      <td>27277</td>\n      <td>-22.485553</td>\n      <td>-44.11752</td>\n    </tr>\n  </tbody>\n</table>\n<p>5 rows × 22 columns</p>\n</div>"
     },
     "metadata": {},
     "execution_count": 16
    }
   ],
   "source": [
    "df_complete = pd.merge(df_complete, df_geolocation_clean, left_on=\"seller_zip_code_prefix\", right_on=\"geolocation_zip_code_prefix\")\n",
    "print(df_complete.shape)\n",
    "df_complete.head()"
   ]
  },
  {
   "cell_type": "code",
   "execution_count": 17,
   "metadata": {},
   "outputs": [
    {
     "output_type": "stream",
     "name": "stdout",
     "text": [
      "(110771, 21)\n"
     ]
    },
    {
     "output_type": "execute_result",
     "data": {
      "text/plain": [
       "                           order_id  order_item_id  \\\n",
       "0  00010242fe8c5a6d1ba2dd792cb16214              1   \n",
       "1  130898c0987d1801452a8ed92a670612              1   \n",
       "2  532ed5e14e24ae1f0d735b91524b98b9              1   \n",
       "3  6f8c31653edb8c83e1a739408b5ff750              1   \n",
       "4  7d19f4ef4d04461989632411b7e588b9              1   \n",
       "\n",
       "                         product_id                         seller_id  \\\n",
       "0  4244733e06e7ecb4970a6e2683c13e61  48436dade18ac8b2bce089ec2a041202   \n",
       "1  4244733e06e7ecb4970a6e2683c13e61  48436dade18ac8b2bce089ec2a041202   \n",
       "2  4244733e06e7ecb4970a6e2683c13e61  48436dade18ac8b2bce089ec2a041202   \n",
       "3  4244733e06e7ecb4970a6e2683c13e61  48436dade18ac8b2bce089ec2a041202   \n",
       "4  4244733e06e7ecb4970a6e2683c13e61  48436dade18ac8b2bce089ec2a041202   \n",
       "\n",
       "   shipping_limit_date  price  freight_value product_category_name  \\\n",
       "0  2017-09-19 09:45:35   58.9          13.29            cool_stuff   \n",
       "1  2017-07-05 02:44:11   55.9          17.96            cool_stuff   \n",
       "2  2018-05-23 10:56:25   64.9          18.33            cool_stuff   \n",
       "3  2017-08-07 18:55:08   58.9          16.17            cool_stuff   \n",
       "4  2017-08-16 22:05:11   58.9          13.29            cool_stuff   \n",
       "\n",
       "   product_name_lenght  product_description_lenght  ...  product_weight_g  \\\n",
       "0                 58.0                       598.0  ...             650.0   \n",
       "1                 58.0                       598.0  ...             650.0   \n",
       "2                 58.0                       598.0  ...             650.0   \n",
       "3                 58.0                       598.0  ...             650.0   \n",
       "4                 58.0                       598.0  ...             650.0   \n",
       "\n",
       "   product_length_cm  product_height_cm  product_width_cm  \\\n",
       "0               28.0                9.0              14.0   \n",
       "1               28.0                9.0              14.0   \n",
       "2               28.0                9.0              14.0   \n",
       "3               28.0                9.0              14.0   \n",
       "4               28.0                9.0              14.0   \n",
       "\n",
       "   product_category_name_english seller_zip_code_prefix    seller_city  \\\n",
       "0                     cool_stuff                  27277  volta redonda   \n",
       "1                     cool_stuff                  27277  volta redonda   \n",
       "2                     cool_stuff                  27277  volta redonda   \n",
       "3                     cool_stuff                  27277  volta redonda   \n",
       "4                     cool_stuff                  27277  volta redonda   \n",
       "\n",
       "  seller_state seller_geolocation_lat  seller_geolocation_lng  \n",
       "0           SP             -22.485553               -44.11752  \n",
       "1           SP             -22.485553               -44.11752  \n",
       "2           SP             -22.485553               -44.11752  \n",
       "3           SP             -22.485553               -44.11752  \n",
       "4           SP             -22.485553               -44.11752  \n",
       "\n",
       "[5 rows x 21 columns]"
      ],
      "text/html": "<div>\n<style scoped>\n    .dataframe tbody tr th:only-of-type {\n        vertical-align: middle;\n    }\n\n    .dataframe tbody tr th {\n        vertical-align: top;\n    }\n\n    .dataframe thead th {\n        text-align: right;\n    }\n</style>\n<table border=\"1\" class=\"dataframe\">\n  <thead>\n    <tr style=\"text-align: right;\">\n      <th></th>\n      <th>order_id</th>\n      <th>order_item_id</th>\n      <th>product_id</th>\n      <th>seller_id</th>\n      <th>shipping_limit_date</th>\n      <th>price</th>\n      <th>freight_value</th>\n      <th>product_category_name</th>\n      <th>product_name_lenght</th>\n      <th>product_description_lenght</th>\n      <th>...</th>\n      <th>product_weight_g</th>\n      <th>product_length_cm</th>\n      <th>product_height_cm</th>\n      <th>product_width_cm</th>\n      <th>product_category_name_english</th>\n      <th>seller_zip_code_prefix</th>\n      <th>seller_city</th>\n      <th>seller_state</th>\n      <th>seller_geolocation_lat</th>\n      <th>seller_geolocation_lng</th>\n    </tr>\n  </thead>\n  <tbody>\n    <tr>\n      <th>0</th>\n      <td>00010242fe8c5a6d1ba2dd792cb16214</td>\n      <td>1</td>\n      <td>4244733e06e7ecb4970a6e2683c13e61</td>\n      <td>48436dade18ac8b2bce089ec2a041202</td>\n      <td>2017-09-19 09:45:35</td>\n      <td>58.9</td>\n      <td>13.29</td>\n      <td>cool_stuff</td>\n      <td>58.0</td>\n      <td>598.0</td>\n      <td>...</td>\n      <td>650.0</td>\n      <td>28.0</td>\n      <td>9.0</td>\n      <td>14.0</td>\n      <td>cool_stuff</td>\n      <td>27277</td>\n      <td>volta redonda</td>\n      <td>SP</td>\n      <td>-22.485553</td>\n      <td>-44.11752</td>\n    </tr>\n    <tr>\n      <th>1</th>\n      <td>130898c0987d1801452a8ed92a670612</td>\n      <td>1</td>\n      <td>4244733e06e7ecb4970a6e2683c13e61</td>\n      <td>48436dade18ac8b2bce089ec2a041202</td>\n      <td>2017-07-05 02:44:11</td>\n      <td>55.9</td>\n      <td>17.96</td>\n      <td>cool_stuff</td>\n      <td>58.0</td>\n      <td>598.0</td>\n      <td>...</td>\n      <td>650.0</td>\n      <td>28.0</td>\n      <td>9.0</td>\n      <td>14.0</td>\n      <td>cool_stuff</td>\n      <td>27277</td>\n      <td>volta redonda</td>\n      <td>SP</td>\n      <td>-22.485553</td>\n      <td>-44.11752</td>\n    </tr>\n    <tr>\n      <th>2</th>\n      <td>532ed5e14e24ae1f0d735b91524b98b9</td>\n      <td>1</td>\n      <td>4244733e06e7ecb4970a6e2683c13e61</td>\n      <td>48436dade18ac8b2bce089ec2a041202</td>\n      <td>2018-05-23 10:56:25</td>\n      <td>64.9</td>\n      <td>18.33</td>\n      <td>cool_stuff</td>\n      <td>58.0</td>\n      <td>598.0</td>\n      <td>...</td>\n      <td>650.0</td>\n      <td>28.0</td>\n      <td>9.0</td>\n      <td>14.0</td>\n      <td>cool_stuff</td>\n      <td>27277</td>\n      <td>volta redonda</td>\n      <td>SP</td>\n      <td>-22.485553</td>\n      <td>-44.11752</td>\n    </tr>\n    <tr>\n      <th>3</th>\n      <td>6f8c31653edb8c83e1a739408b5ff750</td>\n      <td>1</td>\n      <td>4244733e06e7ecb4970a6e2683c13e61</td>\n      <td>48436dade18ac8b2bce089ec2a041202</td>\n      <td>2017-08-07 18:55:08</td>\n      <td>58.9</td>\n      <td>16.17</td>\n      <td>cool_stuff</td>\n      <td>58.0</td>\n      <td>598.0</td>\n      <td>...</td>\n      <td>650.0</td>\n      <td>28.0</td>\n      <td>9.0</td>\n      <td>14.0</td>\n      <td>cool_stuff</td>\n      <td>27277</td>\n      <td>volta redonda</td>\n      <td>SP</td>\n      <td>-22.485553</td>\n      <td>-44.11752</td>\n    </tr>\n    <tr>\n      <th>4</th>\n      <td>7d19f4ef4d04461989632411b7e588b9</td>\n      <td>1</td>\n      <td>4244733e06e7ecb4970a6e2683c13e61</td>\n      <td>48436dade18ac8b2bce089ec2a041202</td>\n      <td>2017-08-16 22:05:11</td>\n      <td>58.9</td>\n      <td>13.29</td>\n      <td>cool_stuff</td>\n      <td>58.0</td>\n      <td>598.0</td>\n      <td>...</td>\n      <td>650.0</td>\n      <td>28.0</td>\n      <td>9.0</td>\n      <td>14.0</td>\n      <td>cool_stuff</td>\n      <td>27277</td>\n      <td>volta redonda</td>\n      <td>SP</td>\n      <td>-22.485553</td>\n      <td>-44.11752</td>\n    </tr>\n  </tbody>\n</table>\n<p>5 rows × 21 columns</p>\n</div>"
     },
     "metadata": {},
     "execution_count": 17
    }
   ],
   "source": [
    "df_complete = df_complete.rename(columns={\n",
    "    \"geolocation_lat\": \"seller_geolocation_lat\",\n",
    "    \"geolocation_lng\": \"seller_geolocation_lng\",\n",
    "}).drop(columns=[\"geolocation_zip_code_prefix\"])\n",
    "print(df_complete.shape)\n",
    "df_complete.head()"
   ]
  },
  {
   "cell_type": "code",
   "execution_count": 18,
   "metadata": {},
   "outputs": [
    {
     "output_type": "stream",
     "name": "stdout",
     "text": [
      "(110771, 28)\n"
     ]
    },
    {
     "output_type": "execute_result",
     "data": {
      "text/plain": [
       "                           order_id  order_item_id  \\\n",
       "0  00010242fe8c5a6d1ba2dd792cb16214              1   \n",
       "1  130898c0987d1801452a8ed92a670612              1   \n",
       "2  532ed5e14e24ae1f0d735b91524b98b9              1   \n",
       "3  6f8c31653edb8c83e1a739408b5ff750              1   \n",
       "4  7d19f4ef4d04461989632411b7e588b9              1   \n",
       "\n",
       "                         product_id                         seller_id  \\\n",
       "0  4244733e06e7ecb4970a6e2683c13e61  48436dade18ac8b2bce089ec2a041202   \n",
       "1  4244733e06e7ecb4970a6e2683c13e61  48436dade18ac8b2bce089ec2a041202   \n",
       "2  4244733e06e7ecb4970a6e2683c13e61  48436dade18ac8b2bce089ec2a041202   \n",
       "3  4244733e06e7ecb4970a6e2683c13e61  48436dade18ac8b2bce089ec2a041202   \n",
       "4  4244733e06e7ecb4970a6e2683c13e61  48436dade18ac8b2bce089ec2a041202   \n",
       "\n",
       "   shipping_limit_date  price  freight_value product_category_name  \\\n",
       "0  2017-09-19 09:45:35   58.9          13.29            cool_stuff   \n",
       "1  2017-07-05 02:44:11   55.9          17.96            cool_stuff   \n",
       "2  2018-05-23 10:56:25   64.9          18.33            cool_stuff   \n",
       "3  2017-08-07 18:55:08   58.9          16.17            cool_stuff   \n",
       "4  2017-08-16 22:05:11   58.9          13.29            cool_stuff   \n",
       "\n",
       "   product_name_lenght  product_description_lenght  ...  seller_state  \\\n",
       "0                 58.0                       598.0  ...            SP   \n",
       "1                 58.0                       598.0  ...            SP   \n",
       "2                 58.0                       598.0  ...            SP   \n",
       "3                 58.0                       598.0  ...            SP   \n",
       "4                 58.0                       598.0  ...            SP   \n",
       "\n",
       "   seller_geolocation_lat  seller_geolocation_lng  \\\n",
       "0              -22.485553               -44.11752   \n",
       "1              -22.485553               -44.11752   \n",
       "2              -22.485553               -44.11752   \n",
       "3              -22.485553               -44.11752   \n",
       "4              -22.485553               -44.11752   \n",
       "\n",
       "                        customer_id  order_status order_purchase_timestamp  \\\n",
       "0  3ce436f183e68e07877b285a838db11a     delivered      2017-09-13 08:59:02   \n",
       "1  e6eecc5a77de221464d1c4eaff0a9b64     delivered      2017-06-28 11:52:20   \n",
       "2  4ef55bf80f711b372afebcb7c715344a     delivered      2018-05-18 10:25:53   \n",
       "3  30407a72ad8b3f4df4d15369126b20c9     delivered      2017-08-01 18:38:42   \n",
       "4  91a792fef70ecd8cc69d3c7feb3d12da     delivered      2017-08-10 21:48:40   \n",
       "\n",
       "     order_approved_at order_delivered_carrier_date  \\\n",
       "0  2017-09-13 09:45:35          2017-09-19 18:34:16   \n",
       "1  2017-06-29 02:44:11          2017-07-05 12:00:33   \n",
       "2  2018-05-18 12:31:43          2018-05-23 14:05:00   \n",
       "3  2017-08-01 18:55:08          2017-08-02 19:07:36   \n",
       "4  2017-08-10 22:05:11          2017-08-11 19:43:07   \n",
       "\n",
       "  order_delivered_customer_date  order_estimated_delivery_date  \n",
       "0           2017-09-20 23:43:48            2017-09-29 00:00:00  \n",
       "1           2017-07-13 20:39:29            2017-07-26 00:00:00  \n",
       "2           2018-06-04 18:34:26            2018-06-07 00:00:00  \n",
       "3           2017-08-09 21:26:33            2017-08-25 00:00:00  \n",
       "4           2017-08-24 20:04:21            2017-09-01 00:00:00  \n",
       "\n",
       "[5 rows x 28 columns]"
      ],
      "text/html": "<div>\n<style scoped>\n    .dataframe tbody tr th:only-of-type {\n        vertical-align: middle;\n    }\n\n    .dataframe tbody tr th {\n        vertical-align: top;\n    }\n\n    .dataframe thead th {\n        text-align: right;\n    }\n</style>\n<table border=\"1\" class=\"dataframe\">\n  <thead>\n    <tr style=\"text-align: right;\">\n      <th></th>\n      <th>order_id</th>\n      <th>order_item_id</th>\n      <th>product_id</th>\n      <th>seller_id</th>\n      <th>shipping_limit_date</th>\n      <th>price</th>\n      <th>freight_value</th>\n      <th>product_category_name</th>\n      <th>product_name_lenght</th>\n      <th>product_description_lenght</th>\n      <th>...</th>\n      <th>seller_state</th>\n      <th>seller_geolocation_lat</th>\n      <th>seller_geolocation_lng</th>\n      <th>customer_id</th>\n      <th>order_status</th>\n      <th>order_purchase_timestamp</th>\n      <th>order_approved_at</th>\n      <th>order_delivered_carrier_date</th>\n      <th>order_delivered_customer_date</th>\n      <th>order_estimated_delivery_date</th>\n    </tr>\n  </thead>\n  <tbody>\n    <tr>\n      <th>0</th>\n      <td>00010242fe8c5a6d1ba2dd792cb16214</td>\n      <td>1</td>\n      <td>4244733e06e7ecb4970a6e2683c13e61</td>\n      <td>48436dade18ac8b2bce089ec2a041202</td>\n      <td>2017-09-19 09:45:35</td>\n      <td>58.9</td>\n      <td>13.29</td>\n      <td>cool_stuff</td>\n      <td>58.0</td>\n      <td>598.0</td>\n      <td>...</td>\n      <td>SP</td>\n      <td>-22.485553</td>\n      <td>-44.11752</td>\n      <td>3ce436f183e68e07877b285a838db11a</td>\n      <td>delivered</td>\n      <td>2017-09-13 08:59:02</td>\n      <td>2017-09-13 09:45:35</td>\n      <td>2017-09-19 18:34:16</td>\n      <td>2017-09-20 23:43:48</td>\n      <td>2017-09-29 00:00:00</td>\n    </tr>\n    <tr>\n      <th>1</th>\n      <td>130898c0987d1801452a8ed92a670612</td>\n      <td>1</td>\n      <td>4244733e06e7ecb4970a6e2683c13e61</td>\n      <td>48436dade18ac8b2bce089ec2a041202</td>\n      <td>2017-07-05 02:44:11</td>\n      <td>55.9</td>\n      <td>17.96</td>\n      <td>cool_stuff</td>\n      <td>58.0</td>\n      <td>598.0</td>\n      <td>...</td>\n      <td>SP</td>\n      <td>-22.485553</td>\n      <td>-44.11752</td>\n      <td>e6eecc5a77de221464d1c4eaff0a9b64</td>\n      <td>delivered</td>\n      <td>2017-06-28 11:52:20</td>\n      <td>2017-06-29 02:44:11</td>\n      <td>2017-07-05 12:00:33</td>\n      <td>2017-07-13 20:39:29</td>\n      <td>2017-07-26 00:00:00</td>\n    </tr>\n    <tr>\n      <th>2</th>\n      <td>532ed5e14e24ae1f0d735b91524b98b9</td>\n      <td>1</td>\n      <td>4244733e06e7ecb4970a6e2683c13e61</td>\n      <td>48436dade18ac8b2bce089ec2a041202</td>\n      <td>2018-05-23 10:56:25</td>\n      <td>64.9</td>\n      <td>18.33</td>\n      <td>cool_stuff</td>\n      <td>58.0</td>\n      <td>598.0</td>\n      <td>...</td>\n      <td>SP</td>\n      <td>-22.485553</td>\n      <td>-44.11752</td>\n      <td>4ef55bf80f711b372afebcb7c715344a</td>\n      <td>delivered</td>\n      <td>2018-05-18 10:25:53</td>\n      <td>2018-05-18 12:31:43</td>\n      <td>2018-05-23 14:05:00</td>\n      <td>2018-06-04 18:34:26</td>\n      <td>2018-06-07 00:00:00</td>\n    </tr>\n    <tr>\n      <th>3</th>\n      <td>6f8c31653edb8c83e1a739408b5ff750</td>\n      <td>1</td>\n      <td>4244733e06e7ecb4970a6e2683c13e61</td>\n      <td>48436dade18ac8b2bce089ec2a041202</td>\n      <td>2017-08-07 18:55:08</td>\n      <td>58.9</td>\n      <td>16.17</td>\n      <td>cool_stuff</td>\n      <td>58.0</td>\n      <td>598.0</td>\n      <td>...</td>\n      <td>SP</td>\n      <td>-22.485553</td>\n      <td>-44.11752</td>\n      <td>30407a72ad8b3f4df4d15369126b20c9</td>\n      <td>delivered</td>\n      <td>2017-08-01 18:38:42</td>\n      <td>2017-08-01 18:55:08</td>\n      <td>2017-08-02 19:07:36</td>\n      <td>2017-08-09 21:26:33</td>\n      <td>2017-08-25 00:00:00</td>\n    </tr>\n    <tr>\n      <th>4</th>\n      <td>7d19f4ef4d04461989632411b7e588b9</td>\n      <td>1</td>\n      <td>4244733e06e7ecb4970a6e2683c13e61</td>\n      <td>48436dade18ac8b2bce089ec2a041202</td>\n      <td>2017-08-16 22:05:11</td>\n      <td>58.9</td>\n      <td>13.29</td>\n      <td>cool_stuff</td>\n      <td>58.0</td>\n      <td>598.0</td>\n      <td>...</td>\n      <td>SP</td>\n      <td>-22.485553</td>\n      <td>-44.11752</td>\n      <td>91a792fef70ecd8cc69d3c7feb3d12da</td>\n      <td>delivered</td>\n      <td>2017-08-10 21:48:40</td>\n      <td>2017-08-10 22:05:11</td>\n      <td>2017-08-11 19:43:07</td>\n      <td>2017-08-24 20:04:21</td>\n      <td>2017-09-01 00:00:00</td>\n    </tr>\n  </tbody>\n</table>\n<p>5 rows × 28 columns</p>\n</div>"
     },
     "metadata": {},
     "execution_count": 18
    }
   ],
   "source": [
    "df_complete = pd.merge(df_complete, df_orders, on=\"order_id\")\n",
    "print(df_complete.shape)\n",
    "df_complete.head()"
   ]
  },
  {
   "cell_type": "code",
   "execution_count": 19,
   "metadata": {},
   "outputs": [
    {
     "output_type": "stream",
     "name": "stdout",
     "text": [
      "(110771, 32)\n"
     ]
    },
    {
     "output_type": "execute_result",
     "data": {
      "text/plain": [
       "                           order_id  order_item_id  \\\n",
       "0  00010242fe8c5a6d1ba2dd792cb16214              1   \n",
       "1  130898c0987d1801452a8ed92a670612              1   \n",
       "2  532ed5e14e24ae1f0d735b91524b98b9              1   \n",
       "3  6f8c31653edb8c83e1a739408b5ff750              1   \n",
       "4  7d19f4ef4d04461989632411b7e588b9              1   \n",
       "\n",
       "                         product_id                         seller_id  \\\n",
       "0  4244733e06e7ecb4970a6e2683c13e61  48436dade18ac8b2bce089ec2a041202   \n",
       "1  4244733e06e7ecb4970a6e2683c13e61  48436dade18ac8b2bce089ec2a041202   \n",
       "2  4244733e06e7ecb4970a6e2683c13e61  48436dade18ac8b2bce089ec2a041202   \n",
       "3  4244733e06e7ecb4970a6e2683c13e61  48436dade18ac8b2bce089ec2a041202   \n",
       "4  4244733e06e7ecb4970a6e2683c13e61  48436dade18ac8b2bce089ec2a041202   \n",
       "\n",
       "   shipping_limit_date  price  freight_value product_category_name  \\\n",
       "0  2017-09-19 09:45:35   58.9          13.29            cool_stuff   \n",
       "1  2017-07-05 02:44:11   55.9          17.96            cool_stuff   \n",
       "2  2018-05-23 10:56:25   64.9          18.33            cool_stuff   \n",
       "3  2017-08-07 18:55:08   58.9          16.17            cool_stuff   \n",
       "4  2017-08-16 22:05:11   58.9          13.29            cool_stuff   \n",
       "\n",
       "   product_name_lenght  product_description_lenght  ...  order_status  \\\n",
       "0                 58.0                       598.0  ...     delivered   \n",
       "1                 58.0                       598.0  ...     delivered   \n",
       "2                 58.0                       598.0  ...     delivered   \n",
       "3                 58.0                       598.0  ...     delivered   \n",
       "4                 58.0                       598.0  ...     delivered   \n",
       "\n",
       "   order_purchase_timestamp    order_approved_at  \\\n",
       "0       2017-09-13 08:59:02  2017-09-13 09:45:35   \n",
       "1       2017-06-28 11:52:20  2017-06-29 02:44:11   \n",
       "2       2018-05-18 10:25:53  2018-05-18 12:31:43   \n",
       "3       2017-08-01 18:38:42  2017-08-01 18:55:08   \n",
       "4       2017-08-10 21:48:40  2017-08-10 22:05:11   \n",
       "\n",
       "   order_delivered_carrier_date  order_delivered_customer_date  \\\n",
       "0           2017-09-19 18:34:16            2017-09-20 23:43:48   \n",
       "1           2017-07-05 12:00:33            2017-07-13 20:39:29   \n",
       "2           2018-05-23 14:05:00            2018-06-04 18:34:26   \n",
       "3           2017-08-02 19:07:36            2017-08-09 21:26:33   \n",
       "4           2017-08-11 19:43:07            2017-08-24 20:04:21   \n",
       "\n",
       "  order_estimated_delivery_date                customer_unique_id  \\\n",
       "0           2017-09-29 00:00:00  871766c5855e863f6eccc05f988b23cb   \n",
       "1           2017-07-26 00:00:00  0fb8e3eab2d3e79d92bb3fffbb97f188   \n",
       "2           2018-06-07 00:00:00  3419052c8c6b45daf79c1e426f9e9bcb   \n",
       "3           2017-08-25 00:00:00  e7c828d22c0682c1565252deefbe334d   \n",
       "4           2017-09-01 00:00:00  0bb98ba72dcc08e95f9d8cc434e9a2cc   \n",
       "\n",
       "  customer_zip_code_prefix          customer_city  customer_state  \n",
       "0                    28013  campos dos goytacazes              RJ  \n",
       "1                    75800                  jatai              GO  \n",
       "2                    30720         belo horizonte              MG  \n",
       "3                    83070   sao jose dos pinhais              PR  \n",
       "4                    36400   conselheiro lafaiete              MG  \n",
       "\n",
       "[5 rows x 32 columns]"
      ],
      "text/html": "<div>\n<style scoped>\n    .dataframe tbody tr th:only-of-type {\n        vertical-align: middle;\n    }\n\n    .dataframe tbody tr th {\n        vertical-align: top;\n    }\n\n    .dataframe thead th {\n        text-align: right;\n    }\n</style>\n<table border=\"1\" class=\"dataframe\">\n  <thead>\n    <tr style=\"text-align: right;\">\n      <th></th>\n      <th>order_id</th>\n      <th>order_item_id</th>\n      <th>product_id</th>\n      <th>seller_id</th>\n      <th>shipping_limit_date</th>\n      <th>price</th>\n      <th>freight_value</th>\n      <th>product_category_name</th>\n      <th>product_name_lenght</th>\n      <th>product_description_lenght</th>\n      <th>...</th>\n      <th>order_status</th>\n      <th>order_purchase_timestamp</th>\n      <th>order_approved_at</th>\n      <th>order_delivered_carrier_date</th>\n      <th>order_delivered_customer_date</th>\n      <th>order_estimated_delivery_date</th>\n      <th>customer_unique_id</th>\n      <th>customer_zip_code_prefix</th>\n      <th>customer_city</th>\n      <th>customer_state</th>\n    </tr>\n  </thead>\n  <tbody>\n    <tr>\n      <th>0</th>\n      <td>00010242fe8c5a6d1ba2dd792cb16214</td>\n      <td>1</td>\n      <td>4244733e06e7ecb4970a6e2683c13e61</td>\n      <td>48436dade18ac8b2bce089ec2a041202</td>\n      <td>2017-09-19 09:45:35</td>\n      <td>58.9</td>\n      <td>13.29</td>\n      <td>cool_stuff</td>\n      <td>58.0</td>\n      <td>598.0</td>\n      <td>...</td>\n      <td>delivered</td>\n      <td>2017-09-13 08:59:02</td>\n      <td>2017-09-13 09:45:35</td>\n      <td>2017-09-19 18:34:16</td>\n      <td>2017-09-20 23:43:48</td>\n      <td>2017-09-29 00:00:00</td>\n      <td>871766c5855e863f6eccc05f988b23cb</td>\n      <td>28013</td>\n      <td>campos dos goytacazes</td>\n      <td>RJ</td>\n    </tr>\n    <tr>\n      <th>1</th>\n      <td>130898c0987d1801452a8ed92a670612</td>\n      <td>1</td>\n      <td>4244733e06e7ecb4970a6e2683c13e61</td>\n      <td>48436dade18ac8b2bce089ec2a041202</td>\n      <td>2017-07-05 02:44:11</td>\n      <td>55.9</td>\n      <td>17.96</td>\n      <td>cool_stuff</td>\n      <td>58.0</td>\n      <td>598.0</td>\n      <td>...</td>\n      <td>delivered</td>\n      <td>2017-06-28 11:52:20</td>\n      <td>2017-06-29 02:44:11</td>\n      <td>2017-07-05 12:00:33</td>\n      <td>2017-07-13 20:39:29</td>\n      <td>2017-07-26 00:00:00</td>\n      <td>0fb8e3eab2d3e79d92bb3fffbb97f188</td>\n      <td>75800</td>\n      <td>jatai</td>\n      <td>GO</td>\n    </tr>\n    <tr>\n      <th>2</th>\n      <td>532ed5e14e24ae1f0d735b91524b98b9</td>\n      <td>1</td>\n      <td>4244733e06e7ecb4970a6e2683c13e61</td>\n      <td>48436dade18ac8b2bce089ec2a041202</td>\n      <td>2018-05-23 10:56:25</td>\n      <td>64.9</td>\n      <td>18.33</td>\n      <td>cool_stuff</td>\n      <td>58.0</td>\n      <td>598.0</td>\n      <td>...</td>\n      <td>delivered</td>\n      <td>2018-05-18 10:25:53</td>\n      <td>2018-05-18 12:31:43</td>\n      <td>2018-05-23 14:05:00</td>\n      <td>2018-06-04 18:34:26</td>\n      <td>2018-06-07 00:00:00</td>\n      <td>3419052c8c6b45daf79c1e426f9e9bcb</td>\n      <td>30720</td>\n      <td>belo horizonte</td>\n      <td>MG</td>\n    </tr>\n    <tr>\n      <th>3</th>\n      <td>6f8c31653edb8c83e1a739408b5ff750</td>\n      <td>1</td>\n      <td>4244733e06e7ecb4970a6e2683c13e61</td>\n      <td>48436dade18ac8b2bce089ec2a041202</td>\n      <td>2017-08-07 18:55:08</td>\n      <td>58.9</td>\n      <td>16.17</td>\n      <td>cool_stuff</td>\n      <td>58.0</td>\n      <td>598.0</td>\n      <td>...</td>\n      <td>delivered</td>\n      <td>2017-08-01 18:38:42</td>\n      <td>2017-08-01 18:55:08</td>\n      <td>2017-08-02 19:07:36</td>\n      <td>2017-08-09 21:26:33</td>\n      <td>2017-08-25 00:00:00</td>\n      <td>e7c828d22c0682c1565252deefbe334d</td>\n      <td>83070</td>\n      <td>sao jose dos pinhais</td>\n      <td>PR</td>\n    </tr>\n    <tr>\n      <th>4</th>\n      <td>7d19f4ef4d04461989632411b7e588b9</td>\n      <td>1</td>\n      <td>4244733e06e7ecb4970a6e2683c13e61</td>\n      <td>48436dade18ac8b2bce089ec2a041202</td>\n      <td>2017-08-16 22:05:11</td>\n      <td>58.9</td>\n      <td>13.29</td>\n      <td>cool_stuff</td>\n      <td>58.0</td>\n      <td>598.0</td>\n      <td>...</td>\n      <td>delivered</td>\n      <td>2017-08-10 21:48:40</td>\n      <td>2017-08-10 22:05:11</td>\n      <td>2017-08-11 19:43:07</td>\n      <td>2017-08-24 20:04:21</td>\n      <td>2017-09-01 00:00:00</td>\n      <td>0bb98ba72dcc08e95f9d8cc434e9a2cc</td>\n      <td>36400</td>\n      <td>conselheiro lafaiete</td>\n      <td>MG</td>\n    </tr>\n  </tbody>\n</table>\n<p>5 rows × 32 columns</p>\n</div>"
     },
     "metadata": {},
     "execution_count": 19
    }
   ],
   "source": [
    "df_complete = pd.merge(df_complete, df_customers, on=\"customer_id\")\n",
    "print(df_complete.shape)\n",
    "df_complete.head()"
   ]
  },
  {
   "cell_type": "code",
   "execution_count": 20,
   "metadata": {},
   "outputs": [
    {
     "output_type": "stream",
     "name": "stdout",
     "text": [
      "(110476, 35)\n"
     ]
    },
    {
     "output_type": "execute_result",
     "data": {
      "text/plain": [
       "                           order_id  order_item_id  \\\n",
       "0  00010242fe8c5a6d1ba2dd792cb16214              1   \n",
       "1  bd31b009e1dbc47fc7c250b1e2cf5440              1   \n",
       "2  bb4eb0196897c20281a61f75ce23211c              1   \n",
       "3  f9847bf9cc7336c6ba07fe2bdbb6cae1              1   \n",
       "4  53d1f26612893ef17dbc27d69a8382e4              1   \n",
       "\n",
       "                         product_id                         seller_id  \\\n",
       "0  4244733e06e7ecb4970a6e2683c13e61  48436dade18ac8b2bce089ec2a041202   \n",
       "1  92e2d2146e433cd4d1f09a3f8633ead0  4a3ca9315b744ce9f8e9374361493884   \n",
       "2  8cee1d824765335c48ccc515c2ecf4b8  4a3ca9315b744ce9f8e9374361493884   \n",
       "3  3e5201fe0d1ba474d9b90152c83c706c  8160255418d5aaa7dbdc9f4c64ebda44   \n",
       "4  3bc1b27ebc43f46dcb6aace1b65325a7  6cd68b3ed6d59aaa9fece558ad360c0a   \n",
       "\n",
       "   shipping_limit_date  price  freight_value product_category_name  \\\n",
       "0  2017-09-19 09:45:35   58.9          13.29            cool_stuff   \n",
       "1  2018-05-02 03:51:18   52.9          22.95       cama_mesa_banho   \n",
       "2  2017-07-28 14:50:11   96.0          15.42       cama_mesa_banho   \n",
       "3  2018-05-16 18:30:50  125.9          13.30       cama_mesa_banho   \n",
       "4  2017-11-10 11:35:46  129.5          16.67      malas_acessorios   \n",
       "\n",
       "   product_name_lenght  product_description_lenght  ...  \\\n",
       "0                 58.0                       598.0  ...   \n",
       "1                 53.0                       714.0  ...   \n",
       "2                 54.0                       385.0  ...   \n",
       "3                 56.0                       255.0  ...   \n",
       "4                 43.0                       783.0  ...   \n",
       "\n",
       "   order_delivered_carrier_date  order_delivered_customer_date  \\\n",
       "0           2017-09-19 18:34:16            2017-09-20 23:43:48   \n",
       "1           2018-04-25 15:33:00            2018-05-08 22:24:49   \n",
       "2           2017-07-26 20:22:05            2017-08-03 17:37:42   \n",
       "3           2018-05-11 16:28:00            2018-05-22 23:24:32   \n",
       "4           2017-11-07 14:18:46            2017-11-13 17:48:39   \n",
       "\n",
       "   order_estimated_delivery_date                customer_unique_id  \\\n",
       "0            2017-09-29 00:00:00  871766c5855e863f6eccc05f988b23cb   \n",
       "1            2018-05-21 00:00:00  8d500d527a1d67efec12faf28b61885b   \n",
       "2            2017-08-15 00:00:00  81fde78227bbac716944e215b6895639   \n",
       "3            2018-06-04 00:00:00  592fa32dca4f04d098afdc9912bd0629   \n",
       "4            2017-11-28 00:00:00  2583866968d72b2503e08837f6698689   \n",
       "\n",
       "   customer_zip_code_prefix          customer_city  customer_state  \\\n",
       "0                     28013  campos dos goytacazes              RJ   \n",
       "1                     28013  campos dos goytacazes              RJ   \n",
       "2                     28013  campos dos goytacazes              RJ   \n",
       "3                     28013  campos dos goytacazes              RJ   \n",
       "4                     28013  campos dos goytacazes              RJ   \n",
       "\n",
       "  geolocation_zip_code_prefix geolocation_lat  geolocation_lng  \n",
       "0                       28013      -21.720615       -41.253645  \n",
       "1                       28013      -21.720615       -41.253645  \n",
       "2                       28013      -21.720615       -41.253645  \n",
       "3                       28013      -21.720615       -41.253645  \n",
       "4                       28013      -21.720615       -41.253645  \n",
       "\n",
       "[5 rows x 35 columns]"
      ],
      "text/html": "<div>\n<style scoped>\n    .dataframe tbody tr th:only-of-type {\n        vertical-align: middle;\n    }\n\n    .dataframe tbody tr th {\n        vertical-align: top;\n    }\n\n    .dataframe thead th {\n        text-align: right;\n    }\n</style>\n<table border=\"1\" class=\"dataframe\">\n  <thead>\n    <tr style=\"text-align: right;\">\n      <th></th>\n      <th>order_id</th>\n      <th>order_item_id</th>\n      <th>product_id</th>\n      <th>seller_id</th>\n      <th>shipping_limit_date</th>\n      <th>price</th>\n      <th>freight_value</th>\n      <th>product_category_name</th>\n      <th>product_name_lenght</th>\n      <th>product_description_lenght</th>\n      <th>...</th>\n      <th>order_delivered_carrier_date</th>\n      <th>order_delivered_customer_date</th>\n      <th>order_estimated_delivery_date</th>\n      <th>customer_unique_id</th>\n      <th>customer_zip_code_prefix</th>\n      <th>customer_city</th>\n      <th>customer_state</th>\n      <th>geolocation_zip_code_prefix</th>\n      <th>geolocation_lat</th>\n      <th>geolocation_lng</th>\n    </tr>\n  </thead>\n  <tbody>\n    <tr>\n      <th>0</th>\n      <td>00010242fe8c5a6d1ba2dd792cb16214</td>\n      <td>1</td>\n      <td>4244733e06e7ecb4970a6e2683c13e61</td>\n      <td>48436dade18ac8b2bce089ec2a041202</td>\n      <td>2017-09-19 09:45:35</td>\n      <td>58.9</td>\n      <td>13.29</td>\n      <td>cool_stuff</td>\n      <td>58.0</td>\n      <td>598.0</td>\n      <td>...</td>\n      <td>2017-09-19 18:34:16</td>\n      <td>2017-09-20 23:43:48</td>\n      <td>2017-09-29 00:00:00</td>\n      <td>871766c5855e863f6eccc05f988b23cb</td>\n      <td>28013</td>\n      <td>campos dos goytacazes</td>\n      <td>RJ</td>\n      <td>28013</td>\n      <td>-21.720615</td>\n      <td>-41.253645</td>\n    </tr>\n    <tr>\n      <th>1</th>\n      <td>bd31b009e1dbc47fc7c250b1e2cf5440</td>\n      <td>1</td>\n      <td>92e2d2146e433cd4d1f09a3f8633ead0</td>\n      <td>4a3ca9315b744ce9f8e9374361493884</td>\n      <td>2018-05-02 03:51:18</td>\n      <td>52.9</td>\n      <td>22.95</td>\n      <td>cama_mesa_banho</td>\n      <td>53.0</td>\n      <td>714.0</td>\n      <td>...</td>\n      <td>2018-04-25 15:33:00</td>\n      <td>2018-05-08 22:24:49</td>\n      <td>2018-05-21 00:00:00</td>\n      <td>8d500d527a1d67efec12faf28b61885b</td>\n      <td>28013</td>\n      <td>campos dos goytacazes</td>\n      <td>RJ</td>\n      <td>28013</td>\n      <td>-21.720615</td>\n      <td>-41.253645</td>\n    </tr>\n    <tr>\n      <th>2</th>\n      <td>bb4eb0196897c20281a61f75ce23211c</td>\n      <td>1</td>\n      <td>8cee1d824765335c48ccc515c2ecf4b8</td>\n      <td>4a3ca9315b744ce9f8e9374361493884</td>\n      <td>2017-07-28 14:50:11</td>\n      <td>96.0</td>\n      <td>15.42</td>\n      <td>cama_mesa_banho</td>\n      <td>54.0</td>\n      <td>385.0</td>\n      <td>...</td>\n      <td>2017-07-26 20:22:05</td>\n      <td>2017-08-03 17:37:42</td>\n      <td>2017-08-15 00:00:00</td>\n      <td>81fde78227bbac716944e215b6895639</td>\n      <td>28013</td>\n      <td>campos dos goytacazes</td>\n      <td>RJ</td>\n      <td>28013</td>\n      <td>-21.720615</td>\n      <td>-41.253645</td>\n    </tr>\n    <tr>\n      <th>3</th>\n      <td>f9847bf9cc7336c6ba07fe2bdbb6cae1</td>\n      <td>1</td>\n      <td>3e5201fe0d1ba474d9b90152c83c706c</td>\n      <td>8160255418d5aaa7dbdc9f4c64ebda44</td>\n      <td>2018-05-16 18:30:50</td>\n      <td>125.9</td>\n      <td>13.30</td>\n      <td>cama_mesa_banho</td>\n      <td>56.0</td>\n      <td>255.0</td>\n      <td>...</td>\n      <td>2018-05-11 16:28:00</td>\n      <td>2018-05-22 23:24:32</td>\n      <td>2018-06-04 00:00:00</td>\n      <td>592fa32dca4f04d098afdc9912bd0629</td>\n      <td>28013</td>\n      <td>campos dos goytacazes</td>\n      <td>RJ</td>\n      <td>28013</td>\n      <td>-21.720615</td>\n      <td>-41.253645</td>\n    </tr>\n    <tr>\n      <th>4</th>\n      <td>53d1f26612893ef17dbc27d69a8382e4</td>\n      <td>1</td>\n      <td>3bc1b27ebc43f46dcb6aace1b65325a7</td>\n      <td>6cd68b3ed6d59aaa9fece558ad360c0a</td>\n      <td>2017-11-10 11:35:46</td>\n      <td>129.5</td>\n      <td>16.67</td>\n      <td>malas_acessorios</td>\n      <td>43.0</td>\n      <td>783.0</td>\n      <td>...</td>\n      <td>2017-11-07 14:18:46</td>\n      <td>2017-11-13 17:48:39</td>\n      <td>2017-11-28 00:00:00</td>\n      <td>2583866968d72b2503e08837f6698689</td>\n      <td>28013</td>\n      <td>campos dos goytacazes</td>\n      <td>RJ</td>\n      <td>28013</td>\n      <td>-21.720615</td>\n      <td>-41.253645</td>\n    </tr>\n  </tbody>\n</table>\n<p>5 rows × 35 columns</p>\n</div>"
     },
     "metadata": {},
     "execution_count": 20
    }
   ],
   "source": [
    "df_complete = pd.merge(df_complete, df_geolocation_clean, left_on=\"customer_zip_code_prefix\", right_on=\"geolocation_zip_code_prefix\")\n",
    "print(df_complete.shape)\n",
    "df_complete.head()"
   ]
  },
  {
   "cell_type": "code",
   "execution_count": 21,
   "metadata": {},
   "outputs": [
    {
     "output_type": "stream",
     "name": "stdout",
     "text": [
      "(110476, 34)\n"
     ]
    },
    {
     "output_type": "execute_result",
     "data": {
      "text/plain": [
       "                           order_id  order_item_id  \\\n",
       "0  00010242fe8c5a6d1ba2dd792cb16214              1   \n",
       "1  bd31b009e1dbc47fc7c250b1e2cf5440              1   \n",
       "2  bb4eb0196897c20281a61f75ce23211c              1   \n",
       "3  f9847bf9cc7336c6ba07fe2bdbb6cae1              1   \n",
       "4  53d1f26612893ef17dbc27d69a8382e4              1   \n",
       "\n",
       "                         product_id                         seller_id  \\\n",
       "0  4244733e06e7ecb4970a6e2683c13e61  48436dade18ac8b2bce089ec2a041202   \n",
       "1  92e2d2146e433cd4d1f09a3f8633ead0  4a3ca9315b744ce9f8e9374361493884   \n",
       "2  8cee1d824765335c48ccc515c2ecf4b8  4a3ca9315b744ce9f8e9374361493884   \n",
       "3  3e5201fe0d1ba474d9b90152c83c706c  8160255418d5aaa7dbdc9f4c64ebda44   \n",
       "4  3bc1b27ebc43f46dcb6aace1b65325a7  6cd68b3ed6d59aaa9fece558ad360c0a   \n",
       "\n",
       "   shipping_limit_date  price  freight_value product_category_name  \\\n",
       "0  2017-09-19 09:45:35   58.9          13.29            cool_stuff   \n",
       "1  2018-05-02 03:51:18   52.9          22.95       cama_mesa_banho   \n",
       "2  2017-07-28 14:50:11   96.0          15.42       cama_mesa_banho   \n",
       "3  2018-05-16 18:30:50  125.9          13.30       cama_mesa_banho   \n",
       "4  2017-11-10 11:35:46  129.5          16.67      malas_acessorios   \n",
       "\n",
       "   product_name_lenght  product_description_lenght  ...    order_approved_at  \\\n",
       "0                 58.0                       598.0  ...  2017-09-13 09:45:35   \n",
       "1                 53.0                       714.0  ...  2018-04-25 03:51:18   \n",
       "2                 54.0                       385.0  ...  2017-07-24 14:50:11   \n",
       "3                 56.0                       255.0  ...  2018-05-10 18:30:50   \n",
       "4                 43.0                       783.0  ...  2017-11-06 12:31:54   \n",
       "\n",
       "   order_delivered_carrier_date  order_delivered_customer_date  \\\n",
       "0           2017-09-19 18:34:16            2017-09-20 23:43:48   \n",
       "1           2018-04-25 15:33:00            2018-05-08 22:24:49   \n",
       "2           2017-07-26 20:22:05            2017-08-03 17:37:42   \n",
       "3           2018-05-11 16:28:00            2018-05-22 23:24:32   \n",
       "4           2017-11-07 14:18:46            2017-11-13 17:48:39   \n",
       "\n",
       "   order_estimated_delivery_date                customer_unique_id  \\\n",
       "0            2017-09-29 00:00:00  871766c5855e863f6eccc05f988b23cb   \n",
       "1            2018-05-21 00:00:00  8d500d527a1d67efec12faf28b61885b   \n",
       "2            2017-08-15 00:00:00  81fde78227bbac716944e215b6895639   \n",
       "3            2018-06-04 00:00:00  592fa32dca4f04d098afdc9912bd0629   \n",
       "4            2017-11-28 00:00:00  2583866968d72b2503e08837f6698689   \n",
       "\n",
       "  customer_zip_code_prefix          customer_city customer_state  \\\n",
       "0                    28013  campos dos goytacazes             RJ   \n",
       "1                    28013  campos dos goytacazes             RJ   \n",
       "2                    28013  campos dos goytacazes             RJ   \n",
       "3                    28013  campos dos goytacazes             RJ   \n",
       "4                    28013  campos dos goytacazes             RJ   \n",
       "\n",
       "  customer_geolocation_lat  customer_geolocation_lng  \n",
       "0               -21.720615                -41.253645  \n",
       "1               -21.720615                -41.253645  \n",
       "2               -21.720615                -41.253645  \n",
       "3               -21.720615                -41.253645  \n",
       "4               -21.720615                -41.253645  \n",
       "\n",
       "[5 rows x 34 columns]"
      ],
      "text/html": "<div>\n<style scoped>\n    .dataframe tbody tr th:only-of-type {\n        vertical-align: middle;\n    }\n\n    .dataframe tbody tr th {\n        vertical-align: top;\n    }\n\n    .dataframe thead th {\n        text-align: right;\n    }\n</style>\n<table border=\"1\" class=\"dataframe\">\n  <thead>\n    <tr style=\"text-align: right;\">\n      <th></th>\n      <th>order_id</th>\n      <th>order_item_id</th>\n      <th>product_id</th>\n      <th>seller_id</th>\n      <th>shipping_limit_date</th>\n      <th>price</th>\n      <th>freight_value</th>\n      <th>product_category_name</th>\n      <th>product_name_lenght</th>\n      <th>product_description_lenght</th>\n      <th>...</th>\n      <th>order_approved_at</th>\n      <th>order_delivered_carrier_date</th>\n      <th>order_delivered_customer_date</th>\n      <th>order_estimated_delivery_date</th>\n      <th>customer_unique_id</th>\n      <th>customer_zip_code_prefix</th>\n      <th>customer_city</th>\n      <th>customer_state</th>\n      <th>customer_geolocation_lat</th>\n      <th>customer_geolocation_lng</th>\n    </tr>\n  </thead>\n  <tbody>\n    <tr>\n      <th>0</th>\n      <td>00010242fe8c5a6d1ba2dd792cb16214</td>\n      <td>1</td>\n      <td>4244733e06e7ecb4970a6e2683c13e61</td>\n      <td>48436dade18ac8b2bce089ec2a041202</td>\n      <td>2017-09-19 09:45:35</td>\n      <td>58.9</td>\n      <td>13.29</td>\n      <td>cool_stuff</td>\n      <td>58.0</td>\n      <td>598.0</td>\n      <td>...</td>\n      <td>2017-09-13 09:45:35</td>\n      <td>2017-09-19 18:34:16</td>\n      <td>2017-09-20 23:43:48</td>\n      <td>2017-09-29 00:00:00</td>\n      <td>871766c5855e863f6eccc05f988b23cb</td>\n      <td>28013</td>\n      <td>campos dos goytacazes</td>\n      <td>RJ</td>\n      <td>-21.720615</td>\n      <td>-41.253645</td>\n    </tr>\n    <tr>\n      <th>1</th>\n      <td>bd31b009e1dbc47fc7c250b1e2cf5440</td>\n      <td>1</td>\n      <td>92e2d2146e433cd4d1f09a3f8633ead0</td>\n      <td>4a3ca9315b744ce9f8e9374361493884</td>\n      <td>2018-05-02 03:51:18</td>\n      <td>52.9</td>\n      <td>22.95</td>\n      <td>cama_mesa_banho</td>\n      <td>53.0</td>\n      <td>714.0</td>\n      <td>...</td>\n      <td>2018-04-25 03:51:18</td>\n      <td>2018-04-25 15:33:00</td>\n      <td>2018-05-08 22:24:49</td>\n      <td>2018-05-21 00:00:00</td>\n      <td>8d500d527a1d67efec12faf28b61885b</td>\n      <td>28013</td>\n      <td>campos dos goytacazes</td>\n      <td>RJ</td>\n      <td>-21.720615</td>\n      <td>-41.253645</td>\n    </tr>\n    <tr>\n      <th>2</th>\n      <td>bb4eb0196897c20281a61f75ce23211c</td>\n      <td>1</td>\n      <td>8cee1d824765335c48ccc515c2ecf4b8</td>\n      <td>4a3ca9315b744ce9f8e9374361493884</td>\n      <td>2017-07-28 14:50:11</td>\n      <td>96.0</td>\n      <td>15.42</td>\n      <td>cama_mesa_banho</td>\n      <td>54.0</td>\n      <td>385.0</td>\n      <td>...</td>\n      <td>2017-07-24 14:50:11</td>\n      <td>2017-07-26 20:22:05</td>\n      <td>2017-08-03 17:37:42</td>\n      <td>2017-08-15 00:00:00</td>\n      <td>81fde78227bbac716944e215b6895639</td>\n      <td>28013</td>\n      <td>campos dos goytacazes</td>\n      <td>RJ</td>\n      <td>-21.720615</td>\n      <td>-41.253645</td>\n    </tr>\n    <tr>\n      <th>3</th>\n      <td>f9847bf9cc7336c6ba07fe2bdbb6cae1</td>\n      <td>1</td>\n      <td>3e5201fe0d1ba474d9b90152c83c706c</td>\n      <td>8160255418d5aaa7dbdc9f4c64ebda44</td>\n      <td>2018-05-16 18:30:50</td>\n      <td>125.9</td>\n      <td>13.30</td>\n      <td>cama_mesa_banho</td>\n      <td>56.0</td>\n      <td>255.0</td>\n      <td>...</td>\n      <td>2018-05-10 18:30:50</td>\n      <td>2018-05-11 16:28:00</td>\n      <td>2018-05-22 23:24:32</td>\n      <td>2018-06-04 00:00:00</td>\n      <td>592fa32dca4f04d098afdc9912bd0629</td>\n      <td>28013</td>\n      <td>campos dos goytacazes</td>\n      <td>RJ</td>\n      <td>-21.720615</td>\n      <td>-41.253645</td>\n    </tr>\n    <tr>\n      <th>4</th>\n      <td>53d1f26612893ef17dbc27d69a8382e4</td>\n      <td>1</td>\n      <td>3bc1b27ebc43f46dcb6aace1b65325a7</td>\n      <td>6cd68b3ed6d59aaa9fece558ad360c0a</td>\n      <td>2017-11-10 11:35:46</td>\n      <td>129.5</td>\n      <td>16.67</td>\n      <td>malas_acessorios</td>\n      <td>43.0</td>\n      <td>783.0</td>\n      <td>...</td>\n      <td>2017-11-06 12:31:54</td>\n      <td>2017-11-07 14:18:46</td>\n      <td>2017-11-13 17:48:39</td>\n      <td>2017-11-28 00:00:00</td>\n      <td>2583866968d72b2503e08837f6698689</td>\n      <td>28013</td>\n      <td>campos dos goytacazes</td>\n      <td>RJ</td>\n      <td>-21.720615</td>\n      <td>-41.253645</td>\n    </tr>\n  </tbody>\n</table>\n<p>5 rows × 34 columns</p>\n</div>"
     },
     "metadata": {},
     "execution_count": 21
    }
   ],
   "source": [
    "df_complete = df_complete.rename(columns={\n",
    "    \"geolocation_lat\": \"customer_geolocation_lat\",\n",
    "    \"geolocation_lng\": \"customer_geolocation_lng\",\n",
    "}).drop(columns=[\"geolocation_zip_code_prefix\"])\n",
    "print(df_complete.shape)\n",
    "df_complete.head()"
   ]
  },
  {
   "cell_type": "code",
   "execution_count": 22,
   "metadata": {},
   "outputs": [
    {
     "output_type": "stream",
     "name": "stdout",
     "text": [
      "(111130, 42)\n"
     ]
    },
    {
     "output_type": "execute_result",
     "data": {
      "text/plain": [
       "                           order_id  order_item_id  \\\n",
       "0  00010242fe8c5a6d1ba2dd792cb16214              1   \n",
       "1  bd31b009e1dbc47fc7c250b1e2cf5440              1   \n",
       "2  bb4eb0196897c20281a61f75ce23211c              1   \n",
       "3  f9847bf9cc7336c6ba07fe2bdbb6cae1              1   \n",
       "4  53d1f26612893ef17dbc27d69a8382e4              1   \n",
       "\n",
       "                         product_id                         seller_id  \\\n",
       "0  4244733e06e7ecb4970a6e2683c13e61  48436dade18ac8b2bce089ec2a041202   \n",
       "1  92e2d2146e433cd4d1f09a3f8633ead0  4a3ca9315b744ce9f8e9374361493884   \n",
       "2  8cee1d824765335c48ccc515c2ecf4b8  4a3ca9315b744ce9f8e9374361493884   \n",
       "3  3e5201fe0d1ba474d9b90152c83c706c  8160255418d5aaa7dbdc9f4c64ebda44   \n",
       "4  3bc1b27ebc43f46dcb6aace1b65325a7  6cd68b3ed6d59aaa9fece558ad360c0a   \n",
       "\n",
       "   shipping_limit_date  price  freight_value product_category_name  \\\n",
       "0  2017-09-19 09:45:35   58.9          13.29            cool_stuff   \n",
       "1  2018-05-02 03:51:18   52.9          22.95       cama_mesa_banho   \n",
       "2  2017-07-28 14:50:11   96.0          15.42       cama_mesa_banho   \n",
       "3  2018-05-16 18:30:50  125.9          13.30       cama_mesa_banho   \n",
       "4  2017-11-10 11:35:46  129.5          16.67      malas_acessorios   \n",
       "\n",
       "   product_name_lenght  product_description_lenght  ...  \\\n",
       "0                 58.0                       598.0  ...   \n",
       "1                 53.0                       714.0  ...   \n",
       "2                 54.0                       385.0  ...   \n",
       "3                 56.0                       255.0  ...   \n",
       "4                 43.0                       783.0  ...   \n",
       "\n",
       "   customer_geolocation_lat  customer_geolocation_lng  \\\n",
       "0                -21.720615                -41.253645   \n",
       "1                -21.720615                -41.253645   \n",
       "2                -21.720615                -41.253645   \n",
       "3                -21.720615                -41.253645   \n",
       "4                -21.720615                -41.253645   \n",
       "\n",
       "                          review_id  review_score  review_comment_title  \\\n",
       "0  97ca439bc427b48bc1cd7177abe71365             5                   NaN   \n",
       "1  1a99824f74d0922e36ad6631e7e44288             3                   NaN   \n",
       "2  2e6dd84a89e6ca047502168d21c14c85             5                   NaN   \n",
       "3  2a395d9ba7750664d964aede064d7f34             5                    10   \n",
       "4  d096dfdd1d829ae8c220f26b2dd39804             5                   NaN   \n",
       "\n",
       "                              review_comment_message  review_creation_date  \\\n",
       "0     Perfeito, produto entregue antes do combinado.   2017-09-21 00:00:00   \n",
       "1                                                NaN   2018-05-09 00:00:00   \n",
       "2  O tapete e lindo, é muito grande! Da um charme...   2017-08-04 00:00:00   \n",
       "3                                          Muito boa   2018-05-23 00:00:00   \n",
       "4                                                NaN   2017-11-14 00:00:00   \n",
       "\n",
       "  review_answer_timestamp review_comment_title_translated  \\\n",
       "0     2017-09-22 10:57:03                             NaN   \n",
       "1     2018-05-10 02:04:02                             NaN   \n",
       "2     2017-08-04 23:33:50                             NaN   \n",
       "3     2018-05-24 02:47:29                              10   \n",
       "4     2017-11-16 14:41:23                             NaN   \n",
       "\n",
       "                   review_comment_message_translated  \n",
       "0  Perfecto, producto entregado antes de la hora ...  \n",
       "1                                                NaN  \n",
       "2  ¡La alfombra es hermosa, es demasiado grande! ...  \n",
       "3                                          Muy buena  \n",
       "4                                                NaN  \n",
       "\n",
       "[5 rows x 42 columns]"
      ],
      "text/html": "<div>\n<style scoped>\n    .dataframe tbody tr th:only-of-type {\n        vertical-align: middle;\n    }\n\n    .dataframe tbody tr th {\n        vertical-align: top;\n    }\n\n    .dataframe thead th {\n        text-align: right;\n    }\n</style>\n<table border=\"1\" class=\"dataframe\">\n  <thead>\n    <tr style=\"text-align: right;\">\n      <th></th>\n      <th>order_id</th>\n      <th>order_item_id</th>\n      <th>product_id</th>\n      <th>seller_id</th>\n      <th>shipping_limit_date</th>\n      <th>price</th>\n      <th>freight_value</th>\n      <th>product_category_name</th>\n      <th>product_name_lenght</th>\n      <th>product_description_lenght</th>\n      <th>...</th>\n      <th>customer_geolocation_lat</th>\n      <th>customer_geolocation_lng</th>\n      <th>review_id</th>\n      <th>review_score</th>\n      <th>review_comment_title</th>\n      <th>review_comment_message</th>\n      <th>review_creation_date</th>\n      <th>review_answer_timestamp</th>\n      <th>review_comment_title_translated</th>\n      <th>review_comment_message_translated</th>\n    </tr>\n  </thead>\n  <tbody>\n    <tr>\n      <th>0</th>\n      <td>00010242fe8c5a6d1ba2dd792cb16214</td>\n      <td>1</td>\n      <td>4244733e06e7ecb4970a6e2683c13e61</td>\n      <td>48436dade18ac8b2bce089ec2a041202</td>\n      <td>2017-09-19 09:45:35</td>\n      <td>58.9</td>\n      <td>13.29</td>\n      <td>cool_stuff</td>\n      <td>58.0</td>\n      <td>598.0</td>\n      <td>...</td>\n      <td>-21.720615</td>\n      <td>-41.253645</td>\n      <td>97ca439bc427b48bc1cd7177abe71365</td>\n      <td>5</td>\n      <td>NaN</td>\n      <td>Perfeito, produto entregue antes do combinado.</td>\n      <td>2017-09-21 00:00:00</td>\n      <td>2017-09-22 10:57:03</td>\n      <td>NaN</td>\n      <td>Perfecto, producto entregado antes de la hora ...</td>\n    </tr>\n    <tr>\n      <th>1</th>\n      <td>bd31b009e1dbc47fc7c250b1e2cf5440</td>\n      <td>1</td>\n      <td>92e2d2146e433cd4d1f09a3f8633ead0</td>\n      <td>4a3ca9315b744ce9f8e9374361493884</td>\n      <td>2018-05-02 03:51:18</td>\n      <td>52.9</td>\n      <td>22.95</td>\n      <td>cama_mesa_banho</td>\n      <td>53.0</td>\n      <td>714.0</td>\n      <td>...</td>\n      <td>-21.720615</td>\n      <td>-41.253645</td>\n      <td>1a99824f74d0922e36ad6631e7e44288</td>\n      <td>3</td>\n      <td>NaN</td>\n      <td>NaN</td>\n      <td>2018-05-09 00:00:00</td>\n      <td>2018-05-10 02:04:02</td>\n      <td>NaN</td>\n      <td>NaN</td>\n    </tr>\n    <tr>\n      <th>2</th>\n      <td>bb4eb0196897c20281a61f75ce23211c</td>\n      <td>1</td>\n      <td>8cee1d824765335c48ccc515c2ecf4b8</td>\n      <td>4a3ca9315b744ce9f8e9374361493884</td>\n      <td>2017-07-28 14:50:11</td>\n      <td>96.0</td>\n      <td>15.42</td>\n      <td>cama_mesa_banho</td>\n      <td>54.0</td>\n      <td>385.0</td>\n      <td>...</td>\n      <td>-21.720615</td>\n      <td>-41.253645</td>\n      <td>2e6dd84a89e6ca047502168d21c14c85</td>\n      <td>5</td>\n      <td>NaN</td>\n      <td>O tapete e lindo, é muito grande! Da um charme...</td>\n      <td>2017-08-04 00:00:00</td>\n      <td>2017-08-04 23:33:50</td>\n      <td>NaN</td>\n      <td>¡La alfombra es hermosa, es demasiado grande! ...</td>\n    </tr>\n    <tr>\n      <th>3</th>\n      <td>f9847bf9cc7336c6ba07fe2bdbb6cae1</td>\n      <td>1</td>\n      <td>3e5201fe0d1ba474d9b90152c83c706c</td>\n      <td>8160255418d5aaa7dbdc9f4c64ebda44</td>\n      <td>2018-05-16 18:30:50</td>\n      <td>125.9</td>\n      <td>13.30</td>\n      <td>cama_mesa_banho</td>\n      <td>56.0</td>\n      <td>255.0</td>\n      <td>...</td>\n      <td>-21.720615</td>\n      <td>-41.253645</td>\n      <td>2a395d9ba7750664d964aede064d7f34</td>\n      <td>5</td>\n      <td>10</td>\n      <td>Muito boa</td>\n      <td>2018-05-23 00:00:00</td>\n      <td>2018-05-24 02:47:29</td>\n      <td>10</td>\n      <td>Muy buena</td>\n    </tr>\n    <tr>\n      <th>4</th>\n      <td>53d1f26612893ef17dbc27d69a8382e4</td>\n      <td>1</td>\n      <td>3bc1b27ebc43f46dcb6aace1b65325a7</td>\n      <td>6cd68b3ed6d59aaa9fece558ad360c0a</td>\n      <td>2017-11-10 11:35:46</td>\n      <td>129.5</td>\n      <td>16.67</td>\n      <td>malas_acessorios</td>\n      <td>43.0</td>\n      <td>783.0</td>\n      <td>...</td>\n      <td>-21.720615</td>\n      <td>-41.253645</td>\n      <td>d096dfdd1d829ae8c220f26b2dd39804</td>\n      <td>5</td>\n      <td>NaN</td>\n      <td>NaN</td>\n      <td>2017-11-14 00:00:00</td>\n      <td>2017-11-16 14:41:23</td>\n      <td>NaN</td>\n      <td>NaN</td>\n    </tr>\n  </tbody>\n</table>\n<p>5 rows × 42 columns</p>\n</div>"
     },
     "metadata": {},
     "execution_count": 22
    }
   ],
   "source": [
    "df_complete = pd.merge(df_complete, df_order_reviews_with_traduction, on=\"order_id\")\n",
    "print(df_complete.shape)\n",
    "df_complete.head()"
   ]
  },
  {
   "cell_type": "code",
   "execution_count": 23,
   "metadata": {},
   "outputs": [
    {
     "output_type": "stream",
     "name": "stdout",
     "text": [
      "(116007, 46)\n"
     ]
    },
    {
     "output_type": "execute_result",
     "data": {
      "text/plain": [
       "                           order_id  order_item_id  \\\n",
       "0  00010242fe8c5a6d1ba2dd792cb16214              1   \n",
       "1  bd31b009e1dbc47fc7c250b1e2cf5440              1   \n",
       "2  bb4eb0196897c20281a61f75ce23211c              1   \n",
       "3  f9847bf9cc7336c6ba07fe2bdbb6cae1              1   \n",
       "4  53d1f26612893ef17dbc27d69a8382e4              1   \n",
       "\n",
       "                         product_id                         seller_id  \\\n",
       "0  4244733e06e7ecb4970a6e2683c13e61  48436dade18ac8b2bce089ec2a041202   \n",
       "1  92e2d2146e433cd4d1f09a3f8633ead0  4a3ca9315b744ce9f8e9374361493884   \n",
       "2  8cee1d824765335c48ccc515c2ecf4b8  4a3ca9315b744ce9f8e9374361493884   \n",
       "3  3e5201fe0d1ba474d9b90152c83c706c  8160255418d5aaa7dbdc9f4c64ebda44   \n",
       "4  3bc1b27ebc43f46dcb6aace1b65325a7  6cd68b3ed6d59aaa9fece558ad360c0a   \n",
       "\n",
       "   shipping_limit_date  price  freight_value product_category_name  \\\n",
       "0  2017-09-19 09:45:35   58.9          13.29            cool_stuff   \n",
       "1  2018-05-02 03:51:18   52.9          22.95       cama_mesa_banho   \n",
       "2  2017-07-28 14:50:11   96.0          15.42       cama_mesa_banho   \n",
       "3  2018-05-16 18:30:50  125.9          13.30       cama_mesa_banho   \n",
       "4  2017-11-10 11:35:46  129.5          16.67      malas_acessorios   \n",
       "\n",
       "   product_name_lenght  product_description_lenght  ...  review_comment_title  \\\n",
       "0                 58.0                       598.0  ...                   NaN   \n",
       "1                 53.0                       714.0  ...                   NaN   \n",
       "2                 54.0                       385.0  ...                   NaN   \n",
       "3                 56.0                       255.0  ...                    10   \n",
       "4                 43.0                       783.0  ...                   NaN   \n",
       "\n",
       "                              review_comment_message  review_creation_date  \\\n",
       "0     Perfeito, produto entregue antes do combinado.   2017-09-21 00:00:00   \n",
       "1                                                NaN   2018-05-09 00:00:00   \n",
       "2  O tapete e lindo, é muito grande! Da um charme...   2017-08-04 00:00:00   \n",
       "3                                          Muito boa   2018-05-23 00:00:00   \n",
       "4                                                NaN   2017-11-14 00:00:00   \n",
       "\n",
       "   review_answer_timestamp  review_comment_title_translated  \\\n",
       "0      2017-09-22 10:57:03                              NaN   \n",
       "1      2018-05-10 02:04:02                              NaN   \n",
       "2      2017-08-04 23:33:50                              NaN   \n",
       "3      2018-05-24 02:47:29                               10   \n",
       "4      2017-11-16 14:41:23                              NaN   \n",
       "\n",
       "                   review_comment_message_translated  payment_sequential  \\\n",
       "0  Perfecto, producto entregado antes de la hora ...                   1   \n",
       "1                                                NaN                   1   \n",
       "2  ¡La alfombra es hermosa, es demasiado grande! ...                   1   \n",
       "3                                          Muy buena                   1   \n",
       "4                                                NaN                   1   \n",
       "\n",
       "  payment_type payment_installments  payment_value  \n",
       "0  credit_card                    2          72.19  \n",
       "1       boleto                    1          75.85  \n",
       "2  credit_card                    9         111.42  \n",
       "3  credit_card                    6         139.20  \n",
       "4  credit_card                    2         146.17  \n",
       "\n",
       "[5 rows x 46 columns]"
      ],
      "text/html": "<div>\n<style scoped>\n    .dataframe tbody tr th:only-of-type {\n        vertical-align: middle;\n    }\n\n    .dataframe tbody tr th {\n        vertical-align: top;\n    }\n\n    .dataframe thead th {\n        text-align: right;\n    }\n</style>\n<table border=\"1\" class=\"dataframe\">\n  <thead>\n    <tr style=\"text-align: right;\">\n      <th></th>\n      <th>order_id</th>\n      <th>order_item_id</th>\n      <th>product_id</th>\n      <th>seller_id</th>\n      <th>shipping_limit_date</th>\n      <th>price</th>\n      <th>freight_value</th>\n      <th>product_category_name</th>\n      <th>product_name_lenght</th>\n      <th>product_description_lenght</th>\n      <th>...</th>\n      <th>review_comment_title</th>\n      <th>review_comment_message</th>\n      <th>review_creation_date</th>\n      <th>review_answer_timestamp</th>\n      <th>review_comment_title_translated</th>\n      <th>review_comment_message_translated</th>\n      <th>payment_sequential</th>\n      <th>payment_type</th>\n      <th>payment_installments</th>\n      <th>payment_value</th>\n    </tr>\n  </thead>\n  <tbody>\n    <tr>\n      <th>0</th>\n      <td>00010242fe8c5a6d1ba2dd792cb16214</td>\n      <td>1</td>\n      <td>4244733e06e7ecb4970a6e2683c13e61</td>\n      <td>48436dade18ac8b2bce089ec2a041202</td>\n      <td>2017-09-19 09:45:35</td>\n      <td>58.9</td>\n      <td>13.29</td>\n      <td>cool_stuff</td>\n      <td>58.0</td>\n      <td>598.0</td>\n      <td>...</td>\n      <td>NaN</td>\n      <td>Perfeito, produto entregue antes do combinado.</td>\n      <td>2017-09-21 00:00:00</td>\n      <td>2017-09-22 10:57:03</td>\n      <td>NaN</td>\n      <td>Perfecto, producto entregado antes de la hora ...</td>\n      <td>1</td>\n      <td>credit_card</td>\n      <td>2</td>\n      <td>72.19</td>\n    </tr>\n    <tr>\n      <th>1</th>\n      <td>bd31b009e1dbc47fc7c250b1e2cf5440</td>\n      <td>1</td>\n      <td>92e2d2146e433cd4d1f09a3f8633ead0</td>\n      <td>4a3ca9315b744ce9f8e9374361493884</td>\n      <td>2018-05-02 03:51:18</td>\n      <td>52.9</td>\n      <td>22.95</td>\n      <td>cama_mesa_banho</td>\n      <td>53.0</td>\n      <td>714.0</td>\n      <td>...</td>\n      <td>NaN</td>\n      <td>NaN</td>\n      <td>2018-05-09 00:00:00</td>\n      <td>2018-05-10 02:04:02</td>\n      <td>NaN</td>\n      <td>NaN</td>\n      <td>1</td>\n      <td>boleto</td>\n      <td>1</td>\n      <td>75.85</td>\n    </tr>\n    <tr>\n      <th>2</th>\n      <td>bb4eb0196897c20281a61f75ce23211c</td>\n      <td>1</td>\n      <td>8cee1d824765335c48ccc515c2ecf4b8</td>\n      <td>4a3ca9315b744ce9f8e9374361493884</td>\n      <td>2017-07-28 14:50:11</td>\n      <td>96.0</td>\n      <td>15.42</td>\n      <td>cama_mesa_banho</td>\n      <td>54.0</td>\n      <td>385.0</td>\n      <td>...</td>\n      <td>NaN</td>\n      <td>O tapete e lindo, é muito grande! Da um charme...</td>\n      <td>2017-08-04 00:00:00</td>\n      <td>2017-08-04 23:33:50</td>\n      <td>NaN</td>\n      <td>¡La alfombra es hermosa, es demasiado grande! ...</td>\n      <td>1</td>\n      <td>credit_card</td>\n      <td>9</td>\n      <td>111.42</td>\n    </tr>\n    <tr>\n      <th>3</th>\n      <td>f9847bf9cc7336c6ba07fe2bdbb6cae1</td>\n      <td>1</td>\n      <td>3e5201fe0d1ba474d9b90152c83c706c</td>\n      <td>8160255418d5aaa7dbdc9f4c64ebda44</td>\n      <td>2018-05-16 18:30:50</td>\n      <td>125.9</td>\n      <td>13.30</td>\n      <td>cama_mesa_banho</td>\n      <td>56.0</td>\n      <td>255.0</td>\n      <td>...</td>\n      <td>10</td>\n      <td>Muito boa</td>\n      <td>2018-05-23 00:00:00</td>\n      <td>2018-05-24 02:47:29</td>\n      <td>10</td>\n      <td>Muy buena</td>\n      <td>1</td>\n      <td>credit_card</td>\n      <td>6</td>\n      <td>139.20</td>\n    </tr>\n    <tr>\n      <th>4</th>\n      <td>53d1f26612893ef17dbc27d69a8382e4</td>\n      <td>1</td>\n      <td>3bc1b27ebc43f46dcb6aace1b65325a7</td>\n      <td>6cd68b3ed6d59aaa9fece558ad360c0a</td>\n      <td>2017-11-10 11:35:46</td>\n      <td>129.5</td>\n      <td>16.67</td>\n      <td>malas_acessorios</td>\n      <td>43.0</td>\n      <td>783.0</td>\n      <td>...</td>\n      <td>NaN</td>\n      <td>NaN</td>\n      <td>2017-11-14 00:00:00</td>\n      <td>2017-11-16 14:41:23</td>\n      <td>NaN</td>\n      <td>NaN</td>\n      <td>1</td>\n      <td>credit_card</td>\n      <td>2</td>\n      <td>146.17</td>\n    </tr>\n  </tbody>\n</table>\n<p>5 rows × 46 columns</p>\n</div>"
     },
     "metadata": {},
     "execution_count": 23
    }
   ],
   "source": [
    "df_complete = pd.merge(df_complete, df_order_payments, on=\"order_id\")\n",
    "print(df_complete.shape)\n",
    "df_complete.head()"
   ]
  },
  {
   "cell_type": "code",
   "execution_count": 24,
   "metadata": {},
   "outputs": [
    {
     "output_type": "stream",
     "name": "stdout",
     "text": [
      "(96773, 2)\n"
     ]
    },
    {
     "output_type": "execute_result",
     "data": {
      "text/plain": [
       "                           order_id  order_total_price\n",
       "0  00010242fe8c5a6d1ba2dd792cb16214              58.90\n",
       "1  00018f77f2f0320c557190d7a144bdd3             239.90\n",
       "2  000229ec398224ef6ca0657da4fc703e             199.00\n",
       "3  00024acbcdf0a6daa1e931b038114c75              12.99\n",
       "4  00042b26cf59d7ce69dfabb4e55b4fd9             199.90"
      ],
      "text/html": "<div>\n<style scoped>\n    .dataframe tbody tr th:only-of-type {\n        vertical-align: middle;\n    }\n\n    .dataframe tbody tr th {\n        vertical-align: top;\n    }\n\n    .dataframe thead th {\n        text-align: right;\n    }\n</style>\n<table border=\"1\" class=\"dataframe\">\n  <thead>\n    <tr style=\"text-align: right;\">\n      <th></th>\n      <th>order_id</th>\n      <th>order_total_price</th>\n    </tr>\n  </thead>\n  <tbody>\n    <tr>\n      <th>0</th>\n      <td>00010242fe8c5a6d1ba2dd792cb16214</td>\n      <td>58.90</td>\n    </tr>\n    <tr>\n      <th>1</th>\n      <td>00018f77f2f0320c557190d7a144bdd3</td>\n      <td>239.90</td>\n    </tr>\n    <tr>\n      <th>2</th>\n      <td>000229ec398224ef6ca0657da4fc703e</td>\n      <td>199.00</td>\n    </tr>\n    <tr>\n      <th>3</th>\n      <td>00024acbcdf0a6daa1e931b038114c75</td>\n      <td>12.99</td>\n    </tr>\n    <tr>\n      <th>4</th>\n      <td>00042b26cf59d7ce69dfabb4e55b4fd9</td>\n      <td>199.90</td>\n    </tr>\n  </tbody>\n</table>\n</div>"
     },
     "metadata": {},
     "execution_count": 24
    }
   ],
   "source": [
    "df_total_price = df_complete.groupby(\"order_id\")[[\"price\"]].sum().reset_index()\n",
    "df_total_price = df_total_price.rename(columns={\"price\": \"order_total_price\"})\n",
    "print(df_total_price.shape)\n",
    "df_total_price.head()"
   ]
  },
  {
   "cell_type": "code",
   "execution_count": 25,
   "metadata": {},
   "outputs": [
    {
     "output_type": "stream",
     "name": "stdout",
     "text": [
      "(116007, 47)\n"
     ]
    },
    {
     "output_type": "execute_result",
     "data": {
      "text/plain": [
       "                           order_id  order_item_id  \\\n",
       "0  00010242fe8c5a6d1ba2dd792cb16214              1   \n",
       "1  bd31b009e1dbc47fc7c250b1e2cf5440              1   \n",
       "2  bb4eb0196897c20281a61f75ce23211c              1   \n",
       "3  f9847bf9cc7336c6ba07fe2bdbb6cae1              1   \n",
       "4  53d1f26612893ef17dbc27d69a8382e4              1   \n",
       "\n",
       "                         product_id                         seller_id  \\\n",
       "0  4244733e06e7ecb4970a6e2683c13e61  48436dade18ac8b2bce089ec2a041202   \n",
       "1  92e2d2146e433cd4d1f09a3f8633ead0  4a3ca9315b744ce9f8e9374361493884   \n",
       "2  8cee1d824765335c48ccc515c2ecf4b8  4a3ca9315b744ce9f8e9374361493884   \n",
       "3  3e5201fe0d1ba474d9b90152c83c706c  8160255418d5aaa7dbdc9f4c64ebda44   \n",
       "4  3bc1b27ebc43f46dcb6aace1b65325a7  6cd68b3ed6d59aaa9fece558ad360c0a   \n",
       "\n",
       "   shipping_limit_date  price  freight_value product_category_name  \\\n",
       "0  2017-09-19 09:45:35   58.9          13.29            cool_stuff   \n",
       "1  2018-05-02 03:51:18   52.9          22.95       cama_mesa_banho   \n",
       "2  2017-07-28 14:50:11   96.0          15.42       cama_mesa_banho   \n",
       "3  2018-05-16 18:30:50  125.9          13.30       cama_mesa_banho   \n",
       "4  2017-11-10 11:35:46  129.5          16.67      malas_acessorios   \n",
       "\n",
       "   product_name_lenght  product_description_lenght  ...  \\\n",
       "0                 58.0                       598.0  ...   \n",
       "1                 53.0                       714.0  ...   \n",
       "2                 54.0                       385.0  ...   \n",
       "3                 56.0                       255.0  ...   \n",
       "4                 43.0                       783.0  ...   \n",
       "\n",
       "                              review_comment_message  review_creation_date  \\\n",
       "0     Perfeito, produto entregue antes do combinado.   2017-09-21 00:00:00   \n",
       "1                                                NaN   2018-05-09 00:00:00   \n",
       "2  O tapete e lindo, é muito grande! Da um charme...   2017-08-04 00:00:00   \n",
       "3                                          Muito boa   2018-05-23 00:00:00   \n",
       "4                                                NaN   2017-11-14 00:00:00   \n",
       "\n",
       "   review_answer_timestamp  review_comment_title_translated  \\\n",
       "0      2017-09-22 10:57:03                              NaN   \n",
       "1      2018-05-10 02:04:02                              NaN   \n",
       "2      2017-08-04 23:33:50                              NaN   \n",
       "3      2018-05-24 02:47:29                               10   \n",
       "4      2017-11-16 14:41:23                              NaN   \n",
       "\n",
       "                   review_comment_message_translated payment_sequential  \\\n",
       "0  Perfecto, producto entregado antes de la hora ...                  1   \n",
       "1                                                NaN                  1   \n",
       "2  ¡La alfombra es hermosa, es demasiado grande! ...                  1   \n",
       "3                                          Muy buena                  1   \n",
       "4                                                NaN                  1   \n",
       "\n",
       "   payment_type payment_installments payment_value  order_total_price  \n",
       "0   credit_card                    2         72.19               58.9  \n",
       "1        boleto                    1         75.85               52.9  \n",
       "2   credit_card                    9        111.42               96.0  \n",
       "3   credit_card                    6        139.20              125.9  \n",
       "4   credit_card                    2        146.17              129.5  \n",
       "\n",
       "[5 rows x 47 columns]"
      ],
      "text/html": "<div>\n<style scoped>\n    .dataframe tbody tr th:only-of-type {\n        vertical-align: middle;\n    }\n\n    .dataframe tbody tr th {\n        vertical-align: top;\n    }\n\n    .dataframe thead th {\n        text-align: right;\n    }\n</style>\n<table border=\"1\" class=\"dataframe\">\n  <thead>\n    <tr style=\"text-align: right;\">\n      <th></th>\n      <th>order_id</th>\n      <th>order_item_id</th>\n      <th>product_id</th>\n      <th>seller_id</th>\n      <th>shipping_limit_date</th>\n      <th>price</th>\n      <th>freight_value</th>\n      <th>product_category_name</th>\n      <th>product_name_lenght</th>\n      <th>product_description_lenght</th>\n      <th>...</th>\n      <th>review_comment_message</th>\n      <th>review_creation_date</th>\n      <th>review_answer_timestamp</th>\n      <th>review_comment_title_translated</th>\n      <th>review_comment_message_translated</th>\n      <th>payment_sequential</th>\n      <th>payment_type</th>\n      <th>payment_installments</th>\n      <th>payment_value</th>\n      <th>order_total_price</th>\n    </tr>\n  </thead>\n  <tbody>\n    <tr>\n      <th>0</th>\n      <td>00010242fe8c5a6d1ba2dd792cb16214</td>\n      <td>1</td>\n      <td>4244733e06e7ecb4970a6e2683c13e61</td>\n      <td>48436dade18ac8b2bce089ec2a041202</td>\n      <td>2017-09-19 09:45:35</td>\n      <td>58.9</td>\n      <td>13.29</td>\n      <td>cool_stuff</td>\n      <td>58.0</td>\n      <td>598.0</td>\n      <td>...</td>\n      <td>Perfeito, produto entregue antes do combinado.</td>\n      <td>2017-09-21 00:00:00</td>\n      <td>2017-09-22 10:57:03</td>\n      <td>NaN</td>\n      <td>Perfecto, producto entregado antes de la hora ...</td>\n      <td>1</td>\n      <td>credit_card</td>\n      <td>2</td>\n      <td>72.19</td>\n      <td>58.9</td>\n    </tr>\n    <tr>\n      <th>1</th>\n      <td>bd31b009e1dbc47fc7c250b1e2cf5440</td>\n      <td>1</td>\n      <td>92e2d2146e433cd4d1f09a3f8633ead0</td>\n      <td>4a3ca9315b744ce9f8e9374361493884</td>\n      <td>2018-05-02 03:51:18</td>\n      <td>52.9</td>\n      <td>22.95</td>\n      <td>cama_mesa_banho</td>\n      <td>53.0</td>\n      <td>714.0</td>\n      <td>...</td>\n      <td>NaN</td>\n      <td>2018-05-09 00:00:00</td>\n      <td>2018-05-10 02:04:02</td>\n      <td>NaN</td>\n      <td>NaN</td>\n      <td>1</td>\n      <td>boleto</td>\n      <td>1</td>\n      <td>75.85</td>\n      <td>52.9</td>\n    </tr>\n    <tr>\n      <th>2</th>\n      <td>bb4eb0196897c20281a61f75ce23211c</td>\n      <td>1</td>\n      <td>8cee1d824765335c48ccc515c2ecf4b8</td>\n      <td>4a3ca9315b744ce9f8e9374361493884</td>\n      <td>2017-07-28 14:50:11</td>\n      <td>96.0</td>\n      <td>15.42</td>\n      <td>cama_mesa_banho</td>\n      <td>54.0</td>\n      <td>385.0</td>\n      <td>...</td>\n      <td>O tapete e lindo, é muito grande! Da um charme...</td>\n      <td>2017-08-04 00:00:00</td>\n      <td>2017-08-04 23:33:50</td>\n      <td>NaN</td>\n      <td>¡La alfombra es hermosa, es demasiado grande! ...</td>\n      <td>1</td>\n      <td>credit_card</td>\n      <td>9</td>\n      <td>111.42</td>\n      <td>96.0</td>\n    </tr>\n    <tr>\n      <th>3</th>\n      <td>f9847bf9cc7336c6ba07fe2bdbb6cae1</td>\n      <td>1</td>\n      <td>3e5201fe0d1ba474d9b90152c83c706c</td>\n      <td>8160255418d5aaa7dbdc9f4c64ebda44</td>\n      <td>2018-05-16 18:30:50</td>\n      <td>125.9</td>\n      <td>13.30</td>\n      <td>cama_mesa_banho</td>\n      <td>56.0</td>\n      <td>255.0</td>\n      <td>...</td>\n      <td>Muito boa</td>\n      <td>2018-05-23 00:00:00</td>\n      <td>2018-05-24 02:47:29</td>\n      <td>10</td>\n      <td>Muy buena</td>\n      <td>1</td>\n      <td>credit_card</td>\n      <td>6</td>\n      <td>139.20</td>\n      <td>125.9</td>\n    </tr>\n    <tr>\n      <th>4</th>\n      <td>53d1f26612893ef17dbc27d69a8382e4</td>\n      <td>1</td>\n      <td>3bc1b27ebc43f46dcb6aace1b65325a7</td>\n      <td>6cd68b3ed6d59aaa9fece558ad360c0a</td>\n      <td>2017-11-10 11:35:46</td>\n      <td>129.5</td>\n      <td>16.67</td>\n      <td>malas_acessorios</td>\n      <td>43.0</td>\n      <td>783.0</td>\n      <td>...</td>\n      <td>NaN</td>\n      <td>2017-11-14 00:00:00</td>\n      <td>2017-11-16 14:41:23</td>\n      <td>NaN</td>\n      <td>NaN</td>\n      <td>1</td>\n      <td>credit_card</td>\n      <td>2</td>\n      <td>146.17</td>\n      <td>129.5</td>\n    </tr>\n  </tbody>\n</table>\n<p>5 rows × 47 columns</p>\n</div>"
     },
     "metadata": {},
     "execution_count": 25
    }
   ],
   "source": [
    "df_complete = pd.merge(df_complete, df_total_price, on=\"order_id\")\n",
    "print(df_complete.shape)\n",
    "df_complete.head()"
   ]
  },
  {
   "cell_type": "code",
   "execution_count": 26,
   "metadata": {},
   "outputs": [
    {
     "output_type": "stream",
     "name": "stdout",
     "text": [
      "(96773, 2)\n"
     ]
    },
    {
     "output_type": "execute_result",
     "data": {
      "text/plain": [
       "                           order_id  total_products_weight\n",
       "0  00010242fe8c5a6d1ba2dd792cb16214                  650.0\n",
       "1  00018f77f2f0320c557190d7a144bdd3                30000.0\n",
       "2  000229ec398224ef6ca0657da4fc703e                 3050.0\n",
       "3  00024acbcdf0a6daa1e931b038114c75                  200.0\n",
       "4  00042b26cf59d7ce69dfabb4e55b4fd9                 3750.0"
      ],
      "text/html": "<div>\n<style scoped>\n    .dataframe tbody tr th:only-of-type {\n        vertical-align: middle;\n    }\n\n    .dataframe tbody tr th {\n        vertical-align: top;\n    }\n\n    .dataframe thead th {\n        text-align: right;\n    }\n</style>\n<table border=\"1\" class=\"dataframe\">\n  <thead>\n    <tr style=\"text-align: right;\">\n      <th></th>\n      <th>order_id</th>\n      <th>total_products_weight</th>\n    </tr>\n  </thead>\n  <tbody>\n    <tr>\n      <th>0</th>\n      <td>00010242fe8c5a6d1ba2dd792cb16214</td>\n      <td>650.0</td>\n    </tr>\n    <tr>\n      <th>1</th>\n      <td>00018f77f2f0320c557190d7a144bdd3</td>\n      <td>30000.0</td>\n    </tr>\n    <tr>\n      <th>2</th>\n      <td>000229ec398224ef6ca0657da4fc703e</td>\n      <td>3050.0</td>\n    </tr>\n    <tr>\n      <th>3</th>\n      <td>00024acbcdf0a6daa1e931b038114c75</td>\n      <td>200.0</td>\n    </tr>\n    <tr>\n      <th>4</th>\n      <td>00042b26cf59d7ce69dfabb4e55b4fd9</td>\n      <td>3750.0</td>\n    </tr>\n  </tbody>\n</table>\n</div>"
     },
     "metadata": {},
     "execution_count": 26
    }
   ],
   "source": [
    "df_total_weight = df_complete.groupby(\"order_id\")[[\"product_weight_g\"]].sum().reset_index()\n",
    "df_total_weight = df_total_weight.rename(columns={\"product_weight_g\": \"total_products_weight\"})\n",
    "print(df_total_weight.shape)\n",
    "df_total_weight.head()"
   ]
  },
  {
   "cell_type": "code",
   "execution_count": 27,
   "metadata": {},
   "outputs": [
    {
     "output_type": "stream",
     "name": "stdout",
     "text": [
      "(116007, 48)\n"
     ]
    },
    {
     "output_type": "execute_result",
     "data": {
      "text/plain": [
       "                           order_id  order_item_id  \\\n",
       "0  00010242fe8c5a6d1ba2dd792cb16214              1   \n",
       "1  bd31b009e1dbc47fc7c250b1e2cf5440              1   \n",
       "2  bb4eb0196897c20281a61f75ce23211c              1   \n",
       "3  f9847bf9cc7336c6ba07fe2bdbb6cae1              1   \n",
       "4  53d1f26612893ef17dbc27d69a8382e4              1   \n",
       "\n",
       "                         product_id                         seller_id  \\\n",
       "0  4244733e06e7ecb4970a6e2683c13e61  48436dade18ac8b2bce089ec2a041202   \n",
       "1  92e2d2146e433cd4d1f09a3f8633ead0  4a3ca9315b744ce9f8e9374361493884   \n",
       "2  8cee1d824765335c48ccc515c2ecf4b8  4a3ca9315b744ce9f8e9374361493884   \n",
       "3  3e5201fe0d1ba474d9b90152c83c706c  8160255418d5aaa7dbdc9f4c64ebda44   \n",
       "4  3bc1b27ebc43f46dcb6aace1b65325a7  6cd68b3ed6d59aaa9fece558ad360c0a   \n",
       "\n",
       "   shipping_limit_date  price  freight_value product_category_name  \\\n",
       "0  2017-09-19 09:45:35   58.9          13.29            cool_stuff   \n",
       "1  2018-05-02 03:51:18   52.9          22.95       cama_mesa_banho   \n",
       "2  2017-07-28 14:50:11   96.0          15.42       cama_mesa_banho   \n",
       "3  2018-05-16 18:30:50  125.9          13.30       cama_mesa_banho   \n",
       "4  2017-11-10 11:35:46  129.5          16.67      malas_acessorios   \n",
       "\n",
       "   product_name_lenght  product_description_lenght  ...  review_creation_date  \\\n",
       "0                 58.0                       598.0  ...   2017-09-21 00:00:00   \n",
       "1                 53.0                       714.0  ...   2018-05-09 00:00:00   \n",
       "2                 54.0                       385.0  ...   2017-08-04 00:00:00   \n",
       "3                 56.0                       255.0  ...   2018-05-23 00:00:00   \n",
       "4                 43.0                       783.0  ...   2017-11-14 00:00:00   \n",
       "\n",
       "   review_answer_timestamp  review_comment_title_translated  \\\n",
       "0      2017-09-22 10:57:03                              NaN   \n",
       "1      2018-05-10 02:04:02                              NaN   \n",
       "2      2017-08-04 23:33:50                              NaN   \n",
       "3      2018-05-24 02:47:29                               10   \n",
       "4      2017-11-16 14:41:23                              NaN   \n",
       "\n",
       "                   review_comment_message_translated  payment_sequential  \\\n",
       "0  Perfecto, producto entregado antes de la hora ...                   1   \n",
       "1                                                NaN                   1   \n",
       "2  ¡La alfombra es hermosa, es demasiado grande! ...                   1   \n",
       "3                                          Muy buena                   1   \n",
       "4                                                NaN                   1   \n",
       "\n",
       "  payment_type  payment_installments payment_value order_total_price  \\\n",
       "0  credit_card                     2         72.19              58.9   \n",
       "1       boleto                     1         75.85              52.9   \n",
       "2  credit_card                     9        111.42              96.0   \n",
       "3  credit_card                     6        139.20             125.9   \n",
       "4  credit_card                     2        146.17             129.5   \n",
       "\n",
       "   total_products_weight  \n",
       "0                  650.0  \n",
       "1                 1200.0  \n",
       "2                  900.0  \n",
       "3                 1800.0  \n",
       "4                  900.0  \n",
       "\n",
       "[5 rows x 48 columns]"
      ],
      "text/html": "<div>\n<style scoped>\n    .dataframe tbody tr th:only-of-type {\n        vertical-align: middle;\n    }\n\n    .dataframe tbody tr th {\n        vertical-align: top;\n    }\n\n    .dataframe thead th {\n        text-align: right;\n    }\n</style>\n<table border=\"1\" class=\"dataframe\">\n  <thead>\n    <tr style=\"text-align: right;\">\n      <th></th>\n      <th>order_id</th>\n      <th>order_item_id</th>\n      <th>product_id</th>\n      <th>seller_id</th>\n      <th>shipping_limit_date</th>\n      <th>price</th>\n      <th>freight_value</th>\n      <th>product_category_name</th>\n      <th>product_name_lenght</th>\n      <th>product_description_lenght</th>\n      <th>...</th>\n      <th>review_creation_date</th>\n      <th>review_answer_timestamp</th>\n      <th>review_comment_title_translated</th>\n      <th>review_comment_message_translated</th>\n      <th>payment_sequential</th>\n      <th>payment_type</th>\n      <th>payment_installments</th>\n      <th>payment_value</th>\n      <th>order_total_price</th>\n      <th>total_products_weight</th>\n    </tr>\n  </thead>\n  <tbody>\n    <tr>\n      <th>0</th>\n      <td>00010242fe8c5a6d1ba2dd792cb16214</td>\n      <td>1</td>\n      <td>4244733e06e7ecb4970a6e2683c13e61</td>\n      <td>48436dade18ac8b2bce089ec2a041202</td>\n      <td>2017-09-19 09:45:35</td>\n      <td>58.9</td>\n      <td>13.29</td>\n      <td>cool_stuff</td>\n      <td>58.0</td>\n      <td>598.0</td>\n      <td>...</td>\n      <td>2017-09-21 00:00:00</td>\n      <td>2017-09-22 10:57:03</td>\n      <td>NaN</td>\n      <td>Perfecto, producto entregado antes de la hora ...</td>\n      <td>1</td>\n      <td>credit_card</td>\n      <td>2</td>\n      <td>72.19</td>\n      <td>58.9</td>\n      <td>650.0</td>\n    </tr>\n    <tr>\n      <th>1</th>\n      <td>bd31b009e1dbc47fc7c250b1e2cf5440</td>\n      <td>1</td>\n      <td>92e2d2146e433cd4d1f09a3f8633ead0</td>\n      <td>4a3ca9315b744ce9f8e9374361493884</td>\n      <td>2018-05-02 03:51:18</td>\n      <td>52.9</td>\n      <td>22.95</td>\n      <td>cama_mesa_banho</td>\n      <td>53.0</td>\n      <td>714.0</td>\n      <td>...</td>\n      <td>2018-05-09 00:00:00</td>\n      <td>2018-05-10 02:04:02</td>\n      <td>NaN</td>\n      <td>NaN</td>\n      <td>1</td>\n      <td>boleto</td>\n      <td>1</td>\n      <td>75.85</td>\n      <td>52.9</td>\n      <td>1200.0</td>\n    </tr>\n    <tr>\n      <th>2</th>\n      <td>bb4eb0196897c20281a61f75ce23211c</td>\n      <td>1</td>\n      <td>8cee1d824765335c48ccc515c2ecf4b8</td>\n      <td>4a3ca9315b744ce9f8e9374361493884</td>\n      <td>2017-07-28 14:50:11</td>\n      <td>96.0</td>\n      <td>15.42</td>\n      <td>cama_mesa_banho</td>\n      <td>54.0</td>\n      <td>385.0</td>\n      <td>...</td>\n      <td>2017-08-04 00:00:00</td>\n      <td>2017-08-04 23:33:50</td>\n      <td>NaN</td>\n      <td>¡La alfombra es hermosa, es demasiado grande! ...</td>\n      <td>1</td>\n      <td>credit_card</td>\n      <td>9</td>\n      <td>111.42</td>\n      <td>96.0</td>\n      <td>900.0</td>\n    </tr>\n    <tr>\n      <th>3</th>\n      <td>f9847bf9cc7336c6ba07fe2bdbb6cae1</td>\n      <td>1</td>\n      <td>3e5201fe0d1ba474d9b90152c83c706c</td>\n      <td>8160255418d5aaa7dbdc9f4c64ebda44</td>\n      <td>2018-05-16 18:30:50</td>\n      <td>125.9</td>\n      <td>13.30</td>\n      <td>cama_mesa_banho</td>\n      <td>56.0</td>\n      <td>255.0</td>\n      <td>...</td>\n      <td>2018-05-23 00:00:00</td>\n      <td>2018-05-24 02:47:29</td>\n      <td>10</td>\n      <td>Muy buena</td>\n      <td>1</td>\n      <td>credit_card</td>\n      <td>6</td>\n      <td>139.20</td>\n      <td>125.9</td>\n      <td>1800.0</td>\n    </tr>\n    <tr>\n      <th>4</th>\n      <td>53d1f26612893ef17dbc27d69a8382e4</td>\n      <td>1</td>\n      <td>3bc1b27ebc43f46dcb6aace1b65325a7</td>\n      <td>6cd68b3ed6d59aaa9fece558ad360c0a</td>\n      <td>2017-11-10 11:35:46</td>\n      <td>129.5</td>\n      <td>16.67</td>\n      <td>malas_acessorios</td>\n      <td>43.0</td>\n      <td>783.0</td>\n      <td>...</td>\n      <td>2017-11-14 00:00:00</td>\n      <td>2017-11-16 14:41:23</td>\n      <td>NaN</td>\n      <td>NaN</td>\n      <td>1</td>\n      <td>credit_card</td>\n      <td>2</td>\n      <td>146.17</td>\n      <td>129.5</td>\n      <td>900.0</td>\n    </tr>\n  </tbody>\n</table>\n<p>5 rows × 48 columns</p>\n</div>"
     },
     "metadata": {},
     "execution_count": 27
    }
   ],
   "source": [
    "df_complete = pd.merge(df_complete, df_total_weight, on=\"order_id\")\n",
    "print(df_complete.shape)\n",
    "df_complete.head()"
   ]
  },
  {
   "cell_type": "code",
   "execution_count": 28,
   "metadata": {},
   "outputs": [],
   "source": [
    "# Convert geolocation distances to km\n",
    "def euclidian_distance_in_km(lat_1, lon_1, lat_2, lon_2):\n",
    "    # approximate radius of earth in km\n",
    "    R = 6373.0\n",
    "\n",
    "    lat_1 = radians(lat_1)\n",
    "    lon_1 = radians(lon_1)\n",
    "    lat_2 = radians(lat_2)\n",
    "    lon_2 = radians(lon_2)\n",
    "\n",
    "    dist_lon = lon_2 - lon_1\n",
    "    dist_lat = lat_2 - lat_1\n",
    "\n",
    "    a = sin(dist_lat / 2)**2 + cos(lat_1) * cos(lat_2) * sin(dist_lon / 2)**2\n",
    "    c = 2 * atan2(sqrt(a), sqrt(1 - a))\n",
    "\n",
    "    return R * c"
   ]
  },
  {
   "cell_type": "code",
   "execution_count": 29,
   "metadata": {},
   "outputs": [
    {
     "output_type": "stream",
     "name": "stdout",
     "text": [
      "(116007, 49)\n"
     ]
    },
    {
     "output_type": "execute_result",
     "data": {
      "text/plain": [
       "                           order_id  order_item_id  \\\n",
       "0  00010242fe8c5a6d1ba2dd792cb16214              1   \n",
       "1  bd31b009e1dbc47fc7c250b1e2cf5440              1   \n",
       "2  bb4eb0196897c20281a61f75ce23211c              1   \n",
       "3  f9847bf9cc7336c6ba07fe2bdbb6cae1              1   \n",
       "4  53d1f26612893ef17dbc27d69a8382e4              1   \n",
       "\n",
       "                         product_id                         seller_id  \\\n",
       "0  4244733e06e7ecb4970a6e2683c13e61  48436dade18ac8b2bce089ec2a041202   \n",
       "1  92e2d2146e433cd4d1f09a3f8633ead0  4a3ca9315b744ce9f8e9374361493884   \n",
       "2  8cee1d824765335c48ccc515c2ecf4b8  4a3ca9315b744ce9f8e9374361493884   \n",
       "3  3e5201fe0d1ba474d9b90152c83c706c  8160255418d5aaa7dbdc9f4c64ebda44   \n",
       "4  3bc1b27ebc43f46dcb6aace1b65325a7  6cd68b3ed6d59aaa9fece558ad360c0a   \n",
       "\n",
       "   shipping_limit_date  price  freight_value product_category_name  \\\n",
       "0  2017-09-19 09:45:35   58.9          13.29            cool_stuff   \n",
       "1  2018-05-02 03:51:18   52.9          22.95       cama_mesa_banho   \n",
       "2  2017-07-28 14:50:11   96.0          15.42       cama_mesa_banho   \n",
       "3  2018-05-16 18:30:50  125.9          13.30       cama_mesa_banho   \n",
       "4  2017-11-10 11:35:46  129.5          16.67      malas_acessorios   \n",
       "\n",
       "   product_name_lenght  product_description_lenght  ...  \\\n",
       "0                 58.0                       598.0  ...   \n",
       "1                 53.0                       714.0  ...   \n",
       "2                 54.0                       385.0  ...   \n",
       "3                 56.0                       255.0  ...   \n",
       "4                 43.0                       783.0  ...   \n",
       "\n",
       "   review_answer_timestamp  review_comment_title_translated  \\\n",
       "0      2017-09-22 10:57:03                              NaN   \n",
       "1      2018-05-10 02:04:02                              NaN   \n",
       "2      2017-08-04 23:33:50                              NaN   \n",
       "3      2018-05-24 02:47:29                               10   \n",
       "4      2017-11-16 14:41:23                              NaN   \n",
       "\n",
       "                   review_comment_message_translated  payment_sequential  \\\n",
       "0  Perfecto, producto entregado antes de la hora ...                   1   \n",
       "1                                                NaN                   1   \n",
       "2  ¡La alfombra es hermosa, es demasiado grande! ...                   1   \n",
       "3                                          Muy buena                   1   \n",
       "4                                                NaN                   1   \n",
       "\n",
       "   payment_type payment_installments  payment_value order_total_price  \\\n",
       "0   credit_card                    2          72.19              58.9   \n",
       "1        boleto                    1          75.85              52.9   \n",
       "2   credit_card                    9         111.42              96.0   \n",
       "3   credit_card                    6         139.20             125.9   \n",
       "4   credit_card                    2         146.17             129.5   \n",
       "\n",
       "  total_products_weight  euclidian_distance_km  \n",
       "0                 650.0             307.149883  \n",
       "1                1200.0             780.635283  \n",
       "2                 900.0             780.635283  \n",
       "3                1800.0             780.635283  \n",
       "4                 900.0             347.881450  \n",
       "\n",
       "[5 rows x 49 columns]"
      ],
      "text/html": "<div>\n<style scoped>\n    .dataframe tbody tr th:only-of-type {\n        vertical-align: middle;\n    }\n\n    .dataframe tbody tr th {\n        vertical-align: top;\n    }\n\n    .dataframe thead th {\n        text-align: right;\n    }\n</style>\n<table border=\"1\" class=\"dataframe\">\n  <thead>\n    <tr style=\"text-align: right;\">\n      <th></th>\n      <th>order_id</th>\n      <th>order_item_id</th>\n      <th>product_id</th>\n      <th>seller_id</th>\n      <th>shipping_limit_date</th>\n      <th>price</th>\n      <th>freight_value</th>\n      <th>product_category_name</th>\n      <th>product_name_lenght</th>\n      <th>product_description_lenght</th>\n      <th>...</th>\n      <th>review_answer_timestamp</th>\n      <th>review_comment_title_translated</th>\n      <th>review_comment_message_translated</th>\n      <th>payment_sequential</th>\n      <th>payment_type</th>\n      <th>payment_installments</th>\n      <th>payment_value</th>\n      <th>order_total_price</th>\n      <th>total_products_weight</th>\n      <th>euclidian_distance_km</th>\n    </tr>\n  </thead>\n  <tbody>\n    <tr>\n      <th>0</th>\n      <td>00010242fe8c5a6d1ba2dd792cb16214</td>\n      <td>1</td>\n      <td>4244733e06e7ecb4970a6e2683c13e61</td>\n      <td>48436dade18ac8b2bce089ec2a041202</td>\n      <td>2017-09-19 09:45:35</td>\n      <td>58.9</td>\n      <td>13.29</td>\n      <td>cool_stuff</td>\n      <td>58.0</td>\n      <td>598.0</td>\n      <td>...</td>\n      <td>2017-09-22 10:57:03</td>\n      <td>NaN</td>\n      <td>Perfecto, producto entregado antes de la hora ...</td>\n      <td>1</td>\n      <td>credit_card</td>\n      <td>2</td>\n      <td>72.19</td>\n      <td>58.9</td>\n      <td>650.0</td>\n      <td>307.149883</td>\n    </tr>\n    <tr>\n      <th>1</th>\n      <td>bd31b009e1dbc47fc7c250b1e2cf5440</td>\n      <td>1</td>\n      <td>92e2d2146e433cd4d1f09a3f8633ead0</td>\n      <td>4a3ca9315b744ce9f8e9374361493884</td>\n      <td>2018-05-02 03:51:18</td>\n      <td>52.9</td>\n      <td>22.95</td>\n      <td>cama_mesa_banho</td>\n      <td>53.0</td>\n      <td>714.0</td>\n      <td>...</td>\n      <td>2018-05-10 02:04:02</td>\n      <td>NaN</td>\n      <td>NaN</td>\n      <td>1</td>\n      <td>boleto</td>\n      <td>1</td>\n      <td>75.85</td>\n      <td>52.9</td>\n      <td>1200.0</td>\n      <td>780.635283</td>\n    </tr>\n    <tr>\n      <th>2</th>\n      <td>bb4eb0196897c20281a61f75ce23211c</td>\n      <td>1</td>\n      <td>8cee1d824765335c48ccc515c2ecf4b8</td>\n      <td>4a3ca9315b744ce9f8e9374361493884</td>\n      <td>2017-07-28 14:50:11</td>\n      <td>96.0</td>\n      <td>15.42</td>\n      <td>cama_mesa_banho</td>\n      <td>54.0</td>\n      <td>385.0</td>\n      <td>...</td>\n      <td>2017-08-04 23:33:50</td>\n      <td>NaN</td>\n      <td>¡La alfombra es hermosa, es demasiado grande! ...</td>\n      <td>1</td>\n      <td>credit_card</td>\n      <td>9</td>\n      <td>111.42</td>\n      <td>96.0</td>\n      <td>900.0</td>\n      <td>780.635283</td>\n    </tr>\n    <tr>\n      <th>3</th>\n      <td>f9847bf9cc7336c6ba07fe2bdbb6cae1</td>\n      <td>1</td>\n      <td>3e5201fe0d1ba474d9b90152c83c706c</td>\n      <td>8160255418d5aaa7dbdc9f4c64ebda44</td>\n      <td>2018-05-16 18:30:50</td>\n      <td>125.9</td>\n      <td>13.30</td>\n      <td>cama_mesa_banho</td>\n      <td>56.0</td>\n      <td>255.0</td>\n      <td>...</td>\n      <td>2018-05-24 02:47:29</td>\n      <td>10</td>\n      <td>Muy buena</td>\n      <td>1</td>\n      <td>credit_card</td>\n      <td>6</td>\n      <td>139.20</td>\n      <td>125.9</td>\n      <td>1800.0</td>\n      <td>780.635283</td>\n    </tr>\n    <tr>\n      <th>4</th>\n      <td>53d1f26612893ef17dbc27d69a8382e4</td>\n      <td>1</td>\n      <td>3bc1b27ebc43f46dcb6aace1b65325a7</td>\n      <td>6cd68b3ed6d59aaa9fece558ad360c0a</td>\n      <td>2017-11-10 11:35:46</td>\n      <td>129.5</td>\n      <td>16.67</td>\n      <td>malas_acessorios</td>\n      <td>43.0</td>\n      <td>783.0</td>\n      <td>...</td>\n      <td>2017-11-16 14:41:23</td>\n      <td>NaN</td>\n      <td>NaN</td>\n      <td>1</td>\n      <td>credit_card</td>\n      <td>2</td>\n      <td>146.17</td>\n      <td>129.5</td>\n      <td>900.0</td>\n      <td>347.881450</td>\n    </tr>\n  </tbody>\n</table>\n<p>5 rows × 49 columns</p>\n</div>"
     },
     "metadata": {},
     "execution_count": 29
    }
   ],
   "source": [
    "df_complete[\"euclidian_distance_km\"] = df_complete.apply(lambda x: euclidian_distance_in_km(x[\"seller_geolocation_lat\"], x[\"seller_geolocation_lng\"], x[\"customer_geolocation_lat\"], x[\"customer_geolocation_lng\"]), axis=1)\n",
    "print(df_complete.shape)\n",
    "df_complete.head()"
   ]
  },
  {
   "cell_type": "code",
   "execution_count": 30,
   "metadata": {},
   "outputs": [],
   "source": [
    "df_complete[\"shipping_limit_date\"] = df_complete[\"shipping_limit_date\"].astype('datetime64[ns]')\n",
    "df_complete[\"review_creation_date\"] = df_complete[\"review_creation_date\"].astype('datetime64[ns]')\n",
    "df_complete[\"review_answer_timestamp\"] = df_complete[\"review_answer_timestamp\"].astype('datetime64[ns]')\n",
    "df_complete[\"order_purchase_timestamp\"] = df_complete[\"order_purchase_timestamp\"].astype('datetime64[ns]')\n",
    "df_complete[\"order_approved_at\"] = df_complete[\"order_approved_at\"].astype('datetime64[ns]')\n",
    "df_complete[\"order_delivered_carrier_date\"] = df_complete[\"order_delivered_carrier_date\"].astype('datetime64[ns]')\n",
    "df_complete[\"order_delivered_customer_date\"] = df_complete[\"order_delivered_customer_date\"].astype('datetime64[ns]')\n",
    "df_complete[\"order_estimated_delivery_date\"] = df_complete[\"order_estimated_delivery_date\"].astype('datetime64[ns]')"
   ]
  },
  {
   "cell_type": "code",
   "execution_count": 31,
   "metadata": {},
   "outputs": [],
   "source": [
    "def get_datetime_difference(date_begin, date_end):\n",
    "    return date_end - date_begin"
   ]
  },
  {
   "cell_type": "code",
   "execution_count": 32,
   "metadata": {},
   "outputs": [
    {
     "output_type": "stream",
     "name": "stdout",
     "text": [
      "(116007, 50)\n"
     ]
    },
    {
     "output_type": "execute_result",
     "data": {
      "text/plain": [
       "                           order_id  order_item_id  \\\n",
       "0  00010242fe8c5a6d1ba2dd792cb16214              1   \n",
       "1  bd31b009e1dbc47fc7c250b1e2cf5440              1   \n",
       "2  bb4eb0196897c20281a61f75ce23211c              1   \n",
       "3  f9847bf9cc7336c6ba07fe2bdbb6cae1              1   \n",
       "4  53d1f26612893ef17dbc27d69a8382e4              1   \n",
       "\n",
       "                         product_id                         seller_id  \\\n",
       "0  4244733e06e7ecb4970a6e2683c13e61  48436dade18ac8b2bce089ec2a041202   \n",
       "1  92e2d2146e433cd4d1f09a3f8633ead0  4a3ca9315b744ce9f8e9374361493884   \n",
       "2  8cee1d824765335c48ccc515c2ecf4b8  4a3ca9315b744ce9f8e9374361493884   \n",
       "3  3e5201fe0d1ba474d9b90152c83c706c  8160255418d5aaa7dbdc9f4c64ebda44   \n",
       "4  3bc1b27ebc43f46dcb6aace1b65325a7  6cd68b3ed6d59aaa9fece558ad360c0a   \n",
       "\n",
       "  shipping_limit_date  price  freight_value product_category_name  \\\n",
       "0 2017-09-19 09:45:35   58.9          13.29            cool_stuff   \n",
       "1 2018-05-02 03:51:18   52.9          22.95       cama_mesa_banho   \n",
       "2 2017-07-28 14:50:11   96.0          15.42       cama_mesa_banho   \n",
       "3 2018-05-16 18:30:50  125.9          13.30       cama_mesa_banho   \n",
       "4 2017-11-10 11:35:46  129.5          16.67      malas_acessorios   \n",
       "\n",
       "   product_name_lenght  product_description_lenght  ...  \\\n",
       "0                 58.0                       598.0  ...   \n",
       "1                 53.0                       714.0  ...   \n",
       "2                 54.0                       385.0  ...   \n",
       "3                 56.0                       255.0  ...   \n",
       "4                 43.0                       783.0  ...   \n",
       "\n",
       "   review_comment_title_translated  \\\n",
       "0                              NaN   \n",
       "1                              NaN   \n",
       "2                              NaN   \n",
       "3                               10   \n",
       "4                              NaN   \n",
       "\n",
       "                   review_comment_message_translated  payment_sequential  \\\n",
       "0  Perfecto, producto entregado antes de la hora ...                   1   \n",
       "1                                                NaN                   1   \n",
       "2  ¡La alfombra es hermosa, es demasiado grande! ...                   1   \n",
       "3                                          Muy buena                   1   \n",
       "4                                                NaN                   1   \n",
       "\n",
       "   payment_type  payment_installments payment_value  order_total_price  \\\n",
       "0   credit_card                     2         72.19               58.9   \n",
       "1        boleto                     1         75.85               52.9   \n",
       "2   credit_card                     9        111.42               96.0   \n",
       "3   credit_card                     6        139.20              125.9   \n",
       "4   credit_card                     2        146.17              129.5   \n",
       "\n",
       "  total_products_weight euclidian_distance_km  delivery_time_hrs  \n",
       "0                 650.0            307.149883         152.811389  \n",
       "1                1200.0            780.635283          11.695000  \n",
       "2                 900.0            780.635283          53.531667  \n",
       "3                1800.0            780.635283          21.952778  \n",
       "4                 900.0            347.881450          25.781111  \n",
       "\n",
       "[5 rows x 50 columns]"
      ],
      "text/html": "<div>\n<style scoped>\n    .dataframe tbody tr th:only-of-type {\n        vertical-align: middle;\n    }\n\n    .dataframe tbody tr th {\n        vertical-align: top;\n    }\n\n    .dataframe thead th {\n        text-align: right;\n    }\n</style>\n<table border=\"1\" class=\"dataframe\">\n  <thead>\n    <tr style=\"text-align: right;\">\n      <th></th>\n      <th>order_id</th>\n      <th>order_item_id</th>\n      <th>product_id</th>\n      <th>seller_id</th>\n      <th>shipping_limit_date</th>\n      <th>price</th>\n      <th>freight_value</th>\n      <th>product_category_name</th>\n      <th>product_name_lenght</th>\n      <th>product_description_lenght</th>\n      <th>...</th>\n      <th>review_comment_title_translated</th>\n      <th>review_comment_message_translated</th>\n      <th>payment_sequential</th>\n      <th>payment_type</th>\n      <th>payment_installments</th>\n      <th>payment_value</th>\n      <th>order_total_price</th>\n      <th>total_products_weight</th>\n      <th>euclidian_distance_km</th>\n      <th>delivery_time_hrs</th>\n    </tr>\n  </thead>\n  <tbody>\n    <tr>\n      <th>0</th>\n      <td>00010242fe8c5a6d1ba2dd792cb16214</td>\n      <td>1</td>\n      <td>4244733e06e7ecb4970a6e2683c13e61</td>\n      <td>48436dade18ac8b2bce089ec2a041202</td>\n      <td>2017-09-19 09:45:35</td>\n      <td>58.9</td>\n      <td>13.29</td>\n      <td>cool_stuff</td>\n      <td>58.0</td>\n      <td>598.0</td>\n      <td>...</td>\n      <td>NaN</td>\n      <td>Perfecto, producto entregado antes de la hora ...</td>\n      <td>1</td>\n      <td>credit_card</td>\n      <td>2</td>\n      <td>72.19</td>\n      <td>58.9</td>\n      <td>650.0</td>\n      <td>307.149883</td>\n      <td>152.811389</td>\n    </tr>\n    <tr>\n      <th>1</th>\n      <td>bd31b009e1dbc47fc7c250b1e2cf5440</td>\n      <td>1</td>\n      <td>92e2d2146e433cd4d1f09a3f8633ead0</td>\n      <td>4a3ca9315b744ce9f8e9374361493884</td>\n      <td>2018-05-02 03:51:18</td>\n      <td>52.9</td>\n      <td>22.95</td>\n      <td>cama_mesa_banho</td>\n      <td>53.0</td>\n      <td>714.0</td>\n      <td>...</td>\n      <td>NaN</td>\n      <td>NaN</td>\n      <td>1</td>\n      <td>boleto</td>\n      <td>1</td>\n      <td>75.85</td>\n      <td>52.9</td>\n      <td>1200.0</td>\n      <td>780.635283</td>\n      <td>11.695000</td>\n    </tr>\n    <tr>\n      <th>2</th>\n      <td>bb4eb0196897c20281a61f75ce23211c</td>\n      <td>1</td>\n      <td>8cee1d824765335c48ccc515c2ecf4b8</td>\n      <td>4a3ca9315b744ce9f8e9374361493884</td>\n      <td>2017-07-28 14:50:11</td>\n      <td>96.0</td>\n      <td>15.42</td>\n      <td>cama_mesa_banho</td>\n      <td>54.0</td>\n      <td>385.0</td>\n      <td>...</td>\n      <td>NaN</td>\n      <td>¡La alfombra es hermosa, es demasiado grande! ...</td>\n      <td>1</td>\n      <td>credit_card</td>\n      <td>9</td>\n      <td>111.42</td>\n      <td>96.0</td>\n      <td>900.0</td>\n      <td>780.635283</td>\n      <td>53.531667</td>\n    </tr>\n    <tr>\n      <th>3</th>\n      <td>f9847bf9cc7336c6ba07fe2bdbb6cae1</td>\n      <td>1</td>\n      <td>3e5201fe0d1ba474d9b90152c83c706c</td>\n      <td>8160255418d5aaa7dbdc9f4c64ebda44</td>\n      <td>2018-05-16 18:30:50</td>\n      <td>125.9</td>\n      <td>13.30</td>\n      <td>cama_mesa_banho</td>\n      <td>56.0</td>\n      <td>255.0</td>\n      <td>...</td>\n      <td>10</td>\n      <td>Muy buena</td>\n      <td>1</td>\n      <td>credit_card</td>\n      <td>6</td>\n      <td>139.20</td>\n      <td>125.9</td>\n      <td>1800.0</td>\n      <td>780.635283</td>\n      <td>21.952778</td>\n    </tr>\n    <tr>\n      <th>4</th>\n      <td>53d1f26612893ef17dbc27d69a8382e4</td>\n      <td>1</td>\n      <td>3bc1b27ebc43f46dcb6aace1b65325a7</td>\n      <td>6cd68b3ed6d59aaa9fece558ad360c0a</td>\n      <td>2017-11-10 11:35:46</td>\n      <td>129.5</td>\n      <td>16.67</td>\n      <td>malas_acessorios</td>\n      <td>43.0</td>\n      <td>783.0</td>\n      <td>...</td>\n      <td>NaN</td>\n      <td>NaN</td>\n      <td>1</td>\n      <td>credit_card</td>\n      <td>2</td>\n      <td>146.17</td>\n      <td>129.5</td>\n      <td>900.0</td>\n      <td>347.881450</td>\n      <td>25.781111</td>\n    </tr>\n  </tbody>\n</table>\n<p>5 rows × 50 columns</p>\n</div>"
     },
     "metadata": {},
     "execution_count": 32
    }
   ],
   "source": [
    "df_complete[\"delivery_time_hrs\"] = df_complete.apply(lambda x: get_datetime_difference(x[\"order_approved_at\"], x[\"order_delivered_carrier_date\"]), axis=1)\n",
    "df_complete[\"delivery_time_hrs\"] = df_complete[\"delivery_time_hrs\"] / np.timedelta64(1, 'h')\n",
    "print(df_complete.shape)\n",
    "df_complete.head()"
   ]
  },
  {
   "cell_type": "code",
   "execution_count": 33,
   "metadata": {},
   "outputs": [
    {
     "output_type": "execute_result",
     "data": {
      "text/plain": [
       "order_id                                     object\n",
       "order_item_id                                 int64\n",
       "product_id                                   object\n",
       "seller_id                                    object\n",
       "shipping_limit_date                  datetime64[ns]\n",
       "price                                       float64\n",
       "freight_value                               float64\n",
       "product_category_name                        object\n",
       "product_name_lenght                         float64\n",
       "product_description_lenght                  float64\n",
       "product_photos_qty                          float64\n",
       "product_weight_g                            float64\n",
       "product_length_cm                           float64\n",
       "product_height_cm                           float64\n",
       "product_width_cm                            float64\n",
       "product_category_name_english                object\n",
       "seller_zip_code_prefix                        int64\n",
       "seller_city                                  object\n",
       "seller_state                                 object\n",
       "seller_geolocation_lat                      float64\n",
       "seller_geolocation_lng                      float64\n",
       "customer_id                                  object\n",
       "order_status                                 object\n",
       "order_purchase_timestamp             datetime64[ns]\n",
       "order_approved_at                    datetime64[ns]\n",
       "order_delivered_carrier_date         datetime64[ns]\n",
       "order_delivered_customer_date        datetime64[ns]\n",
       "order_estimated_delivery_date        datetime64[ns]\n",
       "customer_unique_id                           object\n",
       "customer_zip_code_prefix                      int64\n",
       "customer_city                                object\n",
       "customer_state                               object\n",
       "customer_geolocation_lat                    float64\n",
       "customer_geolocation_lng                    float64\n",
       "review_id                                    object\n",
       "review_score                                  int64\n",
       "review_comment_title                         object\n",
       "review_comment_message                       object\n",
       "review_creation_date                 datetime64[ns]\n",
       "review_answer_timestamp              datetime64[ns]\n",
       "review_comment_title_translated              object\n",
       "review_comment_message_translated            object\n",
       "payment_sequential                            int64\n",
       "payment_type                                 object\n",
       "payment_installments                          int64\n",
       "payment_value                               float64\n",
       "order_total_price                           float64\n",
       "total_products_weight                       float64\n",
       "euclidian_distance_km                       float64\n",
       "delivery_time_hrs                           float64\n",
       "dtype: object"
      ]
     },
     "metadata": {},
     "execution_count": 33
    }
   ],
   "source": [
    "df_complete.dtypes"
   ]
  },
  {
   "cell_type": "code",
   "execution_count": 34,
   "metadata": {},
   "outputs": [],
   "source": [
    "df_complete.to_csv(\"df_complete.csv\")"
   ]
  },
  {
   "cell_type": "code",
   "execution_count": null,
   "metadata": {},
   "outputs": [],
   "source": []
  }
 ]
}