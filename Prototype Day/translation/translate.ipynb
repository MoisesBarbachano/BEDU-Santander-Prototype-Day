{
 "metadata": {
  "language_info": {
   "codemirror_mode": {
    "name": "ipython",
    "version": 3
   },
   "file_extension": ".py",
   "mimetype": "text/x-python",
   "name": "python",
   "nbconvert_exporter": "python",
   "pygments_lexer": "ipython3",
   "version": "3.9.5"
  },
  "orig_nbformat": 2,
  "kernelspec": {
   "name": "python3",
   "display_name": "Python 3.9.5 64-bit (windows store)"
  },
  "metadata": {
   "interpreter": {
    "hash": "2097b8de0cf559b99a541878d948e75eb032eda4087ac9e140bfcd448ac40ac5"
   }
  },
  "interpreter": {
   "hash": "2097b8de0cf559b99a541878d948e75eb032eda4087ac9e140bfcd448ac40ac5"
  }
 },
 "nbformat": 4,
 "nbformat_minor": 2,
 "cells": [
  {
   "source": [
    "Para traducir las reviews se necesita una cuenta de Google Cloud Platform con el servicio de \"Translate\" activado, se deben generar credenciales para ese servicio, esas credenciales son un archivo json que se debe guardar en la carpeta de este notebook y pasarlo como parámetro a la función \"from_service_account_json\". También el archivo \"olist_order_reviews_dataset.csv\" debe estar en esta carpeta."
   ],
   "cell_type": "markdown",
   "metadata": {}
  },
  {
   "cell_type": "code",
   "execution_count": 1,
   "metadata": {},
   "outputs": [],
   "source": [
    "import six\n",
    "from google.cloud import translate_v2 as translate\n",
    "\n",
    "# This file must contain credentials of Translate Service on a Google Cloud Platform account\n",
    "translate_client = translate.Client.from_service_account_json('credentials.json')\n",
    "def translate_text(target, text):\n",
    "    if text == \"\":\n",
    "        return \"\"\n",
    "\n",
    "    \"\"\"Translates text into the target language.\n",
    "\n",
    "    Target must be an ISO 639-1 language code.\n",
    "    See https://g.co/cloud/translate/v2/translate-reference#supported_languages\n",
    "    \"\"\"\n",
    "    \n",
    "    if isinstance(text, six.binary_type):\n",
    "        text = text.decode(\"utf-8\")\n",
    "\n",
    "    return translate_client.translate(text, target_language=target)[\"translatedText\"]"
   ]
  },
  {
   "cell_type": "code",
   "execution_count": 2,
   "metadata": {},
   "outputs": [],
   "source": [
    "import pandas as pd"
   ]
  },
  {
   "cell_type": "code",
   "execution_count": 3,
   "metadata": {},
   "outputs": [],
   "source": [
    "language = 'en'"
   ]
  },
  {
   "cell_type": "code",
   "execution_count": 4,
   "metadata": {},
   "outputs": [],
   "source": [
    "df = pd.read_csv('olist_order_reviews_dataset.csv', index_col=0)\n",
    "df['review_comment_title'] = df['review_comment_title'].fillna(\"\")\n",
    "df['review_comment_message'] = df['review_comment_message'].fillna(\"\")"
   ]
  },
  {
   "cell_type": "code",
   "execution_count": 5,
   "metadata": {},
   "outputs": [],
   "source": [
    "review_comment_title = df['review_comment_title'].apply(lambda x: translate_text(language, x))\n",
    "review_comment_message = df['review_comment_message'].apply(lambda x: translate_text(language, x))"
   ]
  },
  {
   "cell_type": "code",
   "execution_count": 6,
   "metadata": {},
   "outputs": [],
   "source": [
    "df['review_comment_title_translated'] = review_comment_title"
   ]
  },
  {
   "cell_type": "code",
   "execution_count": 7,
   "metadata": {},
   "outputs": [],
   "source": [
    "df['review_comment_message_translated'] = review_comment_message"
   ]
  },
  {
   "cell_type": "code",
   "execution_count": 8,
   "metadata": {},
   "outputs": [
    {
     "output_type": "execute_result",
     "data": {
      "text/plain": [
       "                                                          order_id  \\\n",
       "review_id                                                            \n",
       "7bc2406110b926393aa56f80a40eba40  73fc7af87114b39712e6da79b0a377eb   \n",
       "80e641a11e56f04c1ad469d5645fdfde  a548910a1c6147796b98fdf73dbeba33   \n",
       "228ce5500dc1d8e020d8d1322874b6f0  f9e4b658b201a9f2ecdecbb34bed034b   \n",
       "e64fb393e7b32834bb789ff8bb30750e  658677c97b385a9be170737859d3511b   \n",
       "f7c4243c7fe1938f181bec41a392bdeb  8e6bfb81e283fa7e4f11123a3fb894f1   \n",
       "\n",
       "                                  review_score review_comment_title  \\\n",
       "review_id                                                             \n",
       "7bc2406110b926393aa56f80a40eba40             4                        \n",
       "80e641a11e56f04c1ad469d5645fdfde             5                        \n",
       "228ce5500dc1d8e020d8d1322874b6f0             5                        \n",
       "e64fb393e7b32834bb789ff8bb30750e             5                        \n",
       "f7c4243c7fe1938f181bec41a392bdeb             5                        \n",
       "\n",
       "                                                             review_comment_message  \\\n",
       "review_id                                                                             \n",
       "7bc2406110b926393aa56f80a40eba40                                                      \n",
       "80e641a11e56f04c1ad469d5645fdfde                                                      \n",
       "228ce5500dc1d8e020d8d1322874b6f0                                                      \n",
       "e64fb393e7b32834bb789ff8bb30750e              Recebi bem antes do prazo estipulado.   \n",
       "f7c4243c7fe1938f181bec41a392bdeb  Parabéns lojas lannister adorei comprar pela I...   \n",
       "\n",
       "                                 review_creation_date review_answer_timestamp  \\\n",
       "review_id                                                                       \n",
       "7bc2406110b926393aa56f80a40eba40  2018-01-18 00:00:00     2018-01-18 21:46:59   \n",
       "80e641a11e56f04c1ad469d5645fdfde  2018-03-10 00:00:00     2018-03-11 03:05:13   \n",
       "228ce5500dc1d8e020d8d1322874b6f0  2018-02-17 00:00:00     2018-02-18 14:36:24   \n",
       "e64fb393e7b32834bb789ff8bb30750e  2017-04-21 00:00:00     2017-04-21 22:02:06   \n",
       "f7c4243c7fe1938f181bec41a392bdeb  2018-03-01 00:00:00     2018-03-02 10:26:53   \n",
       "\n",
       "                                 review_comment_title_translated  \\\n",
       "review_id                                                          \n",
       "7bc2406110b926393aa56f80a40eba40                                   \n",
       "80e641a11e56f04c1ad469d5645fdfde                                   \n",
       "228ce5500dc1d8e020d8d1322874b6f0                                   \n",
       "e64fb393e7b32834bb789ff8bb30750e                                   \n",
       "f7c4243c7fe1938f181bec41a392bdeb                                   \n",
       "\n",
       "                                                  review_comment_message_translated  \n",
       "review_id                                                                            \n",
       "7bc2406110b926393aa56f80a40eba40                                                     \n",
       "80e641a11e56f04c1ad469d5645fdfde                                                     \n",
       "228ce5500dc1d8e020d8d1322874b6f0                                                     \n",
       "e64fb393e7b32834bb789ff8bb30750e  I received it well before the stipulated deadl...  \n",
       "f7c4243c7fe1938f181bec41a392bdeb  Congratulations lannister stores I loved shopp...  "
      ],
      "text/html": "<div>\n<style scoped>\n    .dataframe tbody tr th:only-of-type {\n        vertical-align: middle;\n    }\n\n    .dataframe tbody tr th {\n        vertical-align: top;\n    }\n\n    .dataframe thead th {\n        text-align: right;\n    }\n</style>\n<table border=\"1\" class=\"dataframe\">\n  <thead>\n    <tr style=\"text-align: right;\">\n      <th></th>\n      <th>order_id</th>\n      <th>review_score</th>\n      <th>review_comment_title</th>\n      <th>review_comment_message</th>\n      <th>review_creation_date</th>\n      <th>review_answer_timestamp</th>\n      <th>review_comment_title_translated</th>\n      <th>review_comment_message_translated</th>\n    </tr>\n    <tr>\n      <th>review_id</th>\n      <th></th>\n      <th></th>\n      <th></th>\n      <th></th>\n      <th></th>\n      <th></th>\n      <th></th>\n      <th></th>\n    </tr>\n  </thead>\n  <tbody>\n    <tr>\n      <th>7bc2406110b926393aa56f80a40eba40</th>\n      <td>73fc7af87114b39712e6da79b0a377eb</td>\n      <td>4</td>\n      <td></td>\n      <td></td>\n      <td>2018-01-18 00:00:00</td>\n      <td>2018-01-18 21:46:59</td>\n      <td></td>\n      <td></td>\n    </tr>\n    <tr>\n      <th>80e641a11e56f04c1ad469d5645fdfde</th>\n      <td>a548910a1c6147796b98fdf73dbeba33</td>\n      <td>5</td>\n      <td></td>\n      <td></td>\n      <td>2018-03-10 00:00:00</td>\n      <td>2018-03-11 03:05:13</td>\n      <td></td>\n      <td></td>\n    </tr>\n    <tr>\n      <th>228ce5500dc1d8e020d8d1322874b6f0</th>\n      <td>f9e4b658b201a9f2ecdecbb34bed034b</td>\n      <td>5</td>\n      <td></td>\n      <td></td>\n      <td>2018-02-17 00:00:00</td>\n      <td>2018-02-18 14:36:24</td>\n      <td></td>\n      <td></td>\n    </tr>\n    <tr>\n      <th>e64fb393e7b32834bb789ff8bb30750e</th>\n      <td>658677c97b385a9be170737859d3511b</td>\n      <td>5</td>\n      <td></td>\n      <td>Recebi bem antes do prazo estipulado.</td>\n      <td>2017-04-21 00:00:00</td>\n      <td>2017-04-21 22:02:06</td>\n      <td></td>\n      <td>I received it well before the stipulated deadl...</td>\n    </tr>\n    <tr>\n      <th>f7c4243c7fe1938f181bec41a392bdeb</th>\n      <td>8e6bfb81e283fa7e4f11123a3fb894f1</td>\n      <td>5</td>\n      <td></td>\n      <td>Parabéns lojas lannister adorei comprar pela I...</td>\n      <td>2018-03-01 00:00:00</td>\n      <td>2018-03-02 10:26:53</td>\n      <td></td>\n      <td>Congratulations lannister stores I loved shopp...</td>\n    </tr>\n  </tbody>\n</table>\n</div>"
     },
     "metadata": {},
     "execution_count": 8
    }
   ],
   "source": [
    "df.head()"
   ]
  },
  {
   "cell_type": "code",
   "execution_count": 9,
   "metadata": {},
   "outputs": [],
   "source": [
    "df.to_csv('olist_order_reviews_with_' + language + '_translation_dataset_english.csv')"
   ]
  },
  {
   "cell_type": "code",
   "execution_count": null,
   "metadata": {},
   "outputs": [],
   "source": []
  }
 ]
}